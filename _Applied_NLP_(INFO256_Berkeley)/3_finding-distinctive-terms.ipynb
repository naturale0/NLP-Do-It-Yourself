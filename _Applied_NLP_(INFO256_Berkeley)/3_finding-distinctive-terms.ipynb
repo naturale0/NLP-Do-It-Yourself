{
 "cells": [
  {
   "cell_type": "markdown",
   "id": "subject-enzyme",
   "metadata": {},
   "source": [
    "# Exercise: \n",
    "\n",
    "* distinctive terms between @realdonaldtrump and @AOC\n",
    "* Execute chi-square to find terms that are different\n",
    "* Compare to Mann-Whitney for this data; think about the assumptions that you have with Twitter."
   ]
  },
  {
   "cell_type": "code",
   "execution_count": null,
   "id": "welsh-librarian",
   "metadata": {},
   "outputs": [],
   "source": []
  }
 ],
 "metadata": {
  "kernelspec": {
   "display_name": "pytorch_x86",
   "language": "python",
   "name": "pytorch_x86"
  },
  "language_info": {
   "codemirror_mode": {
    "name": "ipython",
    "version": 3
   },
   "file_extension": ".py",
   "mimetype": "text/x-python",
   "name": "python",
   "nbconvert_exporter": "python",
   "pygments_lexer": "ipython3",
   "version": "3.8.6"
  },
  "toc": {
   "base_numbering": 1,
   "nav_menu": {},
   "number_sections": true,
   "sideBar": true,
   "skip_h1_title": false,
   "title_cell": "Table of Contents",
   "title_sidebar": "Contents",
   "toc_cell": false,
   "toc_position": {},
   "toc_section_display": true,
   "toc_window_display": false
  }
 },
 "nbformat": 4,
 "nbformat_minor": 5
}
