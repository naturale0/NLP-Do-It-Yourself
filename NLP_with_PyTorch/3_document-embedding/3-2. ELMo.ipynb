{
 "cells": [
  {
   "cell_type": "code",
   "execution_count": 1,
   "id": "manufactured-meeting",
   "metadata": {},
   "outputs": [],
   "source": [
    "import torch\n",
    "import torch.nn as nn\n",
    "import torch.nn.functional as F\n",
    "import torch.optim as optim\n",
    "import torch.utils.data as data\n",
    "import torchtext\n",
    "import json\n",
    "import numpy as np\n",
    "import matplotlib.pyplot as plt\n",
    "from tqdm.auto import tqdm\n",
    "from time import time\n",
    "import sys\n",
    "sys.path.append('../../')\n",
    "\n",
    "from utils import *"
   ]
  },
  {
   "cell_type": "markdown",
   "id": "military-painting",
   "metadata": {
    "toc": true
   },
   "source": [
    "<h1>3-2. ELMo<span class=\"tocSkip\"></span></h1>\n",
    "<div class=\"toc\"><ul class=\"toc-item\"><li><span><a href=\"#Prepare-dataset:-IMBD\" data-toc-modified-id=\"Prepare-dataset:-IMBD-1\"><span class=\"toc-item-num\">1&nbsp;&nbsp;</span>Prepare dataset: IMBD</a></span><ul class=\"toc-item\"><li><span><a href=\"#For-pretraining\" data-toc-modified-id=\"For-pretraining-1.1\"><span class=\"toc-item-num\">1.1&nbsp;&nbsp;</span>For pretraining</a></span></li></ul></li><li><span><a href=\"#Build-the-model\" data-toc-modified-id=\"Build-the-model-2\"><span class=\"toc-item-num\">2&nbsp;&nbsp;</span>Build the model</a></span><ul class=\"toc-item\"><li><span><a href=\"#Bidirectional-language-model\" data-toc-modified-id=\"Bidirectional-language-model-2.1\"><span class=\"toc-item-num\">2.1&nbsp;&nbsp;</span>Bidirectional language model</a></span></li><li><span><a href=\"#ELMo\" data-toc-modified-id=\"ELMo-2.2\"><span class=\"toc-item-num\">2.2&nbsp;&nbsp;</span>ELMo</a></span></li></ul></li><li><span><a href=\"#Train-the-model\" data-toc-modified-id=\"Train-the-model-3\"><span class=\"toc-item-num\">3&nbsp;&nbsp;</span>Train the model</a></span><ul class=\"toc-item\"><li><span><a href=\"#Pretrain-bidirectional-language-model\" data-toc-modified-id=\"Pretrain-bidirectional-language-model-3.1\"><span class=\"toc-item-num\">3.1&nbsp;&nbsp;</span>Pretrain bidirectional language model</a></span><ul class=\"toc-item\"><li><span><a href=\"#Intermediate-results\" data-toc-modified-id=\"Intermediate-results-3.1.1\"><span class=\"toc-item-num\">3.1.1&nbsp;&nbsp;</span>Intermediate results</a></span></li></ul></li><li><span><a href=\"#Train-ELMo-for-sentiment-analysis\" data-toc-modified-id=\"Train-ELMo-for-sentiment-analysis-3.2\"><span class=\"toc-item-num\">3.2&nbsp;&nbsp;</span>Train ELMo for sentiment analysis</a></span></li></ul></li></ul></div>"
   ]
  },
  {
   "cell_type": "markdown",
   "id": "stainless-siemens",
   "metadata": {},
   "source": [
    "## Prepare dataset: IMBD"
   ]
  },
  {
   "cell_type": "code",
   "execution_count": 2,
   "id": "prepared-means",
   "metadata": {},
   "outputs": [
    {
     "name": "stderr",
     "output_type": "stream",
     "text": [
      "/home/psh/.pyenv/versions/3.8.7/lib/python3.8/site-packages/thinc/neural/_custom_kernels.py:36: ResourceWarning: unclosed file <_io.TextIOWrapper name='/home/psh/.pyenv/versions/3.8.7/lib/python3.8/site-packages/thinc/neural/_custom_kernels.cu' mode='r' encoding='utf8'>\n",
      "  SRC = (PWD / \"_custom_kernels.cu\").open(\"r\", encoding=\"utf8\").read()\n",
      "ResourceWarning: Enable tracemalloc to get the object allocation traceback\n",
      "/home/psh/.pyenv/versions/3.8.7/lib/python3.8/site-packages/thinc/neural/_custom_kernels.py:39: ResourceWarning: unclosed file <_io.TextIOWrapper name='/home/psh/.pyenv/versions/3.8.7/lib/python3.8/site-packages/thinc/neural/_murmur3.cu' mode='r' encoding='utf8'>\n",
      "  MMH_SRC = (PWD / \"_murmur3.cu\").open(\"r\", encoding=\"utf8\").read()\n",
      "ResourceWarning: Enable tracemalloc to get the object allocation traceback\n",
      "100%|██████████| 25000/25000 [00:27<00:00, 922.04lines/s] \n"
     ]
    }
   ],
   "source": [
    "from torchtext.experimental.datasets import IMDB\n",
    "from torchtext.data.utils import get_tokenizer\n",
    "\n",
    "tokenizer = get_tokenizer(\"spacy\")\n",
    "train, test = IMDB(tokenizer=tokenizer, root=\"../torchdata/\")"
   ]
  },
  {
   "cell_type": "code",
   "execution_count": 3,
   "id": "taken-belly",
   "metadata": {},
   "outputs": [],
   "source": [
    "from collections import Counter\n",
    "\n",
    "vocab = train.get_vocab()\n",
    "\n",
    "v = Counter(['<s>', '</s>'])\n",
    "v = torchtext.vocab.Vocab(v, specials=['<s>', '</s>'])\n",
    "vocab.extend(v)"
   ]
  },
  {
   "cell_type": "code",
   "execution_count": 4,
   "id": "enhanced-adobe",
   "metadata": {},
   "outputs": [],
   "source": [
    "VOCAB_SIZE = len(vocab)\n",
    "ngrams = 2"
   ]
  },
  {
   "cell_type": "markdown",
   "id": "indian-estonia",
   "metadata": {},
   "source": [
    "```python\n",
    "bos = \"<s>\"\n",
    "eos = \"</s>\"\n",
    "\n",
    "x = []\n",
    "y = []\n",
    "for _, words in tqdm(train):\n",
    "    # Begin-of-sentence token\n",
    "    x.append([vocab.stoi[bos]] + words[0:ngrams-1].tolist())\n",
    "    y.append([words[ngrams-1].item(), vocab.stoi[bos]])  # next word, prev word\n",
    "    \n",
    "    # in-sentence tokens\n",
    "    text = words[0:ngrams]\n",
    "    label = [words[ngrams].item(), vocab.stoi[bos]]\n",
    "    x.append(text.tolist())\n",
    "    y.append(label)\n",
    "    \n",
    "    for i in range(1, len(words)-ngrams):\n",
    "        text = words[i:i+ngrams]\n",
    "        label = [words[i+ngrams].item(), words[i-1].item()]\n",
    "        x.append(text.tolist())\n",
    "        y.append(label)\n",
    "        \n",
    "    # End-of-sentence token\n",
    "    x.append(words[i+1:i+ngrams].tolist() + [vocab.stoi[eos]])\n",
    "    y.append([vocab.stoi[eos], words[i].item()])\n",
    "```"
   ]
  },
  {
   "cell_type": "markdown",
   "id": "natural-eagle",
   "metadata": {},
   "source": [
    "```python\n",
    "with open(\"./IMBD_bigram.json\", \"w\") as w:\n",
    "    json.dump({\"data\": x, \"label\": y}, w)\n",
    "```"
   ]
  },
  {
   "cell_type": "code",
   "execution_count": 5,
   "id": "premier-gibraltar",
   "metadata": {},
   "outputs": [],
   "source": [
    "with open(\"./IMBD_bigram.json\") as r:\n",
    "    xy = json.load(r)"
   ]
  },
  {
   "cell_type": "markdown",
   "id": "saved-jersey",
   "metadata": {},
   "source": [
    "### For pretraining"
   ]
  },
  {
   "cell_type": "markdown",
   "id": "resident-dating",
   "metadata": {},
   "source": [
    "* transform to character-level n-gram dataset\n",
    "    * original script\n",
    "```\n",
    "%load https://gist.githubusercontent.com/akurniawan/30719686669dced49e7ced720329a616/raw/7b9f9967c01ce87ac505520a5aa58d3b24c55c66/translation_char_example.py\n",
    "```\n",
    "    * modified\n",
    "```\n",
    "%load https://gist.github.com/naturale0/6bb3b8a5c682bd281de87e408fa71bf1/raw/df8b7e198f149f81c4f72af977760b2eb3226cdf/translation_char_example.py\n",
    "```"
   ]
  },
  {
   "cell_type": "code",
   "execution_count": 6,
   "id": "seasonal-sending",
   "metadata": {},
   "outputs": [],
   "source": [
    "# Modified a little to fit classification\n",
    "import itertools\n",
    "from torchtext.experimental.datasets import TextClassificationDataset\n",
    "from torchtext.vocab import build_vocab_from_iterator\n",
    "from torchtext.experimental.functional import sequential_transforms\n",
    "\n",
    "def build_char_vocab(data, index, \n",
    "                     bow=\"<w>\", eow=\"</w>\",\n",
    "                     bos=\"<s>\", eos=\"</s>\"):\n",
    "    \"\"\"\n",
    "    build character level vocabulary\n",
    "    \"\"\"\n",
    "    tok_list = [\n",
    "        [bow],\n",
    "        [eow],\n",
    "        [bos],\n",
    "        [eos],\n",
    "    ]\n",
    "    for line in data:\n",
    "        tokens = list(itertools.chain.from_iterable(line[index]))\n",
    "        tok_list.append(tokens)\n",
    "    return build_vocab_from_iterator(tok_list)\n",
    "\n",
    "\n",
    "def stoi(vocab):\n",
    "    \"\"\"\n",
    "    change string to index\n",
    "    \"\"\"\n",
    "    def func(tok_iter):\n",
    "        return [[vocab[char] for char in word]\\\n",
    "                for word in tok_iter]\n",
    "\n",
    "    return func\n",
    "\n",
    "\n",
    "def tokenize_char(bow=\"<w>\", eow=\"</w>\", \n",
    "                  bos=\"<s>\", eos=\"</s>\",\n",
    "                  max_word_length=20):\n",
    "    \"\"\"\n",
    "    attach bow, eow token and pad with token\n",
    "    \"\"\"\n",
    "    def func(tok_iter):\n",
    "        result = np.empty((len(tok_iter), max_word_length+2), dtype=object)\n",
    "        result[:] = \"<pad>\"\n",
    "        \n",
    "        for i, word in enumerate(tok_iter):\n",
    "            if \"\".join(word) == \"<s>\":\n",
    "                # Begin-of-sentence token\n",
    "                result[i, :3] = [bow, bos, eow] #+ [\"<pad>\"] * (max_word_length - 1)\n",
    "            elif \"\".join(word) == \"</s>\":\n",
    "                # End-of-sentence token\n",
    "                result[i, :3] = [bow, eos, eow] #+ [\"<pad>\"] * (max_word_length - 1)\n",
    "            else:\n",
    "                # in-sentence words\n",
    "                if len(word) < max_word_length:\n",
    "                    result[i, :len(word)+2] = [bow] + word + [eow]\n",
    "                else:\n",
    "                    result[i, :] = [bow] + word[:max_word_length] + [eow]\n",
    "                \n",
    "                \n",
    "#                 result[:len(tok_iter)] = [\n",
    "#                     [bow] + word + [eow] \\\n",
    "#                     + [\"<pad>\"] * (max_word_length - len(word)) \\\n",
    "#                     if len(word) < max_word_length \\\n",
    "#                     else [bow] + word[:max_word_length] + [eow]\n",
    "#                 for word in tok_iter]\n",
    "\n",
    "        return result\n",
    "\n",
    "    return func"
   ]
  },
  {
   "cell_type": "code",
   "execution_count": 7,
   "id": "adaptive-freedom",
   "metadata": {},
   "outputs": [],
   "source": [
    "x = xy[\"data\"][:]\n",
    "y = xy[\"label\"][:]"
   ]
  },
  {
   "cell_type": "code",
   "execution_count": 8,
   "id": "desirable-certification",
   "metadata": {},
   "outputs": [
    {
     "data": {
      "application/vnd.jupyter.widget-view+json": {
       "model_id": "",
       "version_major": 2,
       "version_minor": 0
      },
      "text/plain": [
       "0it [00:00, ?it/s]"
      ]
     },
     "metadata": {},
     "output_type": "display_data"
    }
   ],
   "source": [
    "# Cache training data for vocabulary construction\n",
    "train_data = [([vocab.itos[ix] for ix in line[0]], line[1]) for line in tqdm(zip(x, y))]"
   ]
  },
  {
   "cell_type": "code",
   "execution_count": 9,
   "id": "noticed-netscape",
   "metadata": {
    "scrolled": true
   },
   "outputs": [
    {
     "data": {
      "text/plain": [
       "[(['<s>', 'I'], [1657, 121411]),\n",
       " (['I', 'rented'], [11, 121411]),\n",
       " (['rented', 'I'], [14567, 11])]"
      ]
     },
     "execution_count": 9,
     "metadata": {},
     "output_type": "execute_result"
    }
   ],
   "source": [
    "train_data[:3]"
   ]
  },
  {
   "cell_type": "code",
   "execution_count": 10,
   "id": "drawn-mainstream",
   "metadata": {
    "scrolled": true
   },
   "outputs": [
    {
     "name": "stderr",
     "output_type": "stream",
     "text": [
      "6810719lines [00:06, 990343.58lines/s] \n"
     ]
    }
   ],
   "source": [
    "# Setup vocabularies (both words and chars)\n",
    "char_vocab = build_char_vocab(train_data, index=0)"
   ]
  },
  {
   "cell_type": "code",
   "execution_count": 11,
   "id": "multiple-remainder",
   "metadata": {},
   "outputs": [],
   "source": [
    "# Building the dataset with character level tokenization\n",
    "def char_tokenizer(words):\n",
    "    return [list(word) for word in words]\n",
    "\n",
    "char_transform = sequential_transforms(\n",
    "    char_tokenizer, \n",
    "    tokenize_char(), \n",
    "    stoi(char_vocab),\n",
    "    lambda x: torch.tensor(x)\n",
    ")\n",
    "\n",
    "trainset = TextClassificationDataset(\n",
    "    train_data,\n",
    "    char_vocab,\n",
    "    (char_transform, lambda x: torch.tensor(x)),\n",
    ")"
   ]
  },
  {
   "cell_type": "code",
   "execution_count": 12,
   "id": "parallel-patient",
   "metadata": {},
   "outputs": [
    {
     "name": "stdout",
     "output_type": "stream",
     "text": [
      "['<w>', 's', 'u', 'r', 'r', 'o', 'u', 'n', 'd', 'e', 'd', '</w>', '<pad>']\n"
     ]
    }
   ],
   "source": [
    "print([[char_vocab.itos[i] for i in w] for w in trainset[17][0]] [1][:13])"
   ]
  },
  {
   "cell_type": "code",
   "execution_count": 13,
   "id": "regulation-innocent",
   "metadata": {},
   "outputs": [],
   "source": [
    "# Prepare DataLoader\n",
    "# def collate_fn(batch):\n",
    "#     text, label = zip(*batch)\n",
    "#     label = torch.LongTensor(label)\n",
    "#     text = torch.stack(text)\n",
    "#     #lens = list(map(lambda x: len(x[(x != 0).all(dim=1)]), text))\n",
    "    \n",
    "#     return text, label\n",
    "\n",
    "pretrainloader = data.DataLoader(trainset, \n",
    "                                 batch_size=256,\n",
    "                                 num_workers=4)"
   ]
  },
  {
   "cell_type": "code",
   "execution_count": 14,
   "id": "crazy-brother",
   "metadata": {},
   "outputs": [
    {
     "data": {
      "text/plain": [
       "(torch.Size([256, 2, 22]), torch.Size([256, 2]))"
      ]
     },
     "execution_count": 14,
     "metadata": {},
     "output_type": "execute_result"
    }
   ],
   "source": [
    "xx, yy = next(iter(pretrainloader))\n",
    "xx.shape, yy.shape"
   ]
  },
  {
   "cell_type": "markdown",
   "id": "asian-fight",
   "metadata": {},
   "source": [
    "## Build the model"
   ]
  },
  {
   "cell_type": "markdown",
   "id": "british-chassis",
   "metadata": {},
   "source": [
    "### Bidirectional language model"
   ]
  },
  {
   "cell_type": "code",
   "execution_count": 15,
   "id": "addressed-guinea",
   "metadata": {},
   "outputs": [],
   "source": [
    "class CharConv(nn.Module):\n",
    "    \n",
    "    def __init__(self):\n",
    "        super(CharConv, self).__init__()\n",
    "        \n",
    "        # Embedding layer\n",
    "        CHAR_EMBEDDING_DIM = 16\n",
    "        self.char_embedding = nn.Embedding(len(char_vocab), CHAR_EMBEDDING_DIM)\n",
    "        \n",
    "        # Conv layers\n",
    "        self.conv1 = nn.Conv2d(CHAR_EMBEDDING_DIM, 2, 1)\n",
    "        self.conv2 = nn.Conv2d(CHAR_EMBEDDING_DIM, 2, (1, 2))\n",
    "        self.conv3 = nn.Conv2d(CHAR_EMBEDDING_DIM, 4, (1, 3))\n",
    "        self.conv4 = nn.Conv2d(CHAR_EMBEDDING_DIM, 8, (1, 4))\n",
    "        self.conv5 = nn.Conv2d(CHAR_EMBEDDING_DIM, 16, (1, 5))\n",
    "        self.conv6 = nn.Conv2d(CHAR_EMBEDDING_DIM, 32, (1, 6))\n",
    "        self.conv7 = nn.Conv2d(CHAR_EMBEDDING_DIM, 64, (1, 7))\n",
    "        self.convs = [\n",
    "            self.conv1, self.conv2, self.conv3,\n",
    "            self.conv4, self.conv5, self.conv6, self.conv7,\n",
    "        ]\n",
    "        \n",
    "    \n",
    "    def forward(self, x):\n",
    "        # character-level convolution\n",
    "        x = self.char_embedding(x).permute(0,3,1,2)\n",
    "        x = [conv(x) for conv in self.convs]\n",
    "        x = [F.max_pool2d(x_c, kernel_size=(1, x_c.shape[3])) for x_c in x]\n",
    "        x = [torch.squeeze(x_p, dim=3) for x_p in x]\n",
    "        x = torch.hstack(x)  # 1, n_batch, concat_length\n",
    "        #x = x.view(2, 0, 1)\n",
    "        \n",
    "        return x"
   ]
  },
  {
   "cell_type": "code",
   "execution_count": 16,
   "id": "raising-correlation",
   "metadata": {},
   "outputs": [],
   "source": [
    "class BiLSTM(nn.Module):\n",
    "    def __init__(self):\n",
    "        super(BiLSTM, self).__init__()\n",
    "        # Bi-LSTM\n",
    "        self.lstm_f1 = nn.LSTM(128, 128)\n",
    "        self.lstm_r1 = nn.LSTM(128, 128)\n",
    "        self.dropout = nn.Dropout(0.1)\n",
    "        self.proj = nn.Linear(128, 64, bias=False)\n",
    "        self.lstm_f2 = nn.LSTM(64, 128)\n",
    "        self.lstm_r2 = nn.LSTM(64, 128)\n",
    "    \n",
    "    def forward(self, x):\n",
    "        ## input shape:\n",
    "        # seq_len, batch_size, 128\n",
    "        \n",
    "        # 1st LSTM layer\n",
    "        x_f = x\n",
    "        x_r = x.flip(dims=[0])\n",
    "        ## forward feed\n",
    "        o_f1, (h_f1, __) = self.lstm_f1(x_f)\n",
    "        o_f1 = self.dropout(o_f1)\n",
    "        ## backward feed\n",
    "        o_r1, (h_r1, __) = self.lstm_r1(x_r)\n",
    "        o_r1 = self.dropout(o_r1)\n",
    "        h1 = torch.stack((h_f1, h_r1)).squeeze(dim=1)\n",
    "        \n",
    "        # main + skip connection\n",
    "        x2_f = self.proj(o_f1 + x_f)\n",
    "        x2_r = self.proj(o_r1 + x_r)\n",
    "        \n",
    "        # 2nd LSTM layer\n",
    "        _, (h_f2, __) = self.lstm_f2(x2_f)\n",
    "        _, (h_r2, __) = self.lstm_r2(x2_r)\n",
    "        h2 = torch.stack((h_f2, h_r2)).squeeze(dim=1)\n",
    "        \n",
    "        return h1, h2"
   ]
  },
  {
   "cell_type": "code",
   "execution_count": 17,
   "id": "artificial-motivation",
   "metadata": {},
   "outputs": [],
   "source": [
    "class BiLangModel(nn.Module):\n",
    "    \"\"\"\n",
    "    Bidirectional language model (will be pretrained)\n",
    "    \"\"\"\n",
    "    def __init__(self, char_cnn, bi_lstm):\n",
    "        super(BiLangModel, self).__init__()\n",
    "        \n",
    "        # Highway connection\n",
    "        CHAR_EMBEDDING_DIM = 16\n",
    "        self.highway = nn.Linear(128, 128)\n",
    "        self.transform = nn.Linear(128, 128)\n",
    "        self.char_cnn = char_cnn\n",
    "        self.bi_lstm = bi_lstm\n",
    "        \n",
    "    def forward(self, x):\n",
    "        # Character-level convolution\n",
    "        x = self.char_cnn(x)\n",
    "        x = x.permute(2, 0, 1)\n",
    "        \n",
    "        # highway\n",
    "        h = self.highway(x)\n",
    "        t_gate = torch.sigmoid(self.transform(x))\n",
    "        c_gate = 1 - t_gate\n",
    "        x_ = h * t_gate + x * c_gate\n",
    "        \n",
    "        # Bi-LSTM\n",
    "        x1, x2 = self.bi_lstm(x_)\n",
    "        \n",
    "        return x, x1, x2"
   ]
  },
  {
   "cell_type": "code",
   "execution_count": 18,
   "id": "double-atlantic",
   "metadata": {},
   "outputs": [],
   "source": [
    "class Pretrainer(nn.Module):\n",
    "    def __init__(self, bilm, ngrams):\n",
    "        super(Pretrainer, self).__init__()\n",
    "        \n",
    "        # last layer: classifier\n",
    "        self.fc = nn.Linear(128, 1024)\n",
    "        self.bilm = bilm\n",
    "        \n",
    "    def forward(self, x):\n",
    "        _, __, x = self.bilm(x)\n",
    "        \n",
    "        # fully-connected layer (classify)\n",
    "        x = x.permute(1, 0, 2)\n",
    "        x = self.fc(x)\n",
    "        \n",
    "        return x"
   ]
  },
  {
   "cell_type": "code",
   "execution_count": 19,
   "id": "crude-japanese",
   "metadata": {},
   "outputs": [
    {
     "data": {
      "text/plain": [
       "(torch.Size([2, 256, 128]),\n",
       " torch.Size([2, 256, 128]),\n",
       " torch.Size([2, 256, 128]),\n",
       " torch.Size([256, 2, 1024]))"
      ]
     },
     "execution_count": 19,
     "metadata": {},
     "output_type": "execute_result"
    }
   ],
   "source": [
    "charconv = CharConv()\n",
    "bilstm = BiLSTM()\n",
    "bilm = BiLangModel(charconv, bilstm)\n",
    "model = Pretrainer(bilm, ngrams)\n",
    "\n",
    "bilm(xx)[0].shape, bilm(xx)[1].shape, bilm(xx)[2].shape, model(xx).shape"
   ]
  },
  {
   "cell_type": "markdown",
   "id": "champion-locator",
   "metadata": {
    "scrolled": false
   },
   "source": [
    "```python\n",
    "from torchviz import make_dot\n",
    "\n",
    "charconv = CharConv()\n",
    "bilstm = BiLSTM()\n",
    "bilm = BiLangModel(charconv, bilstm)\n",
    "\n",
    "model = Pretrainer(bilm, ngrams)\n",
    "optimizer = optim.SGD(model.parameters(), lr=0.01, momentum=0.9)\n",
    "criterion = nn.AdaptiveLogSoftmaxWithLoss(1024, VOCAB_SIZE, cutoffs=[10, 100, 1000, 10000])\n",
    "\n",
    "output = model(xx).view(-1, 1024)\n",
    "target = yy.flatten()\n",
    "\n",
    "make_dot(criterion(output, target).loss).render(\"BiLanguageModel\", format=\"png\")\n",
    "```"
   ]
  },
  {
   "cell_type": "markdown",
   "id": "electrical-valentine",
   "metadata": {},
   "source": [
    "![](BiLanguageModel.png)"
   ]
  },
  {
   "cell_type": "code",
   "execution_count": 164,
   "id": "rapid-kernel",
   "metadata": {},
   "outputs": [
    {
     "data": {
      "application/vnd.jupyter.widget-view+json": {
       "model_id": "264846bd56984815919938067f01ae91",
       "version_major": 2,
       "version_minor": 0
      },
      "text/plain": [
       "  0%|          | 0/200 [00:00<?, ?it/s]"
      ]
     },
     "metadata": {},
     "output_type": "display_data"
    },
    {
     "name": "stdout",
     "output_type": "stream",
     "text": [
      "Stopping early, the loss has diverged\n",
      "Learning rate search finished. See the graph with {finder_name}.plot()\n",
      "LR suggestion: steepest gradient\n",
      "Suggested LR: 3.61E-02\n"
     ]
    },
    {
     "data": {
      "image/png": "[encoded data removed]",
      "text/plain": [
       "<Figure size 432x288 with 1 Axes>"
      ]
     },
     "metadata": {},
     "output_type": "display_data"
    },
    {
     "data": {
      "text/plain": [
       "(<AxesSubplot:xlabel='Learning rate', ylabel='Loss'>, 0.036123426997094324)"
      ]
     },
     "execution_count": 164,
     "metadata": {},
     "output_type": "execute_result"
    }
   ],
   "source": [
    "from torch_lr_finder import LRFinder\n",
    "\n",
    "charconv = CharConv(); bilstm = BiLSTM()\n",
    "bilm = BiLangModel(charconv, bilstm)\n",
    "\n",
    "model = Pretrainer(bilm, ngrams)\n",
    "\n",
    "optimizer = optim.SGD(model.parameters(), lr=1e-2, momentum=0.9)\n",
    "criterion_ = nn.AdaptiveLogSoftmaxWithLoss(\n",
    "    1024, VOCAB_SIZE, cutoffs=[10, 100, 1000, 10000]\n",
    ")\n",
    "criterion = lambda x, y: criterion_(x.view(-1, 1024), y.flatten()).loss\n",
    "\n",
    "lr_finder = LRFinder(model, optimizer, criterion)\n",
    "lr_finder.range_test(pretrainloader, start_lr=1e-3, end_lr=100, num_iter=200)\n",
    "lr_finder.plot(log_lr=True)"
   ]
  },
  {
   "cell_type": "markdown",
   "id": "driven-complement",
   "metadata": {},
   "source": [
    "### ELMo"
   ]
  },
  {
   "cell_type": "code",
   "execution_count": null,
   "id": "continental-genre",
   "metadata": {},
   "outputs": [],
   "source": []
  },
  {
   "cell_type": "markdown",
   "id": "temporal-estate",
   "metadata": {},
   "source": [
    "## Train the model"
   ]
  },
  {
   "cell_type": "markdown",
   "id": "controlled-disaster",
   "metadata": {},
   "source": [
    "### Pretrain bidirectional language model"
   ]
  },
  {
   "cell_type": "code",
   "execution_count": 20,
   "id": "exceptional-optics",
   "metadata": {},
   "outputs": [
    {
     "data": {
      "text/plain": [
       "device(type='cuda')"
      ]
     },
     "execution_count": 20,
     "metadata": {},
     "output_type": "execute_result"
    }
   ],
   "source": [
    "device = torch.device(\"cuda\" if torch.cuda.is_available() else \"cpu\")\n",
    "device"
   ]
  },
  {
   "cell_type": "code",
   "execution_count": 22,
   "id": "potential-links",
   "metadata": {},
   "outputs": [],
   "source": [
    "# initialize model\n",
    "charconv = CharConv()\n",
    "bilstm = BiLSTM()\n",
    "bilm = BiLangModel(charconv, bilstm)\n",
    "\n",
    "model = Pretrainer(bilm, ngrams).to(device)"
   ]
  },
  {
   "cell_type": "code",
   "execution_count": null,
   "id": "conceptual-harmony",
   "metadata": {},
   "outputs": [],
   "source": [
    "# ===== load pretrained model here, then proceed ===== #"
   ]
  },
  {
   "cell_type": "code",
   "execution_count": 32,
   "id": "expensive-relationship",
   "metadata": {},
   "outputs": [
    {
     "data": {
      "text/plain": [
       "Pretrainer(\n",
       "  (fc): Linear(in_features=128, out_features=1024, bias=True)\n",
       "  (bilm): BiLangModel(\n",
       "    (highway): Linear(in_features=128, out_features=128, bias=True)\n",
       "    (transform): Linear(in_features=128, out_features=128, bias=True)\n",
       "    (char_cnn): CharConv(\n",
       "      (char_embedding): Embedding(182, 16)\n",
       "      (conv1): Conv2d(16, 2, kernel_size=(1, 1), stride=(1, 1))\n",
       "      (conv2): Conv2d(16, 2, kernel_size=(1, 2), stride=(1, 1))\n",
       "      (conv3): Conv2d(16, 4, kernel_size=(1, 3), stride=(1, 1))\n",
       "      (conv4): Conv2d(16, 8, kernel_size=(1, 4), stride=(1, 1))\n",
       "      (conv5): Conv2d(16, 16, kernel_size=(1, 5), stride=(1, 1))\n",
       "      (conv6): Conv2d(16, 32, kernel_size=(1, 6), stride=(1, 1))\n",
       "      (conv7): Conv2d(16, 64, kernel_size=(1, 7), stride=(1, 1))\n",
       "    )\n",
       "    (bi_lstm): BiLSTM(\n",
       "      (lstm_f1): LSTM(128, 128)\n",
       "      (lstm_r1): LSTM(128, 128)\n",
       "      (dropout): Dropout(p=0.1, inplace=False)\n",
       "      (proj): Linear(in_features=128, out_features=64, bias=False)\n",
       "      (lstm_f2): LSTM(64, 128)\n",
       "      (lstm_r2): LSTM(64, 128)\n",
       "    )\n",
       "  )\n",
       ")"
      ]
     },
     "execution_count": 32,
     "metadata": {},
     "output_type": "execute_result"
    }
   ],
   "source": [
    "model.to(device)\n",
    "model.train()"
   ]
  },
  {
   "cell_type": "code",
   "execution_count": 33,
   "id": "answering-employee",
   "metadata": {},
   "outputs": [],
   "source": [
    "LR = 0.05\n",
    "N_EPOCH = 100\n",
    "MAX_LR = 0.1\n",
    "\n",
    "optimizer = optim.SGD(model.parameters(), lr=LR, momentum=0.9)\n",
    "criterion = nn.AdaptiveLogSoftmaxWithLoss(\n",
    "    1024, VOCAB_SIZE, cutoffs=[10, 100, 1000, 10000]\n",
    ").to(device)\n",
    "\n",
    "# init scheduler\n",
    "scheduler = optim.lr_scheduler.OneCycleLR(\n",
    "    optimizer, \n",
    "    max_lr=MAX_LR,  # from LR range test plot\n",
    "    epochs=N_EPOCH, \n",
    "    steps_per_epoch=len(pretrainloader)\n",
    ")"
   ]
  },
  {
   "cell_type": "code",
   "execution_count": 34,
   "id": "celtic-allergy",
   "metadata": {},
   "outputs": [],
   "source": [
    "def accuracy(output, y):\n",
    "    with torch.no_grad():\n",
    "        pred = criterion.log_prob(output).argmax(dim=1)\n",
    "    correct = (pred == y).float()\n",
    "    #print(pred.shape, correct.shape)\n",
    "    return correct.sum() / len(correct)"
   ]
  },
  {
   "cell_type": "code",
   "execution_count": 35,
   "id": "julian-spectrum",
   "metadata": {},
   "outputs": [],
   "source": [
    "def train(model, dataloader, criterion, optimizer):\n",
    "    loss_epoch = 0.\n",
    "    acc_epoch = 0.\n",
    "    for x, y in dataloader:\n",
    "        model.zero_grad()\n",
    "        \n",
    "        x = x.to(device)\n",
    "        y = y.flatten().to(device)\n",
    "        \n",
    "        out = model(x).view(-1, 1024)\n",
    "        loss = criterion(out, y).loss\n",
    "        \n",
    "        loss.backward()\n",
    "        optimizer.step()\n",
    "        scheduler.step()\n",
    "        \n",
    "        loss_epoch += loss.item()\n",
    "        acc_epoch += accuracy(out, y).item()\n",
    "        \n",
    "    return loss_epoch, acc_epoch"
   ]
  },
  {
   "cell_type": "code",
   "execution_count": 28,
   "id": "spatial-senior",
   "metadata": {},
   "outputs": [],
   "source": [
    "losses = []\n",
    "accs = []"
   ]
  },
  {
   "cell_type": "code",
   "execution_count": 36,
   "id": "waiting-shape",
   "metadata": {
    "scrolled": true
   },
   "outputs": [
    {
     "name": "stdout",
     "output_type": "stream",
     "text": [
      "epoch: 001, loss:  6.761, acc:  0.1264,  lr:  0.004,  13.0 min\n",
      "epoch: 002, loss:  6.553, acc:  0.1451,  lr:  0.005,  13.1 min\n",
      "epoch: 003, loss:  6.467, acc:  0.1515,  lr:  0.006,  13.0 min\n",
      "epoch: 004, loss:  6.411, acc:  0.1561,  lr:  0.008,  13.1 min\n",
      "epoch: 005, loss:  6.370, acc:  0.1592,  lr:  0.010,  13.0 min\n",
      "epoch: 006, loss:  6.339, acc:  0.1618,  lr:  0.013,  13.0 min\n",
      "epoch: 007, loss:  6.313, acc:  0.1641,  lr:  0.016,  13.0 min\n",
      "epoch: 008, loss:  6.293, acc:  0.1656,  lr:  0.020,  13.0 min\n",
      "epoch: 009, loss:  6.276, acc:  0.1670,  lr:  0.024,  13.0 min\n",
      "epoch: 010, loss:  6.262, acc:  0.1680,  lr:  0.028,  13.0 min\n",
      "epoch: 011, loss:  6.250, acc:  0.1690,  lr:  0.032,  12.9 min\n",
      "epoch: 012, loss:  6.241, acc:  0.1698,  lr:  0.037,  13.0 min\n",
      "epoch: 013, loss:  6.232, acc:  0.1705,  lr:  0.042,  13.0 min\n",
      "epoch: 014, loss:  6.225, acc:  0.1711,  lr:  0.047,  13.0 min\n",
      "epoch: 015, loss:  6.218, acc:  0.1716,  lr:  0.052,  13.0 min\n",
      "epoch: 016, loss:  6.213, acc:  0.1721,  lr:  0.057,  13.0 min\n",
      "epoch: 017, loss:  6.207, acc:  0.1725,  lr:  0.062,  13.0 min\n",
      "epoch: 018, loss:  6.203, acc:  0.1729,  lr:  0.067,  13.0 min\n",
      "epoch: 019, loss:  6.199, acc:  0.1733,  lr:  0.072,  13.0 min\n",
      "epoch: 020, loss:  6.195, acc:  0.1735,  lr:  0.076,  13.0 min\n",
      "epoch: 021, loss:  6.191, acc:  0.1738,  lr:  0.080,  13.0 min\n",
      "epoch: 022, loss:  6.188, acc:  0.1741,  lr:  0.084,  13.0 min\n",
      "epoch: 023, loss:  6.185, acc:  0.1744,  lr:  0.088,  13.0 min\n",
      "epoch: 024, loss:  6.182, acc:  0.1747,  lr:  0.091,  13.0 min\n",
      "epoch: 025, loss:  6.179, acc:  0.1749,  lr:  0.094,  13.0 min\n",
      "epoch: 026, loss:  6.176, acc:  0.1752,  lr:  0.096,  13.0 min\n",
      "epoch: 027, loss:  6.173, acc:  0.1755,  lr:  0.098,  13.1 min\n",
      "epoch: 028, loss:  6.171, acc:  0.1756,  lr:  0.099,  13.0 min\n",
      "epoch: 029, loss:  6.169, acc:  0.1759,  lr:  0.100,  13.0 min\n",
      "epoch: 030, loss:  6.166, acc:  0.1761,  lr:  0.100,  13.0 min\n",
      "epoch: 031, loss:  6.164, acc:  0.1764,  lr:  0.100,  13.0 min\n",
      "epoch: 032, loss:  6.162, acc:  0.1766,  lr:  0.100,  13.0 min\n",
      "epoch: 033, loss:  6.160, acc:  0.1768,  lr:  0.100,  13.0 min\n",
      "epoch: 034, loss:  6.158, acc:  0.1769,  lr:  0.099,  13.0 min\n",
      "epoch: 035, loss:  6.156, acc:  0.1771,  lr:  0.099,  13.0 min\n",
      "epoch: 036, loss:  6.154, acc:  0.1773,  lr:  0.098,  13.0 min\n",
      "epoch: 037, loss:  6.152, acc:  0.1775,  lr:  0.098,  13.0 min\n",
      "epoch: 038, loss:  6.151, acc:  0.1777,  lr:  0.097,  13.0 min\n",
      "epoch: 039, loss:  6.149, acc:  0.1779,  lr:  0.096,  13.0 min\n",
      "epoch: 040, loss:  6.147, acc:  0.1780,  lr:  0.095,  13.0 min\n",
      "epoch: 041, loss:  6.146, acc:  0.1782,  lr:  0.094,  13.0 min\n",
      "epoch: 042, loss:  6.144, acc:  0.1783,  lr:  0.093,  13.0 min\n",
      "epoch: 043, loss:  6.142, acc:  0.1785,  lr:  0.092,  13.0 min\n",
      "epoch: 044, loss:  6.141, acc:  0.1786,  lr:  0.090,  13.0 min\n",
      "epoch: 045, loss:  6.140, acc:  0.1787,  lr:  0.089,  13.0 min\n",
      "epoch: 046, loss:  6.138, acc:  0.1790,  lr:  0.088,  13.0 min\n",
      "epoch: 047, loss:  6.137, acc:  0.1791,  lr:  0.086,  13.0 min\n",
      "epoch: 048, loss:  6.135, acc:  0.1793,  lr:  0.085,  13.1 min\n",
      "epoch: 049, loss:  6.134, acc:  0.1795,  lr:  0.083,  13.0 min\n",
      "epoch: 050, loss:  6.132, acc:  0.1796,  lr:  0.081,  13.0 min\n",
      "epoch: 051, loss:  6.131, acc:  0.1797,  lr:  0.079,  13.0 min\n",
      "epoch: 052, loss:  6.130, acc:  0.1798,  lr:  0.078,  13.0 min\n",
      "epoch: 053, loss:  6.128, acc:  0.1800,  lr:  0.076,  13.0 min\n",
      "epoch: 054, loss:  6.127, acc:  0.1802,  lr:  0.074,  13.0 min\n",
      "epoch: 055, loss:  6.126, acc:  0.1804,  lr:  0.072,  13.0 min\n",
      "epoch: 056, loss:  6.124, acc:  0.1806,  lr:  0.070,  13.0 min\n",
      "epoch: 057, loss:  6.123, acc:  0.1806,  lr:  0.068,  13.0 min\n",
      "epoch: 058, loss:  6.121, acc:  0.1809,  lr:  0.065,  13.0 min\n",
      "epoch: 059, loss:  6.120, acc:  0.1811,  lr:  0.063,  13.0 min\n",
      "epoch: 060, loss:  6.118, acc:  0.1812,  lr:  0.061,  13.0 min\n",
      "epoch: 061, loss:  6.117, acc:  0.1813,  lr:  0.059,  13.0 min\n",
      "epoch: 062, loss:  6.115, acc:  0.1816,  lr:  0.057,  13.0 min\n",
      "epoch: 063, loss:  6.113, acc:  0.1818,  lr:  0.054,  13.1 min\n",
      "epoch: 064, loss:  6.112, acc:  0.1819,  lr:  0.052,  13.0 min\n",
      "epoch: 065, loss:  6.110, acc:  0.1822,  lr:  0.050,  13.0 min\n",
      "epoch: 066, loss:  6.108, acc:  0.1824,  lr:  0.048,  13.0 min\n",
      "epoch: 067, loss:  6.107, acc:  0.1825,  lr:  0.046,  13.1 min\n",
      "epoch: 068, loss:  6.105, acc:  0.1827,  lr:  0.043,  13.0 min\n",
      "epoch: 069, loss:  6.103, acc:  0.1829,  lr:  0.041,  13.0 min\n",
      "epoch: 070, loss:  6.101, acc:  0.1832,  lr:  0.039,  13.0 min\n",
      "epoch: 071, loss:  6.099, acc:  0.1834,  lr:  0.037,  13.0 min\n",
      "epoch: 072, loss:  6.097, acc:  0.1836,  lr:  0.035,  13.0 min\n",
      "epoch: 073, loss:  6.095, acc:  0.1839,  lr:  0.032,  13.0 min\n",
      "epoch: 074, loss:  6.093, acc:  0.1841,  lr:  0.030,  13.0 min\n",
      "epoch: 075, loss:  6.091, acc:  0.1844,  lr:  0.028,  13.0 min\n",
      "epoch: 076, loss:  6.089, acc:  0.1846,  lr:  0.026,  13.0 min\n",
      "epoch: 077, loss:  6.087, acc:  0.1848,  lr:  0.024,  13.1 min\n",
      "epoch: 078, loss:  6.085, acc:  0.1851,  lr:  0.022,  13.0 min\n",
      "epoch: 079, loss:  6.082, acc:  0.1854,  lr:  0.021,  13.0 min\n",
      "epoch: 080, loss:  6.080, acc:  0.1856,  lr:  0.019,  13.0 min\n",
      "epoch: 081, loss:  6.078, acc:  0.1860,  lr:  0.017,  13.0 min\n",
      "epoch: 082, loss:  6.076, acc:  0.1862,  lr:  0.015,  13.0 min\n",
      "epoch: 083, loss:  6.073, acc:  0.1865,  lr:  0.014,  13.0 min\n",
      "epoch: 084, loss:  6.071, acc:  0.1868,  lr:  0.012,  13.1 min\n",
      "epoch: 085, loss:  6.069, acc:  0.1870,  lr:  0.011,  13.0 min\n",
      "epoch: 086, loss:  6.066, acc:  0.1874,  lr:  0.010,  13.0 min\n",
      "epoch: 087, loss:  6.064, acc:  0.1876,  lr:  0.008,  13.0 min\n",
      "epoch: 088, loss:  6.062, acc:  0.1879,  lr:  0.007,  13.0 min\n",
      "epoch: 089, loss:  6.060, acc:  0.1881,  lr:  0.006,  13.0 min\n",
      "epoch: 090, loss:  6.058, acc:  0.1884,  lr:  0.005,  13.1 min\n",
      "epoch: 091, loss:  6.056, acc:  0.1886,  lr:  0.004,  13.0 min\n",
      "epoch: 092, loss:  6.054, acc:  0.1889,  lr:  0.003,  13.0 min\n",
      "epoch: 093, loss:  6.052, acc:  0.1890,  lr:  0.002,  13.0 min\n",
      "epoch: 094, loss:  6.051, acc:  0.1892,  lr:  0.002,  13.0 min\n",
      "epoch: 095, loss:  6.050, acc:  0.1893,  lr:  0.001,  13.0 min\n",
      "epoch: 096, loss:  6.049, acc:  0.1894,  lr:  0.001,  13.0 min\n",
      "epoch: 097, loss:  6.048, acc:  0.1895,  lr:  0.000,  13.0 min\n",
      "epoch: 098, loss:  6.048, acc:  0.1896,  lr:  0.000,  13.1 min\n",
      "epoch: 099, loss:  6.048, acc:  0.1896,  lr:  0.000,  13.0 min\n",
      "epoch: 100, loss:  6.047, acc:  0.1896,  lr:  0.000,  13.0 min\n"
     ]
    }
   ],
   "source": [
    "for i in range(1, N_EPOCH+1):\n",
    "    t0 = time()\n",
    "    \n",
    "    loss_epoch, acc_epoch = train(model, pretrainloader, criterion, optimizer)\n",
    "    losses.append(loss_epoch)\n",
    "    accs.append(acc_epoch)\n",
    "    \n",
    "    t1 = time()\n",
    "    \n",
    "    if i % 1 == 0:\n",
    "        print(f\"epoch: {i:03}, loss: {loss_epoch/len(pretrainloader): .3f}, acc: {acc_epoch/len(pretrainloader): .4f},  lr: {scheduler.get_last_lr()[0]: .3f}, {(t1-t0)/60: .1f} min\")"
   ]
  },
  {
   "cell_type": "code",
   "execution_count": 37,
   "id": "listed-bibliography",
   "metadata": {},
   "outputs": [],
   "source": [
    "torch.save({'model_state_dict': model.state_dict(),\n",
    "            'loss': losses,\n",
    "            'acc': accs},\n",
    "           f\"./ELMo-BiLM_SGD_lr{LR}-{MAX_LR}._momentum0.9_epoch{N_EPOCH}+100.pth\")"
   ]
  },
  {
   "cell_type": "code",
   "execution_count": null,
   "id": "proper-agreement",
   "metadata": {},
   "outputs": [],
   "source": []
  },
  {
   "cell_type": "code",
   "execution_count": 29,
   "id": "direct-learning",
   "metadata": {},
   "outputs": [
    {
     "data": {
      "text/plain": [
       "[<matplotlib.lines.Line2D at 0x7f9e9d2865b0>]"
      ]
     },
     "execution_count": 29,
     "metadata": {},
     "output_type": "execute_result"
    },
    {
     "data": {
      "image/png": "[encoded data removed]",
      "text/plain": [
       "<Figure size 576x216 with 2 Axes>"
      ]
     },
     "metadata": {},
     "output_type": "display_data"
    }
   ],
   "source": [
    "plt.figure(figsize=(8,3))\n",
    "plt.subplot(121)\n",
    "plt.plot(np.array(losses) / len(pretrainloader))\n",
    "plt.subplot(122)\n",
    "plt.plot(np.array(accs) / len(pretrainloader))"
   ]
  },
  {
   "cell_type": "markdown",
   "id": "labeled-birth",
   "metadata": {},
   "source": [
    "#### Intermediate results"
   ]
  },
  {
   "cell_type": "code",
   "execution_count": 31,
   "id": "postal-warner",
   "metadata": {},
   "outputs": [],
   "source": [
    "charconv = CharConv()\n",
    "bilstm = BiLSTM()\n",
    "bilm = BiLangModel(charconv, bilstm)\n",
    "model = Pretrainer(bilm, ngrams)\n",
    "\n",
    "checkpoint = torch.load(\"./ELMo-BiLM_SGD_lr0.05-0.1._momentum0.9_epoch100.pth\",\n",
    "                        map_location=torch.device('cpu'))\n",
    "model.load_state_dict(checkpoint[\"model_state_dict\"])\n",
    "losses = checkpoint[\"loss\"]\n",
    "accs = checkpoint[\"acc\"]"
   ]
  },
  {
   "cell_type": "code",
   "execution_count": null,
   "id": "solid-scratch",
   "metadata": {},
   "outputs": [],
   "source": []
  },
  {
   "cell_type": "code",
   "execution_count": 41,
   "id": "supported-praise",
   "metadata": {},
   "outputs": [],
   "source": [
    "model.to(torch.device(\"cpu\"))\n",
    "model.eval();  # evaluation mode"
   ]
  },
  {
   "cell_type": "code",
   "execution_count": 42,
   "id": "clean-destruction",
   "metadata": {},
   "outputs": [],
   "source": [
    "N_WORDS = 150\n",
    "words = list(zip(*vocab.freqs.most_common(N_WORDS)))[0]\n",
    "words_input = stoi(char_vocab)(tokenize_char()(char_tokenizer(words)))\n",
    "words_input = torch.tensor(words_input).view(N_WORDS, 1, -1)"
   ]
  },
  {
   "cell_type": "code",
   "execution_count": 74,
   "id": "partial-leone",
   "metadata": {},
   "outputs": [],
   "source": [
    "def embedding(words_idx):\n",
    "    if isinstance(words_idx, int):\n",
    "        words_idx = [words_idx]\n",
    "    \n",
    "    words = [vocab.itos[i] for i in words_idx]\n",
    "    \n",
    "    words_input = stoi(char_vocab)(tokenize_char()(char_tokenizer(words)))\n",
    "    words_input = torch.tensor(words_input).view(len(words), 1, -1)\n",
    "    \n",
    "    with torch.no_grad():\n",
    "        out = model.bilm(words_input)\n",
    "        x1 = torch.vstack(out).mean(dim=0)\n",
    "    return x1.detach().T"
   ]
  },
  {
   "cell_type": "code",
   "execution_count": 71,
   "id": "numerical-leadership",
   "metadata": {
    "scrolled": false
   },
   "outputs": [
    {
     "name": "stdout",
     "output_type": "stream",
     "text": [
      "torch.Size([150, 1, 22])\n",
      "torch.Size([1, 150, 128]) torch.Size([2, 150, 128]) torch.Size([2, 150, 128])\n",
      "torch.Size([150, 128])\n"
     ]
    },
    {
     "data": {
      "image/png": "[encoded data removed]",
      "text/plain": [
       "<Figure size 720x720 with 1 Axes>"
      ]
     },
     "metadata": {},
     "output_type": "display_data"
    }
   ],
   "source": [
    "plot_embedding(vocab.freqs, embedding, vocab.stoi);"
   ]
  },
  {
   "cell_type": "code",
   "execution_count": 75,
   "id": "proof-magnet",
   "metadata": {},
   "outputs": [
    {
     "name": "stdout",
     "output_type": "stream",
     "text": [
      "['drivel', 'anger', 'uncle', 'father', 'legend']\n",
      "['slow', 'row', 'new', 'horrid', 'sport']\n",
      "['quote', 'loved', 'live', 'forgive', 'move']\n",
      "['breath', 'depth', 'birth', 'mouth', 'deaths']\n"
     ]
    }
   ],
   "source": [
    "for word in [\"angel\", \"snow\", \"love\", \"death\"]:\n",
    "    print(find_similar(word, vocab.freqs, embedding, vocab.stoi))"
   ]
  },
  {
   "cell_type": "markdown",
   "id": "ruled-natural",
   "metadata": {},
   "source": [
    "### Train ELMo for sentiment analysis"
   ]
  },
  {
   "cell_type": "code",
   "execution_count": null,
   "id": "entertaining-watch",
   "metadata": {},
   "outputs": [],
   "source": []
  },
  {
   "cell_type": "code",
   "execution_count": null,
   "id": "limiting-local",
   "metadata": {},
   "outputs": [],
   "source": []
  },
  {
   "cell_type": "code",
   "execution_count": null,
   "id": "painted-basics",
   "metadata": {},
   "outputs": [],
   "source": []
  },
  {
   "cell_type": "code",
   "execution_count": null,
   "id": "featured-bolivia",
   "metadata": {},
   "outputs": [],
   "source": []
  },
  {
   "cell_type": "code",
   "execution_count": null,
   "id": "funny-lancaster",
   "metadata": {},
   "outputs": [],
   "source": []
  },
  {
   "cell_type": "code",
   "execution_count": null,
   "id": "turned-boating",
   "metadata": {},
   "outputs": [],
   "source": []
  },
  {
   "cell_type": "code",
   "execution_count": null,
   "id": "editorial-afternoon",
   "metadata": {},
   "outputs": [],
   "source": []
  },
  {
   "cell_type": "code",
   "execution_count": null,
   "id": "surgical-commerce",
   "metadata": {},
   "outputs": [],
   "source": []
  }
 ],
 "metadata": {
  "kernelspec": {
   "display_name": "Python 3",
   "language": "python",
   "name": "python3"
  },
  "toc": {
   "base_numbering": 1,
   "nav_menu": {},
   "number_sections": true,
   "sideBar": true,
   "skip_h1_title": false,
   "title_cell": "3-2. ELMo",
   "title_sidebar": "Contents",
   "toc_cell": true,
   "toc_position": {},
   "toc_section_display": true,
   "toc_window_display": false
  }
 },
 "nbformat": 4,
 "nbformat_minor": 5
}
