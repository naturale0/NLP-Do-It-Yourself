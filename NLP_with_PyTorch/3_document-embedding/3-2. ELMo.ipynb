{
 "cells": [
  {
   "cell_type": "code",
   "execution_count": 1,
   "id": "manufactured-meeting",
   "metadata": {},
   "outputs": [],
   "source": [
    "import torch\n",
    "import torch.nn as nn\n",
    "import torch.nn.functional as F\n",
    "import torch.optim as optim\n",
    "import torch.utils.data as data\n",
    "import torchtext\n",
    "import json\n",
    "import numpy as np\n",
    "import matplotlib.pyplot as plt\n",
    "from tqdm import tqdm\n",
    "from time import time\n",
    "import sys\n",
    "sys.path.append('../../')\n",
    "\n",
    "from utils import *"
   ]
  },
  {
   "cell_type": "markdown",
   "id": "military-painting",
   "metadata": {
    "toc": true
   },
   "source": [
    "<h1>3-2. ELMo<span class=\"tocSkip\"></span></h1>\n",
    "<div class=\"toc\"><ul class=\"toc-item\"><li><span><a href=\"#Prepare-dataset:-IMBD\" data-toc-modified-id=\"Prepare-dataset:-IMBD-1\"><span class=\"toc-item-num\">1&nbsp;&nbsp;</span>Prepare dataset: IMBD</a></span><ul class=\"toc-item\"><li><span><a href=\"#For-pretraining\" data-toc-modified-id=\"For-pretraining-1.1\"><span class=\"toc-item-num\">1.1&nbsp;&nbsp;</span>For pretraining</a></span></li></ul></li><li><span><a href=\"#Build-the-model\" data-toc-modified-id=\"Build-the-model-2\"><span class=\"toc-item-num\">2&nbsp;&nbsp;</span>Build the model</a></span><ul class=\"toc-item\"><li><span><a href=\"#Bidirectional-language-model\" data-toc-modified-id=\"Bidirectional-language-model-2.1\"><span class=\"toc-item-num\">2.1&nbsp;&nbsp;</span>Bidirectional language model</a></span></li><li><span><a href=\"#ELMo\" data-toc-modified-id=\"ELMo-2.2\"><span class=\"toc-item-num\">2.2&nbsp;&nbsp;</span>ELMo</a></span></li></ul></li><li><span><a href=\"#Train-the-model\" data-toc-modified-id=\"Train-the-model-3\"><span class=\"toc-item-num\">3&nbsp;&nbsp;</span>Train the model</a></span><ul class=\"toc-item\"><li><span><a href=\"#Pretrain-bidirectional-language-model\" data-toc-modified-id=\"Pretrain-bidirectional-language-model-3.1\"><span class=\"toc-item-num\">3.1&nbsp;&nbsp;</span>Pretrain bidirectional language model</a></span><ul class=\"toc-item\"><li><span><a href=\"#Intermediate-results\" data-toc-modified-id=\"Intermediate-results-3.1.1\"><span class=\"toc-item-num\">3.1.1&nbsp;&nbsp;</span>Intermediate results</a></span></li></ul></li><li><span><a href=\"#Train-ELMo-for-sentiment-analysis\" data-toc-modified-id=\"Train-ELMo-for-sentiment-analysis-3.2\"><span class=\"toc-item-num\">3.2&nbsp;&nbsp;</span>Train ELMo for sentiment analysis</a></span></li></ul></li></ul></div>"
   ]
  },
  {
   "cell_type": "markdown",
   "id": "stainless-siemens",
   "metadata": {},
   "source": [
    "## Prepare dataset: IMBD"
   ]
  },
  {
   "cell_type": "code",
   "execution_count": 2,
   "id": "prepared-means",
   "metadata": {},
   "outputs": [
    {
     "name": "stderr",
     "output_type": "stream",
     "text": [
      "aclImdb_v1.tar.gz: 100%|██████████| 84.1M/84.1M [01:45<00:00, 799kB/s] \n",
      "100%|██████████| 25000/25000 [00:24<00:00, 1023.84lines/s]\n"
     ]
    }
   ],
   "source": [
    "from torchtext.experimental.datasets import IMDB\n",
    "from torchtext.data.utils import get_tokenizer\n",
    "\n",
    "tokenizer = get_tokenizer(\"spacy\")\n",
    "train, test = IMDB(tokenizer=tokenizer, root=\"../torchdata/\")"
   ]
  },
  {
   "cell_type": "code",
   "execution_count": 3,
   "id": "taken-belly",
   "metadata": {},
   "outputs": [],
   "source": [
    "from collections import Counter\n",
    "\n",
    "vocab = train.get_vocab()\n",
    "\n",
    "v = Counter(['<s>', '</s>'])\n",
    "v = torchtext.vocab.Vocab(v, specials=['<s>', '</s>'])\n",
    "vocab.extend(v)"
   ]
  },
  {
   "cell_type": "code",
   "execution_count": 4,
   "id": "enhanced-adobe",
   "metadata": {},
   "outputs": [],
   "source": [
    "VOCAB_SIZE = len(vocab)\n",
    "ngrams = 2"
   ]
  },
  {
   "cell_type": "markdown",
   "id": "selective-paraguay",
   "metadata": {},
   "source": [
    "```python\n",
    "ngrams = 2\n",
    "bos = \"<s>\"\n",
    "eos = \"</s>\"\n",
    "\n",
    "x = []\n",
    "y = []\n",
    "for _, words in tqdm(train):\n",
    "    # Begin-of-sentence token\n",
    "    x.append([vocab.stoi[bos]] + words[0:ngrams-1].tolist())\n",
    "    y.append(words[ngrams-1].item())\n",
    "    \n",
    "    # in-sentence tokens\n",
    "    for i in range(len(words)-ngrams):\n",
    "        text = words[i:i+ngrams]\n",
    "        label = words[i+ngrams]\n",
    "        x.append(text.tolist())\n",
    "        y.append(label.tolist())\n",
    "        \n",
    "    # End-of-sentence token\n",
    "    x.append(words[i+1:i+ngrams].tolist() + [vocab.stoi[eos]])\n",
    "    y.append(vocab.stoi[eos])\n",
    "```"
   ]
  },
  {
   "cell_type": "markdown",
   "id": "driving-sharp",
   "metadata": {},
   "source": [
    "```python\n",
    "with open(\"./IMBD_bigram.json\", \"w\") as w:\n",
    "    json.dump({\"data\": x, \"label\": y}, w)\n",
    "```"
   ]
  },
  {
   "cell_type": "code",
   "execution_count": 5,
   "id": "premier-gibraltar",
   "metadata": {},
   "outputs": [],
   "source": [
    "with open(\"./IMBD_bigram.json\") as r:\n",
    "    xy = json.load(r)"
   ]
  },
  {
   "cell_type": "markdown",
   "id": "saved-jersey",
   "metadata": {},
   "source": [
    "### For pretraining"
   ]
  },
  {
   "cell_type": "markdown",
   "id": "resident-dating",
   "metadata": {},
   "source": [
    "* transform to character-level n-gram dataset\n",
    "    * original script\n",
    "```\n",
    "%load https://gist.githubusercontent.com/akurniawan/30719686669dced49e7ced720329a616/raw/7b9f9967c01ce87ac505520a5aa58d3b24c55c66/translation_char_example.py\n",
    "```\n",
    "    * modified\n",
    "```\n",
    "%load https://gist.github.com/naturale0/6bb3b8a5c682bd281de87e408fa71bf1/raw/df8b7e198f149f81c4f72af977760b2eb3226cdf/translation_char_example.py\n",
    "```"
   ]
  },
  {
   "cell_type": "code",
   "execution_count": 6,
   "id": "seasonal-sending",
   "metadata": {},
   "outputs": [],
   "source": [
    "# Modified a little to fit classification\n",
    "import itertools\n",
    "from torchtext.experimental.datasets import TextClassificationDataset\n",
    "from torchtext.vocab import build_vocab_from_iterator\n",
    "from torchtext.experimental.functional import sequential_transforms\n",
    "\n",
    "def build_char_vocab(data, index, \n",
    "                     bow=\"<w>\", eow=\"</w>\",\n",
    "                     bos=\"<s>\", eos=\"</s>\"):\n",
    "    \"\"\"\n",
    "    build character level vocabulary\n",
    "    \"\"\"\n",
    "    tok_list = [\n",
    "        [bow],\n",
    "        [eow],\n",
    "        [bos],\n",
    "        [eos],\n",
    "    ]\n",
    "    for line in data:\n",
    "        tokens = list(itertools.chain.from_iterable(line[index]))\n",
    "        tok_list.append(tokens)\n",
    "    return build_vocab_from_iterator(tok_list)\n",
    "\n",
    "\n",
    "def stoi(vocab):\n",
    "    \"\"\"\n",
    "    change string to index\n",
    "    \"\"\"\n",
    "    def func(tok_iter):\n",
    "        return [[vocab[char] for char in word]\\\n",
    "                for word in tok_iter]\n",
    "\n",
    "    return func\n",
    "\n",
    "\n",
    "def tokenize_char(bow=\"<w>\", eow=\"</w>\", \n",
    "                  bos=\"<s>\", eos=\"</s>\",\n",
    "                  max_word_length=20):\n",
    "    \"\"\"\n",
    "    attach bow, eow token and pad with token\n",
    "    \"\"\"\n",
    "    def func(tok_iter):\n",
    "        result = np.empty((len(tok_iter), max_word_length+2), dtype=object)\n",
    "        result[:] = \"<pad>\"\n",
    "        \n",
    "        for i, word in enumerate(tok_iter):\n",
    "            if \"\".join(word) == \"<s>\":\n",
    "                # Begin-of-sentence token\n",
    "                result[i, :3] = [bow, bos, eow] #+ [\"<pad>\"] * (max_word_length - 1)\n",
    "            elif \"\".join(word) == \"</s>\":\n",
    "                # End-of-sentence token\n",
    "                result[i, :3] = [bow, eos, eow] #+ [\"<pad>\"] * (max_word_length - 1)\n",
    "            else:\n",
    "                # in-sentence words\n",
    "                if len(word) < max_word_length:\n",
    "                    result[i, :len(word)+2] = [bow] + word + [eow]\n",
    "                else:\n",
    "                    result[i, :] = [bow] + word[:max_word_length] + [eow]\n",
    "                \n",
    "                \n",
    "#                 result[:len(tok_iter)] = [\n",
    "#                     [bow] + word + [eow] \\\n",
    "#                     + [\"<pad>\"] * (max_word_length - len(word)) \\\n",
    "#                     if len(word) < max_word_length \\\n",
    "#                     else [bow] + word[:max_word_length] + [eow]\n",
    "#                 for word in tok_iter]\n",
    "\n",
    "        return result\n",
    "\n",
    "    return func"
   ]
  },
  {
   "cell_type": "code",
   "execution_count": 7,
   "id": "adaptive-freedom",
   "metadata": {},
   "outputs": [],
   "source": [
    "x = xy[\"data\"]\n",
    "y = xy[\"label\"]"
   ]
  },
  {
   "cell_type": "code",
   "execution_count": 8,
   "id": "desirable-certification",
   "metadata": {},
   "outputs": [
    {
     "name": "stderr",
     "output_type": "stream",
     "text": [
      "6810715it [00:06, 1048058.83it/s]\n"
     ]
    }
   ],
   "source": [
    "# Cache training data for vocabulary construction\n",
    "train_data = [([vocab.itos[ix] for ix in line[0]], line[1]) for line in tqdm(zip(x, y))]"
   ]
  },
  {
   "cell_type": "code",
   "execution_count": 9,
   "id": "noticed-netscape",
   "metadata": {
    "scrolled": true
   },
   "outputs": [
    {
     "data": {
      "text/plain": [
       "[(['<s>', 'I'], 1657), (['I', 'rented'], 11), (['rented', 'I'], 14567)]"
      ]
     },
     "execution_count": 9,
     "metadata": {},
     "output_type": "execute_result"
    }
   ],
   "source": [
    "train_data[:3]"
   ]
  },
  {
   "cell_type": "code",
   "execution_count": 10,
   "id": "drawn-mainstream",
   "metadata": {
    "scrolled": true
   },
   "outputs": [
    {
     "name": "stderr",
     "output_type": "stream",
     "text": [
      "6810719lines [00:07, 900031.96lines/s]\n"
     ]
    }
   ],
   "source": [
    "# Setup vocabularies (both words and chars)\n",
    "char_vocab = build_char_vocab(train_data, index=0)"
   ]
  },
  {
   "cell_type": "code",
   "execution_count": 11,
   "id": "multiple-remainder",
   "metadata": {},
   "outputs": [],
   "source": [
    "# Building the dataset with character level tokenization\n",
    "def char_tokenizer(words):\n",
    "    return [list(word) for word in words]\n",
    "\n",
    "char_transform = sequential_transforms(\n",
    "    char_tokenizer, \n",
    "    tokenize_char(), \n",
    "    stoi(char_vocab),\n",
    "    lambda x: torch.tensor(x)\n",
    ")\n",
    "\n",
    "trainset = TextClassificationDataset(\n",
    "    train_data,\n",
    "    char_vocab,\n",
    "    (char_transform, lambda x: x),\n",
    ")"
   ]
  },
  {
   "cell_type": "code",
   "execution_count": 12,
   "id": "parallel-patient",
   "metadata": {},
   "outputs": [
    {
     "name": "stdout",
     "output_type": "stream",
     "text": [
      "['<w>', 's', 'u', 'r', 'r', 'o', 'u', 'n', 'd', 'e', 'd', '</w>', '<pad>']\n"
     ]
    }
   ],
   "source": [
    "print([[char_vocab.itos[i] for i in w] for w in trainset[17][0]] [1][:13])"
   ]
  },
  {
   "cell_type": "code",
   "execution_count": 17,
   "id": "regulation-innocent",
   "metadata": {},
   "outputs": [],
   "source": [
    "# Prepare DataLoader\n",
    "# def collate_fn(batch):\n",
    "#     text, label = zip(*batch)\n",
    "#     label = torch.LongTensor(label)\n",
    "#     text = torch.stack(text)\n",
    "#     #lens = list(map(lambda x: len(x[(x != 0).all(dim=1)]), text))\n",
    "    \n",
    "#     return text, label\n",
    "\n",
    "pretrainloader = data.DataLoader(trainset, \n",
    "                                 batch_size=256)"
   ]
  },
  {
   "cell_type": "code",
   "execution_count": 131,
   "id": "southeast-single",
   "metadata": {},
   "outputs": [],
   "source": [
    "xx, yy = next(iter(pretrainloader))"
   ]
  },
  {
   "cell_type": "markdown",
   "id": "asian-fight",
   "metadata": {},
   "source": [
    "## Build the model"
   ]
  },
  {
   "cell_type": "markdown",
   "id": "british-chassis",
   "metadata": {},
   "source": [
    "### Bidirectional language model"
   ]
  },
  {
   "cell_type": "code",
   "execution_count": 132,
   "id": "addressed-guinea",
   "metadata": {},
   "outputs": [],
   "source": [
    "class CharConv(nn.Module):\n",
    "    \n",
    "    def __init__(self):\n",
    "        super(CharConv, self).__init__()\n",
    "        \n",
    "        # Embedding layer\n",
    "        CHAR_EMBEDDING_DIM = 16\n",
    "        self.char_embedding = nn.Embedding(len(char_vocab), CHAR_EMBEDDING_DIM)\n",
    "        \n",
    "        # Conv layers\n",
    "        self.conv1 = nn.Conv2d(CHAR_EMBEDDING_DIM, 2, 1)\n",
    "        self.conv2 = nn.Conv2d(CHAR_EMBEDDING_DIM, 2, (1, 2))\n",
    "        self.conv3 = nn.Conv2d(CHAR_EMBEDDING_DIM, 4, (1, 3))\n",
    "        self.conv4 = nn.Conv2d(CHAR_EMBEDDING_DIM, 8, (1, 4))\n",
    "        self.conv5 = nn.Conv2d(CHAR_EMBEDDING_DIM, 16, (1, 5))\n",
    "        self.conv6 = nn.Conv2d(CHAR_EMBEDDING_DIM, 32, (1, 6))\n",
    "        self.conv7 = nn.Conv2d(CHAR_EMBEDDING_DIM, 64, (1, 7))\n",
    "        self.convs = [\n",
    "            self.conv1, self.conv2, self.conv3,\n",
    "            self.conv4, self.conv5, self.conv6, self.conv7,\n",
    "        ]\n",
    "        \n",
    "    \n",
    "    def forward(self, x):\n",
    "        # character-level convolution\n",
    "        x = self.char_embedding(x).permute(0,3,1,2)\n",
    "        x = [conv(x) for conv in self.convs]\n",
    "        x = [F.max_pool2d(x_c, kernel_size=(1, x_c.shape[3])) for x_c in x]\n",
    "        x = [torch.squeeze(x_p, dim=3) for x_p in x]\n",
    "        x = torch.hstack(x)  # 1, n_batch, concat_length\n",
    "        #x = x.view(2, 0, 1)\n",
    "        \n",
    "        return x"
   ]
  },
  {
   "cell_type": "code",
   "execution_count": 181,
   "id": "raising-correlation",
   "metadata": {},
   "outputs": [],
   "source": [
    "class BiLSTM(nn.Module):\n",
    "    def __init__(self):\n",
    "        super(BiLSTM, self).__init__()\n",
    "        # Bi-LSTM\n",
    "        self.lstm1 = nn.LSTM(128, 1024, bidirectional=True)\n",
    "        self.dropout = nn.Dropout(0.1)\n",
    "        self.proj = nn.Linear(2*1024, 2*128, bias=False)\n",
    "        self.lstm2 = nn.LSTM(2*128, 1024, bidirectional=True)\n",
    "    \n",
    "    def forward(self, x):\n",
    "        ## reshape input\n",
    "        #x = x.view(-1, 128, ngrams).permute(2, 0, 1)\n",
    "        \n",
    "        # 1st LSTM layer\n",
    "        o, (h1, __) = self.lstm1(x)\n",
    "        o = self.dropout(o)\n",
    "        \n",
    "        # main connection\n",
    "        p = self.proj(o)\n",
    "        \n",
    "        # skip connection\n",
    "        x2 = x.repeat(1,1,2)\n",
    "        x3 = x2 + p\n",
    "        \n",
    "        # 2nd LSTM layer\n",
    "        _, (h2, __) = self.lstm2(x3)\n",
    "        return h1, h2"
   ]
  },
  {
   "cell_type": "code",
   "execution_count": 182,
   "id": "artificial-motivation",
   "metadata": {},
   "outputs": [],
   "source": [
    "class BiLangModel(nn.Module):\n",
    "    \"\"\"\n",
    "    Bidirectional language model (will be pretrained)\n",
    "    \"\"\"\n",
    "    def __init__(self, char_cnn, bi_lstm):\n",
    "        super(BiLangModel, self).__init__()\n",
    "        \n",
    "        # Highway connection\n",
    "        CHAR_EMBEDDING_DIM = 16\n",
    "        self.highway = nn.Linear(128, 128)\n",
    "        self.transform = nn.Linear(128, 128)\n",
    "        self.char_cnn = char_cnn\n",
    "        self.bi_lstm = bi_lstm\n",
    "        \n",
    "        # last layer: classifier\n",
    "        self.fc = nn.Linear(ngrams * 1024, 1024)\n",
    "        \n",
    "    def forward(self, x):\n",
    "        # Character-level convolution\n",
    "        x = self.char_cnn(x)\n",
    "        x = x.permute(2, 0, 1)\n",
    "        \n",
    "        # highway\n",
    "        h = self.highway(x)\n",
    "        t_gate = torch.sigmoid(self.transform(x))\n",
    "        c_gate = 1 - t_gate\n",
    "        x = h * t_gate + x * c_gate\n",
    "        \n",
    "        # Bi-LSTM\n",
    "        x1, x2 = self.bi_lstm(x)\n",
    "        \n",
    "        return x1, x2"
   ]
  },
  {
   "cell_type": "code",
   "execution_count": 183,
   "id": "double-atlantic",
   "metadata": {},
   "outputs": [],
   "source": [
    "class Pretrainer(nn.Module):\n",
    "    def __init__(self, bilm, ngrams):\n",
    "        super(Pretrainer, self).__init__()\n",
    "        \n",
    "        # last layer: classifier\n",
    "        self.fc = nn.Linear(ngrams * 1024, 1024)\n",
    "        self.bilm = bilm\n",
    "        \n",
    "    def forward(self, x):\n",
    "        _, x = self.bilm(x)\n",
    "        \n",
    "        # fully-connected layer (classify)\n",
    "        x = x.view(-1, ngrams * 1024)\n",
    "        x = self.fc(x)\n",
    "        \n",
    "        return x"
   ]
  },
  {
   "cell_type": "code",
   "execution_count": 184,
   "id": "crude-japanese",
   "metadata": {},
   "outputs": [
    {
     "data": {
      "text/plain": [
       "torch.Size([256, 1024])"
      ]
     },
     "execution_count": 184,
     "metadata": {},
     "output_type": "execute_result"
    }
   ],
   "source": [
    "charconv = CharConv()\n",
    "bilstm = BiLSTM()\n",
    "bilm = BiLangModel(charconv, bilstm)\n",
    "model = Pretrainer(bilm, ngrams)\n",
    "model(xx).shape"
   ]
  },
  {
   "cell_type": "markdown",
   "id": "swedish-hamilton",
   "metadata": {
    "scrolled": false
   },
   "source": [
    "```python\n",
    "from torchviz import make_dot\n",
    "\n",
    "charconv = CharConv()\n",
    "bilstm = BiLSTM()\n",
    "bilm = BiLangModel(charconv, bilstm)\n",
    "\n",
    "model = Pretrainer(bilm, ngrams)\n",
    "optimizer = optim.SGD(model.parameters(), lr=0.01, momentum=0.9)\n",
    "criterion = nn.AdaptiveLogSoftmaxWithLoss(1024, VOCAB_SIZE, cutoffs=[10, 100, 1000, 10000])\n",
    "\n",
    "make_dot(criterion(model(xx), yy).loss).render(\"BiLanguageModel\", format=\"png\")\n",
    "```"
   ]
  },
  {
   "cell_type": "markdown",
   "id": "electrical-valentine",
   "metadata": {},
   "source": [
    "![](BiLanguageModel.png)"
   ]
  },
  {
   "cell_type": "code",
   "execution_count": 24,
   "id": "rapid-kernel",
   "metadata": {},
   "outputs": [
    {
     "data": {
      "application/vnd.jupyter.widget-view+json": {
       "model_id": "eb085e2ddb6d4d539e0bfc3833828d91",
       "version_major": 2,
       "version_minor": 0
      },
      "text/plain": [
       "  0%|          | 0/100 [00:00<?, ?it/s]"
      ]
     },
     "metadata": {},
     "output_type": "display_data"
    },
    {
     "name": "stdout",
     "output_type": "stream",
     "text": [
      "Stopping early, the loss has diverged\n",
      "Learning rate search finished. See the graph with {finder_name}.plot()\n",
      "LR suggestion: steepest gradient\n",
      "Suggested LR: 3.76E-01\n"
     ]
    },
    {
     "data": {
      "image/png": "[encoded data removed]",
      "text/plain": [
       "<Figure size 432x288 with 1 Axes>"
      ]
     },
     "metadata": {},
     "output_type": "display_data"
    },
    {
     "data": {
      "text/plain": [
       "(<AxesSubplot:xlabel='Learning rate', ylabel='Loss'>, 0.37649358067924676)"
      ]
     },
     "execution_count": 24,
     "metadata": {},
     "output_type": "execute_result"
    }
   ],
   "source": [
    "from torch_lr_finder import LRFinder\n",
    "\n",
    "charconv = CharConv(); bilstm = BiLSTM()\n",
    "model = BiLangModel(charconv, bilstm)\n",
    "optimizer = optim.SGD(model.parameters(), lr=1e-2, momentum=0.9)\n",
    "criterion_ = nn.AdaptiveLogSoftmaxWithLoss(\n",
    "    1024, VOCAB_SIZE, cutoffs=[10, 100, 1000, 10000]\n",
    ")\n",
    "criterion = lambda x, y: criterion_(x, y).loss\n",
    "\n",
    "lr_finder = LRFinder(model, optimizer, criterion)\n",
    "lr_finder.range_test(pretrainloader, end_lr=100, num_iter=100)\n",
    "lr_finder.plot(log_lr=True)"
   ]
  },
  {
   "cell_type": "markdown",
   "id": "driven-complement",
   "metadata": {},
   "source": [
    "### ELMo"
   ]
  },
  {
   "cell_type": "code",
   "execution_count": null,
   "id": "continental-genre",
   "metadata": {},
   "outputs": [],
   "source": []
  },
  {
   "cell_type": "markdown",
   "id": "temporal-estate",
   "metadata": {},
   "source": [
    "## Train the model"
   ]
  },
  {
   "cell_type": "markdown",
   "id": "controlled-disaster",
   "metadata": {},
   "source": [
    "### Pretrain bidirectional language model"
   ]
  },
  {
   "cell_type": "code",
   "execution_count": 19,
   "id": "exceptional-optics",
   "metadata": {},
   "outputs": [
    {
     "data": {
      "text/plain": [
       "device(type='cuda')"
      ]
     },
     "execution_count": 19,
     "metadata": {},
     "output_type": "execute_result"
    }
   ],
   "source": [
    "device = torch.device(\"cuda\" if torch.cuda.is_available() else \"cpu\")\n",
    "device"
   ]
  },
  {
   "cell_type": "code",
   "execution_count": 27,
   "id": "known-twenty",
   "metadata": {},
   "outputs": [],
   "source": [
    "optimizer = optim.SGD(model.parameters(), lr=0.3, momentum=0.9)\n",
    "criterion = nn.AdaptiveLogSoftmaxWithLoss(\n",
    "    1024, VOCAB_SIZE, cutoffs=[10, 100, 1000, 10000]\n",
    ").to(device)"
   ]
  },
  {
   "cell_type": "code",
   "execution_count": 28,
   "id": "answering-employee",
   "metadata": {},
   "outputs": [],
   "source": [
    "charconv = CharConv()\n",
    "bilstm = BiLSTM()\n",
    "\n",
    "model = BiLangModel(charconv, bilstm).to(device)\n",
    "optimizer = optim.SGD(model.parameters(), lr=0.03, momentum=0.9)\n",
    "criterion = nn.AdaptiveLogSoftmaxWithLoss(\n",
    "    1024, VOCAB_SIZE, cutoffs=[10, 100, 1000, 10000]\n",
    ").to(device)"
   ]
  },
  {
   "cell_type": "code",
   "execution_count": 29,
   "id": "celtic-allergy",
   "metadata": {},
   "outputs": [],
   "source": [
    "def accuracy(output, y):\n",
    "    with torch.no_grad():\n",
    "        pred = criterion.log_prob(output).argmax(dim=1)\n",
    "    correct = (pred == y).float()\n",
    "    #print(pred.shape, correct.shape)\n",
    "    return correct.sum() / len(correct)"
   ]
  },
  {
   "cell_type": "code",
   "execution_count": 30,
   "id": "julian-spectrum",
   "metadata": {},
   "outputs": [],
   "source": [
    "def train(model, dataloader, criterion, optimizer):\n",
    "    loss_epoch = 0.\n",
    "    acc_epoch = 0.\n",
    "    for x, y in dataloader:\n",
    "        model.zero_grad()\n",
    "        \n",
    "        x = x.to(device)\n",
    "        y = y.to(device)\n",
    "        \n",
    "        out = model(x)\n",
    "        loss = criterion(out, y).loss\n",
    "        \n",
    "        loss.backward()\n",
    "        optimizer.step()\n",
    "        \n",
    "        loss_epoch += loss.item()\n",
    "        acc_epoch += accuracy(out, y).item()\n",
    "    return loss_epoch, acc_epoch"
   ]
  },
  {
   "cell_type": "code",
   "execution_count": 31,
   "id": "spatial-senior",
   "metadata": {},
   "outputs": [],
   "source": [
    "losses = []\n",
    "accs = []"
   ]
  },
  {
   "cell_type": "code",
   "execution_count": 32,
   "id": "compact-sport",
   "metadata": {},
   "outputs": [],
   "source": [
    "N_EPOCH = 100\n",
    "scheduler = optim.lr_scheduler.OneCycleLR(\n",
    "    optimizer, \n",
    "    max_lr=1.,  # from LR range test plot\n",
    "    epochs=N_EPOCH, \n",
    "    steps_per_epoch=len(pretrainloader)\n",
    ")"
   ]
  },
  {
   "cell_type": "code",
   "execution_count": 38,
   "id": "waiting-shape",
   "metadata": {
    "scrolled": true
   },
   "outputs": [
    {
     "name": "stdout",
     "output_type": "stream",
     "text": [
      "epoch: 001, loss:  7.200, acc:  0.0421,  984.1 sec\n",
      "epoch: 002, loss:  7.196, acc:  0.0425,  982.3 sec\n",
      "epoch: 003, loss:  7.194, acc:  0.0427,  983.9 sec\n",
      "epoch: 004, loss:  7.193, acc:  0.0428,  984.7 sec\n",
      "epoch: 005, loss:  7.192, acc:  0.0429,  982.1 sec\n",
      "epoch: 006, loss:  7.191, acc:  0.0431,  983.3 sec\n",
      "epoch: 007, loss:  7.190, acc:  0.0432,  984.9 sec\n",
      "epoch: 008, loss:  7.189, acc:  0.0433,  983.0 sec\n",
      "epoch: 009, loss:  7.188, acc:  0.0434,  984.2 sec\n",
      "epoch: 010, loss:  7.186, acc:  0.0437,  982.7 sec\n",
      "epoch: 011, loss:  7.183, acc:  0.0440,  987.1 sec\n",
      "epoch: 012, loss:  7.179, acc:  0.0446,  981.5 sec\n",
      "epoch: 013, loss:  7.174, acc:  0.0454,  984.4 sec\n",
      "epoch: 014, loss:  7.168, acc:  0.0462,  984.3 sec\n",
      "epoch: 015, loss:  7.162, acc:  0.0469,  983.7 sec\n",
      "epoch: 016, loss:  7.163, acc:  0.0466,  983.9 sec\n",
      "epoch: 017, loss:  7.154, acc:  0.0478,  984.9 sec\n",
      "epoch: 018, loss:  7.147, acc:  0.0487,  988.7 sec\n",
      "epoch: 019, loss:  7.142, acc:  0.0493,  983.0 sec\n",
      "epoch: 020, loss:  7.138, acc:  0.0497,  985.2 sec\n",
      "epoch: 021, loss:  7.135, acc:  0.0499,  984.3 sec\n",
      "epoch: 022, loss:  7.131, acc:  0.0503,  983.1 sec\n",
      "epoch: 023, loss:  7.129, acc:  0.0505,  985.1 sec\n",
      "epoch: 024, loss:  7.126, acc:  0.0506,  983.4 sec\n",
      "epoch: 025, loss:  7.125, acc:  0.0508,  985.4 sec\n",
      "epoch: 026, loss:  7.123, acc:  0.0508,  984.5 sec\n",
      "epoch: 027, loss:  7.123, acc:  0.0506,  984.6 sec\n",
      "epoch: 028, loss:  7.122, acc:  0.0507,  985.4 sec\n",
      "epoch: 029, loss:  7.121, acc:  0.0507,  984.8 sec\n",
      "epoch: 030, loss:  7.121, acc:  0.0505,  982.9 sec\n",
      "epoch: 031, loss:  7.119, acc:  0.0506,  984.0 sec\n",
      "epoch: 032, loss:  7.118, acc:  0.0506,  982.2 sec\n",
      "epoch: 033, loss:  7.118, acc:  0.0505,  984.4 sec\n",
      "epoch: 034, loss:  7.117, acc:  0.0506,  983.3 sec\n",
      "epoch: 035, loss:  7.117, acc:  0.0505,  986.4 sec\n",
      "epoch: 036, loss:  7.117, acc:  0.0504,  985.4 sec\n",
      "epoch: 037, loss:  7.117, acc:  0.0503,  982.9 sec\n",
      "epoch: 038, loss:  7.116, acc:  0.0502,  983.5 sec\n",
      "epoch: 039, loss:  7.115, acc:  0.0503,  984.1 sec\n",
      "epoch: 040, loss:  7.115, acc:  0.0502,  985.8 sec\n",
      "epoch: 041, loss:  7.115, acc:  0.0502,  984.6 sec\n",
      "epoch: 042, loss:  7.114, acc:  0.0501,  985.8 sec\n",
      "epoch: 043, loss:  7.113, acc:  0.0500,  984.8 sec\n",
      "epoch: 044, loss:  7.113, acc:  0.0500,  984.0 sec\n",
      "epoch: 045, loss:  7.113, acc:  0.0499,  983.9 sec\n",
      "epoch: 046, loss:  7.112, acc:  0.0501,  982.6 sec\n",
      "epoch: 047, loss:  7.111, acc:  0.0498,  985.8 sec\n",
      "epoch: 048, loss:  7.111, acc:  0.0499,  985.0 sec\n",
      "epoch: 049, loss:  7.111, acc:  0.0498,  982.8 sec\n",
      "epoch: 050, loss:  7.111, acc:  0.0497,  983.2 sec\n",
      "epoch: 051, loss:  7.111, acc:  0.0498,  984.0 sec\n",
      "epoch: 052, loss:  7.110, acc:  0.0496,  984.1 sec\n",
      "epoch: 053, loss:  7.109, acc:  0.0495,  985.5 sec\n",
      "epoch: 054, loss:  7.109, acc:  0.0494,  983.3 sec\n",
      "epoch: 055, loss:  7.109, acc:  0.0494,  983.0 sec\n",
      "epoch: 056, loss:  7.108, acc:  0.0495,  983.3 sec\n",
      "epoch: 057, loss:  7.110, acc:  0.0492,  984.7 sec\n",
      "epoch: 058, loss:  7.109, acc:  0.0494,  984.5 sec\n",
      "epoch: 059, loss:  7.107, acc:  0.0493,  985.0 sec\n",
      "epoch: 060, loss:  7.108, acc:  0.0493,  986.4 sec\n",
      "epoch: 061, loss:  7.108, acc:  0.0492,  985.4 sec\n",
      "epoch: 062, loss:  7.108, acc:  0.0491,  985.5 sec\n",
      "epoch: 063, loss:  7.107, acc:  0.0491,  983.2 sec\n",
      "epoch: 064, loss:  7.106, acc:  0.0491,  983.5 sec\n",
      "epoch: 065, loss:  7.107, acc:  0.0491,  981.9 sec\n",
      "epoch: 066, loss:  7.107, acc:  0.0490,  982.6 sec\n",
      "epoch: 067, loss:  7.106, acc:  0.0490,  982.5 sec\n",
      "epoch: 068, loss:  7.106, acc:  0.0490,  987.2 sec\n",
      "epoch: 069, loss:  7.106, acc:  0.0489,  982.0 sec\n",
      "epoch: 070, loss:  7.107, acc:  0.0489,  985.0 sec\n",
      "epoch: 071, loss:  7.106, acc:  0.0488,  981.8 sec\n",
      "epoch: 072, loss:  7.107, acc:  0.0486,  985.2 sec\n",
      "epoch: 073, loss:  7.106, acc:  0.0487,  982.5 sec\n",
      "epoch: 074, loss:  7.107, acc:  0.0486,  983.5 sec\n",
      "epoch: 075, loss:  7.106, acc:  0.0486,  984.1 sec\n",
      "epoch: 076, loss:  7.105, acc:  0.0486,  984.8 sec\n",
      "epoch: 077, loss:  7.104, acc:  0.0486,  984.0 sec\n",
      "epoch: 078, loss:  7.105, acc:  0.0486,  982.5 sec\n",
      "epoch: 079, loss:  7.104, acc:  0.0485,  985.0 sec\n",
      "epoch: 080, loss:  7.104, acc:  0.0484,  986.1 sec\n",
      "epoch: 081, loss:  7.104, acc:  0.0485,  985.4 sec\n",
      "epoch: 082, loss:  7.104, acc:  0.0484,  985.1 sec\n",
      "epoch: 083, loss:  7.104, acc:  0.0484,  982.3 sec\n",
      "epoch: 084, loss:  7.105, acc:  0.0482,  985.7 sec\n",
      "epoch: 085, loss:  7.104, acc:  0.0482,  983.0 sec\n",
      "epoch: 086, loss:  7.104, acc:  0.0484,  985.3 sec\n",
      "epoch: 087, loss:  7.105, acc:  0.0480,  983.1 sec\n",
      "epoch: 088, loss:  7.105, acc:  0.0482,  982.4 sec\n",
      "epoch: 089, loss:  7.104, acc:  0.0481,  984.3 sec\n",
      "epoch: 090, loss:  7.105, acc:  0.0481,  983.8 sec\n",
      "epoch: 091, loss:  7.106, acc:  0.0479,  986.3 sec\n",
      "epoch: 092, loss:  7.105, acc:  0.0480,  985.0 sec\n",
      "epoch: 093, loss:  7.107, acc:  0.0479,  983.8 sec\n",
      "epoch: 094, loss:  7.107, acc:  0.0478,  983.7 sec\n",
      "epoch: 095, loss:  7.107, acc:  0.0477,  984.9 sec\n",
      "epoch: 096, loss:  7.106, acc:  0.0478,  987.0 sec\n",
      "epoch: 097, loss:  7.108, acc:  0.0476,  986.8 sec\n",
      "epoch: 098, loss:  7.108, acc:  0.0475,  984.3 sec\n",
      "epoch: 099, loss:  7.109, acc:  0.0476,  988.5 sec\n",
      "epoch: 100, loss:  7.109, acc:  0.0474,  987.7 sec\n"
     ]
    }
   ],
   "source": [
    "for i in range(1, N_EPOCH+1):\n",
    "    t0 = time()\n",
    "    \n",
    "    loss_epoch, acc_epoch = train(model, pretrainloader, criterion, optimizer)\n",
    "    losses.append(loss_epoch)\n",
    "    accs.append(acc_epoch)\n",
    "    scheduler.step()\n",
    "    \n",
    "    t1 = time()\n",
    "    \n",
    "    if i % 1 == 0:\n",
    "        print(f\"epoch: {i:03}, loss: {loss_epoch/len(pretrainloader): .3f}, acc: {acc_epoch/len(pretrainloader): .4f}, {t1-t0: .1f} sec\")"
   ]
  },
  {
   "cell_type": "code",
   "execution_count": 39,
   "id": "listed-bibliography",
   "metadata": {},
   "outputs": [],
   "source": [
    "torch.save({'model_state_dict': model.state_dict(),\n",
    "            'loss': losses,\n",
    "            'acc': accs},\n",
    "           \"./ELMo-BiLM_SGD_lr0.5-2._momentum0.9_epoch25.pth\")"
   ]
  },
  {
   "cell_type": "code",
   "execution_count": 40,
   "id": "direct-learning",
   "metadata": {},
   "outputs": [
    {
     "data": {
      "text/plain": [
       "[<matplotlib.lines.Line2D at 0x7f8273992970>]"
      ]
     },
     "execution_count": 40,
     "metadata": {},
     "output_type": "execute_result"
    },
    {
     "data": {
      "image/png": "[encoded data removed]",
      "text/plain": [
       "<Figure size 576x216 with 2 Axes>"
      ]
     },
     "metadata": {},
     "output_type": "display_data"
    }
   ],
   "source": [
    "plt.figure(figsize=(8,3))\n",
    "plt.subplot(121)\n",
    "plt.plot(np.array(losses) / len(pretrainloader))\n",
    "plt.subplot(122)\n",
    "plt.plot(np.array(accs) / len(pretrainloader))"
   ]
  },
  {
   "cell_type": "markdown",
   "id": "labeled-birth",
   "metadata": {},
   "source": [
    "#### Intermediate results"
   ]
  },
  {
   "cell_type": "code",
   "execution_count": 67,
   "id": "postal-warner",
   "metadata": {},
   "outputs": [
    {
     "data": {
      "text/plain": [
       "<All keys matched successfully>"
      ]
     },
     "execution_count": 67,
     "metadata": {},
     "output_type": "execute_result"
    }
   ],
   "source": [
    "charconv = CharConv()\n",
    "bilstm = BiLSTM()\n",
    "model = BiLangModel(charconv, bilstm)\n",
    "\n",
    "checkpoint = torch.load(\"./ELMo-BiLM_SGD_lr0.3-1._momentum0.9_epoch100.pth\",\n",
    "                        map_location=torch.device('cpu'))\n",
    "model.load_state_dict(checkpoint[\"model_state_dict\"])"
   ]
  },
  {
   "cell_type": "code",
   "execution_count": 68,
   "id": "supported-praise",
   "metadata": {},
   "outputs": [],
   "source": [
    "#model.to(device)\n",
    "model.eval();  # evaluation mode"
   ]
  },
  {
   "cell_type": "code",
   "execution_count": 77,
   "id": "clean-destruction",
   "metadata": {},
   "outputs": [],
   "source": [
    "N_WORDS = 150\n",
    "words = list(zip(*vocab.freqs.most_common(N_WORDS)))[0]"
   ]
  },
  {
   "cell_type": "code",
   "execution_count": 108,
   "id": "middle-timothy",
   "metadata": {},
   "outputs": [],
   "source": [
    "with torch.no_grad():\n",
    "    x1 = model.char_cnn(words_input)"
   ]
  },
  {
   "cell_type": "code",
   "execution_count": 113,
   "id": "cutting-egyptian",
   "metadata": {},
   "outputs": [
    {
     "data": {
      "text/plain": [
       "torch.Size([1, 150, 128])"
      ]
     },
     "execution_count": 113,
     "metadata": {},
     "output_type": "execute_result"
    }
   ],
   "source": [
    "x1.permute(0,2,1).shape"
   ]
  },
  {
   "cell_type": "code",
   "execution_count": 117,
   "id": "analyzed-butterfly",
   "metadata": {},
   "outputs": [
    {
     "data": {
      "text/plain": [
       "tensor([[[-0.2201, -0.6893,  0.1313,  ..., -0.0420, -0.4826,  0.0489],\n",
       "         [ 0.3486, -0.2967,  0.7657,  ...,  0.3154, -0.1451,  0.3309],\n",
       "         [ 0.3169, -0.8092,  0.7815,  ...,  0.3667, -0.3338,  0.5977],\n",
       "         ...,\n",
       "         [ 0.5004, -0.3708,  1.1143,  ..., -0.4220,  0.5668,  0.3076],\n",
       "         [ 0.0768, -0.8862,  0.0696,  ...,  0.0975,  0.1715,  0.0440],\n",
       "         [ 0.0929, -0.3482,  0.0198,  ..., -0.2707, -0.2820,  0.6174]]],\n",
       "       grad_fn=<AddBackward0>)"
      ]
     },
     "execution_count": 117,
     "metadata": {},
     "output_type": "execute_result"
    }
   ],
   "source": [
    "nn.Linear(128, 1000)(x1.permute(0,2,1))"
   ]
  },
  {
   "cell_type": "code",
   "execution_count": 119,
   "id": "modular-klein",
   "metadata": {},
   "outputs": [
    {
     "data": {
      "text/plain": [
       "torch.Size([1, 128, 150])"
      ]
     },
     "execution_count": 119,
     "metadata": {},
     "output_type": "execute_result"
    }
   ],
   "source": [
    "x1.shape"
   ]
  },
  {
   "cell_type": "code",
   "execution_count": 129,
   "id": "iraqi-stationery",
   "metadata": {},
   "outputs": [],
   "source": [
    "with torch.no_grad():\n",
    "    x1 = model.char_cnn(words_input)\n",
    "    _, (x2, __) = model.bi_lstm.lstm1(x1.permute(0,2,1))"
   ]
  },
  {
   "cell_type": "code",
   "execution_count": 130,
   "id": "strange-casting",
   "metadata": {},
   "outputs": [
    {
     "data": {
      "text/plain": [
       "torch.Size([2, 150, 1024])"
      ]
     },
     "execution_count": 130,
     "metadata": {},
     "output_type": "execute_result"
    }
   ],
   "source": [
    "x2.shape"
   ]
  },
  {
   "cell_type": "code",
   "execution_count": 104,
   "id": "permanent-decline",
   "metadata": {},
   "outputs": [
    {
     "ename": "RuntimeError",
     "evalue": "mat1 and mat2 shapes cannot be multiplied (1x19200 and 256x256)",
     "output_type": "error",
     "traceback": [
      "\u001b[0;31m---------------------------------------------------------------------------\u001b[0m",
      "\u001b[0;31mRuntimeError\u001b[0m                              Traceback (most recent call last)",
      "\u001b[0;32m<ipython-input-104-db3f919d6e48>\u001b[0m in \u001b[0;36m<module>\u001b[0;34m\u001b[0m\n\u001b[1;32m      4\u001b[0m \u001b[0;34m\u001b[0m\u001b[0m\n\u001b[1;32m      5\u001b[0m     \u001b[0;31m# highway\u001b[0m\u001b[0;34m\u001b[0m\u001b[0;34m\u001b[0m\u001b[0;34m\u001b[0m\u001b[0m\n\u001b[0;32m----> 6\u001b[0;31m     \u001b[0mh\u001b[0m \u001b[0;34m=\u001b[0m \u001b[0mmodel\u001b[0m\u001b[0;34m.\u001b[0m\u001b[0mhighway\u001b[0m\u001b[0;34m(\u001b[0m\u001b[0mx1\u001b[0m\u001b[0;34m)\u001b[0m\u001b[0;34m\u001b[0m\u001b[0;34m\u001b[0m\u001b[0m\n\u001b[0m\u001b[1;32m      7\u001b[0m     \u001b[0mt_gate\u001b[0m \u001b[0;34m=\u001b[0m \u001b[0mtorch\u001b[0m\u001b[0;34m.\u001b[0m\u001b[0msigmoid\u001b[0m\u001b[0;34m(\u001b[0m\u001b[0mmodel\u001b[0m\u001b[0;34m.\u001b[0m\u001b[0mtransform\u001b[0m\u001b[0;34m(\u001b[0m\u001b[0mx1\u001b[0m\u001b[0;34m)\u001b[0m\u001b[0;34m)\u001b[0m\u001b[0;34m\u001b[0m\u001b[0;34m\u001b[0m\u001b[0m\n\u001b[1;32m      8\u001b[0m     \u001b[0mc_gate\u001b[0m \u001b[0;34m=\u001b[0m \u001b[0;36m1\u001b[0m \u001b[0;34m-\u001b[0m \u001b[0mt_gate\u001b[0m\u001b[0;34m\u001b[0m\u001b[0;34m\u001b[0m\u001b[0m\n",
      "\u001b[0;32m~/miniforge3_x86_64/envs/pytorch_x86/lib/python3.8/site-packages/torch/nn/modules/module.py\u001b[0m in \u001b[0;36m_call_impl\u001b[0;34m(self, *input, **kwargs)\u001b[0m\n\u001b[1;32m    887\u001b[0m             \u001b[0mresult\u001b[0m \u001b[0;34m=\u001b[0m \u001b[0mself\u001b[0m\u001b[0;34m.\u001b[0m\u001b[0m_slow_forward\u001b[0m\u001b[0;34m(\u001b[0m\u001b[0;34m*\u001b[0m\u001b[0minput\u001b[0m\u001b[0;34m,\u001b[0m \u001b[0;34m**\u001b[0m\u001b[0mkwargs\u001b[0m\u001b[0;34m)\u001b[0m\u001b[0;34m\u001b[0m\u001b[0;34m\u001b[0m\u001b[0m\n\u001b[1;32m    888\u001b[0m         \u001b[0;32melse\u001b[0m\u001b[0;34m:\u001b[0m\u001b[0;34m\u001b[0m\u001b[0;34m\u001b[0m\u001b[0m\n\u001b[0;32m--> 889\u001b[0;31m             \u001b[0mresult\u001b[0m \u001b[0;34m=\u001b[0m \u001b[0mself\u001b[0m\u001b[0;34m.\u001b[0m\u001b[0mforward\u001b[0m\u001b[0;34m(\u001b[0m\u001b[0;34m*\u001b[0m\u001b[0minput\u001b[0m\u001b[0;34m,\u001b[0m \u001b[0;34m**\u001b[0m\u001b[0mkwargs\u001b[0m\u001b[0;34m)\u001b[0m\u001b[0;34m\u001b[0m\u001b[0;34m\u001b[0m\u001b[0m\n\u001b[0m\u001b[1;32m    890\u001b[0m         for hook in itertools.chain(\n\u001b[1;32m    891\u001b[0m                 \u001b[0m_global_forward_hooks\u001b[0m\u001b[0;34m.\u001b[0m\u001b[0mvalues\u001b[0m\u001b[0;34m(\u001b[0m\u001b[0;34m)\u001b[0m\u001b[0;34m,\u001b[0m\u001b[0;34m\u001b[0m\u001b[0;34m\u001b[0m\u001b[0m\n",
      "\u001b[0;32m~/miniforge3_x86_64/envs/pytorch_x86/lib/python3.8/site-packages/torch/nn/modules/linear.py\u001b[0m in \u001b[0;36mforward\u001b[0;34m(self, input)\u001b[0m\n\u001b[1;32m     92\u001b[0m \u001b[0;34m\u001b[0m\u001b[0m\n\u001b[1;32m     93\u001b[0m     \u001b[0;32mdef\u001b[0m \u001b[0mforward\u001b[0m\u001b[0;34m(\u001b[0m\u001b[0mself\u001b[0m\u001b[0;34m,\u001b[0m \u001b[0minput\u001b[0m\u001b[0;34m:\u001b[0m \u001b[0mTensor\u001b[0m\u001b[0;34m)\u001b[0m \u001b[0;34m->\u001b[0m \u001b[0mTensor\u001b[0m\u001b[0;34m:\u001b[0m\u001b[0;34m\u001b[0m\u001b[0;34m\u001b[0m\u001b[0m\n\u001b[0;32m---> 94\u001b[0;31m         \u001b[0;32mreturn\u001b[0m \u001b[0mF\u001b[0m\u001b[0;34m.\u001b[0m\u001b[0mlinear\u001b[0m\u001b[0;34m(\u001b[0m\u001b[0minput\u001b[0m\u001b[0;34m,\u001b[0m \u001b[0mself\u001b[0m\u001b[0;34m.\u001b[0m\u001b[0mweight\u001b[0m\u001b[0;34m,\u001b[0m \u001b[0mself\u001b[0m\u001b[0;34m.\u001b[0m\u001b[0mbias\u001b[0m\u001b[0;34m)\u001b[0m\u001b[0;34m\u001b[0m\u001b[0;34m\u001b[0m\u001b[0m\n\u001b[0m\u001b[1;32m     95\u001b[0m \u001b[0;34m\u001b[0m\u001b[0m\n\u001b[1;32m     96\u001b[0m     \u001b[0;32mdef\u001b[0m \u001b[0mextra_repr\u001b[0m\u001b[0;34m(\u001b[0m\u001b[0mself\u001b[0m\u001b[0;34m)\u001b[0m \u001b[0;34m->\u001b[0m \u001b[0mstr\u001b[0m\u001b[0;34m:\u001b[0m\u001b[0;34m\u001b[0m\u001b[0;34m\u001b[0m\u001b[0m\n",
      "\u001b[0;32m~/miniforge3_x86_64/envs/pytorch_x86/lib/python3.8/site-packages/torch/nn/functional.py\u001b[0m in \u001b[0;36mlinear\u001b[0;34m(input, weight, bias)\u001b[0m\n\u001b[1;32m   1751\u001b[0m     \u001b[0;32mif\u001b[0m \u001b[0mhas_torch_function_variadic\u001b[0m\u001b[0;34m(\u001b[0m\u001b[0minput\u001b[0m\u001b[0;34m,\u001b[0m \u001b[0mweight\u001b[0m\u001b[0;34m)\u001b[0m\u001b[0;34m:\u001b[0m\u001b[0;34m\u001b[0m\u001b[0;34m\u001b[0m\u001b[0m\n\u001b[1;32m   1752\u001b[0m         \u001b[0;32mreturn\u001b[0m \u001b[0mhandle_torch_function\u001b[0m\u001b[0;34m(\u001b[0m\u001b[0mlinear\u001b[0m\u001b[0;34m,\u001b[0m \u001b[0;34m(\u001b[0m\u001b[0minput\u001b[0m\u001b[0;34m,\u001b[0m \u001b[0mweight\u001b[0m\u001b[0;34m)\u001b[0m\u001b[0;34m,\u001b[0m \u001b[0minput\u001b[0m\u001b[0;34m,\u001b[0m \u001b[0mweight\u001b[0m\u001b[0;34m,\u001b[0m \u001b[0mbias\u001b[0m\u001b[0;34m=\u001b[0m\u001b[0mbias\u001b[0m\u001b[0;34m)\u001b[0m\u001b[0;34m\u001b[0m\u001b[0;34m\u001b[0m\u001b[0m\n\u001b[0;32m-> 1753\u001b[0;31m     \u001b[0;32mreturn\u001b[0m \u001b[0mtorch\u001b[0m\u001b[0;34m.\u001b[0m\u001b[0m_C\u001b[0m\u001b[0;34m.\u001b[0m\u001b[0m_nn\u001b[0m\u001b[0;34m.\u001b[0m\u001b[0mlinear\u001b[0m\u001b[0;34m(\u001b[0m\u001b[0minput\u001b[0m\u001b[0;34m,\u001b[0m \u001b[0mweight\u001b[0m\u001b[0;34m,\u001b[0m \u001b[0mbias\u001b[0m\u001b[0;34m)\u001b[0m\u001b[0;34m\u001b[0m\u001b[0;34m\u001b[0m\u001b[0m\n\u001b[0m\u001b[1;32m   1754\u001b[0m \u001b[0;34m\u001b[0m\u001b[0m\n\u001b[1;32m   1755\u001b[0m \u001b[0;34m\u001b[0m\u001b[0m\n",
      "\u001b[0;31mRuntimeError\u001b[0m: mat1 and mat2 shapes cannot be multiplied (1x19200 and 256x256)"
     ]
    }
   ],
   "source": [
    "with torch.no_grad():\n",
    "    x1 = model.char_cnn(words_input)\n",
    "    x1 = x1.view(-1, N_WORDS*128)\n",
    "\n",
    "    # highway\n",
    "    h = model.highway(x1)\n",
    "    t_gate = torch.sigmoid(model.transform(x1))\n",
    "    c_gate = 1 - t_gate\n",
    "    x1 = h * t_gate + x1 * c_gate\n",
    "\n",
    "    # Bi-LSTM\n",
    "    _, x1 = self.bi_lstm(x1)"
   ]
  },
  {
   "cell_type": "code",
   "execution_count": 89,
   "id": "partial-leone",
   "metadata": {},
   "outputs": [],
   "source": [
    "def embedding(words_idx):\n",
    "    if isinstance(words_idx, int):\n",
    "        words_idx = [words_idx]\n",
    "    \n",
    "    words = [vocab.itos[i] for i in words_idx]\n",
    "    \n",
    "    words_input = stoi(char_vocab)(tokenize_char()(char_tokenizer(words)))\n",
    "    words_input = torch.tensor(words_input).view(1, len(words), -1)\n",
    "    words_input = words_input\n",
    "    \n",
    "    with torch.no_grad():\n",
    "        char_cnn = model.char_cnn\n",
    "        x1 = torch.squeeze(char_cnn(words_input))\n",
    "    return x1.detach().T"
   ]
  },
  {
   "cell_type": "code",
   "execution_count": 97,
   "id": "numerical-leadership",
   "metadata": {},
   "outputs": [
    {
     "data": {
      "image/png": "[encoded data removed]",
      "text/plain": [
       "<Figure size 720x720 with 1 Axes>"
      ]
     },
     "metadata": {
      "needs_background": "light"
     },
     "output_type": "display_data"
    }
   ],
   "source": [
    "plot_embedding(vocab.freqs, embedding, vocab.stoi);"
   ]
  },
  {
   "cell_type": "code",
   "execution_count": 98,
   "id": "proof-magnet",
   "metadata": {},
   "outputs": [
    {
     "name": "stdout",
     "output_type": "stream",
     "text": [
      "['anger', 'angle', 'Angel', 'added', 'until']\n",
      "['know', 'show', 'slow', 'now', 'shadow']\n",
      "['Love', 'live', 'loved', 'move', 'gave']\n",
      "['Death', 'depth', 'breath', 'teeth', 'beneath']\n"
     ]
    }
   ],
   "source": [
    "for word in [\"angel\", \"snow\", \"love\", \"death\"]:\n",
    "    print(find_similar(word, vocab.freqs, embedding, vocab.stoi))"
   ]
  },
  {
   "cell_type": "markdown",
   "id": "ruled-natural",
   "metadata": {},
   "source": [
    "### Train ELMo for sentiment analysis"
   ]
  },
  {
   "cell_type": "code",
   "execution_count": null,
   "id": "entertaining-watch",
   "metadata": {},
   "outputs": [],
   "source": []
  },
  {
   "cell_type": "code",
   "execution_count": null,
   "id": "limiting-local",
   "metadata": {},
   "outputs": [],
   "source": []
  },
  {
   "cell_type": "code",
   "execution_count": null,
   "id": "painted-basics",
   "metadata": {},
   "outputs": [],
   "source": []
  },
  {
   "cell_type": "code",
   "execution_count": null,
   "id": "featured-bolivia",
   "metadata": {},
   "outputs": [],
   "source": []
  },
  {
   "cell_type": "code",
   "execution_count": null,
   "id": "funny-lancaster",
   "metadata": {},
   "outputs": [],
   "source": []
  },
  {
   "cell_type": "code",
   "execution_count": null,
   "id": "turned-boating",
   "metadata": {},
   "outputs": [],
   "source": []
  },
  {
   "cell_type": "code",
   "execution_count": null,
   "id": "editorial-afternoon",
   "metadata": {},
   "outputs": [],
   "source": []
  },
  {
   "cell_type": "code",
   "execution_count": null,
   "id": "surgical-commerce",
   "metadata": {},
   "outputs": [],
   "source": []
  }
 ],
 "metadata": {
  "kernelspec": {
   "display_name": "pytorch_x86",
   "language": "python",
   "name": "pytorch_x86"
  },
  "language_info": {
   "codemirror_mode": {
    "name": "ipython",
    "version": 3
   },
   "file_extension": ".py",
   "mimetype": "text/x-python",
   "name": "python",
   "nbconvert_exporter": "python",
   "pygments_lexer": "ipython3",
   "version": "3.8.6"
  },
  "toc": {
   "base_numbering": 1,
   "nav_menu": {},
   "number_sections": true,
   "sideBar": true,
   "skip_h1_title": false,
   "title_cell": "3-2. ELMo",
   "title_sidebar": "Contents",
   "toc_cell": true,
   "toc_position": {},
   "toc_section_display": true,
   "toc_window_display": false
  }
 },
 "nbformat": 4,
 "nbformat_minor": 5
}
