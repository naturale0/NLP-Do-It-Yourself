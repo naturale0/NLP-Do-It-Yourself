{
 "cells": [
  {
   "cell_type": "code",
   "execution_count": 1,
   "id": "manufactured-meeting",
   "metadata": {},
   "outputs": [],
   "source": [
    "import torch\n",
    "import torch.nn as nn\n",
    "import torch.nn.functional as F\n",
    "import torch.optim as optim\n",
    "import torch.utils.data as data\n",
    "import torchtext\n",
    "import json\n",
    "import numpy as np\n",
    "from tqdm import tqdm\n",
    "from time import time"
   ]
  },
  {
   "cell_type": "markdown",
   "id": "military-painting",
   "metadata": {
    "toc": true
   },
   "source": [
    "<h1>3-2. ELMo<span class=\"tocSkip\"></span></h1>\n",
    "<div class=\"toc\"><ul class=\"toc-item\"><li><span><a href=\"#Prepare-dataset:-IMBD\" data-toc-modified-id=\"Prepare-dataset:-IMBD-1\"><span class=\"toc-item-num\">1&nbsp;&nbsp;</span>Prepare dataset: IMBD</a></span><ul class=\"toc-item\"><li><span><a href=\"#For-pretraining\" data-toc-modified-id=\"For-pretraining-1.1\"><span class=\"toc-item-num\">1.1&nbsp;&nbsp;</span>For pretraining</a></span></li></ul></li><li><span><a href=\"#Build-the-model\" data-toc-modified-id=\"Build-the-model-2\"><span class=\"toc-item-num\">2&nbsp;&nbsp;</span>Build the model</a></span><ul class=\"toc-item\"><li><span><a href=\"#Bidirectional-language-model\" data-toc-modified-id=\"Bidirectional-language-model-2.1\"><span class=\"toc-item-num\">2.1&nbsp;&nbsp;</span>Bidirectional language model</a></span></li><li><span><a href=\"#ELMo\" data-toc-modified-id=\"ELMo-2.2\"><span class=\"toc-item-num\">2.2&nbsp;&nbsp;</span>ELMo</a></span></li></ul></li><li><span><a href=\"#Train-the-model\" data-toc-modified-id=\"Train-the-model-3\"><span class=\"toc-item-num\">3&nbsp;&nbsp;</span>Train the model</a></span><ul class=\"toc-item\"><li><span><a href=\"#Pretrain-bidirectional-language-model\" data-toc-modified-id=\"Pretrain-bidirectional-language-model-3.1\"><span class=\"toc-item-num\">3.1&nbsp;&nbsp;</span>Pretrain bidirectional language model</a></span><ul class=\"toc-item\"><li><span><a href=\"#Intermediate-results\" data-toc-modified-id=\"Intermediate-results-3.1.1\"><span class=\"toc-item-num\">3.1.1&nbsp;&nbsp;</span>Intermediate results</a></span></li></ul></li><li><span><a href=\"#Train-ELMo-for-sentiment-analysis\" data-toc-modified-id=\"Train-ELMo-for-sentiment-analysis-3.2\"><span class=\"toc-item-num\">3.2&nbsp;&nbsp;</span>Train ELMo for sentiment analysis</a></span></li></ul></li></ul></div>"
   ]
  },
  {
   "cell_type": "markdown",
   "id": "stainless-siemens",
   "metadata": {},
   "source": [
    "## Prepare dataset: IMBD"
   ]
  },
  {
   "cell_type": "code",
   "execution_count": 2,
   "id": "prepared-means",
   "metadata": {},
   "outputs": [
    {
     "name": "stderr",
     "output_type": "stream",
     "text": [
      "/home/psh/.pyenv/versions/3.8.7/lib/python3.8/site-packages/thinc/neural/_custom_kernels.py:36: ResourceWarning: unclosed file <_io.TextIOWrapper name='/home/psh/.pyenv/versions/3.8.7/lib/python3.8/site-packages/thinc/neural/_custom_kernels.cu' mode='r' encoding='utf8'>\n",
      "  SRC = (PWD / \"_custom_kernels.cu\").open(\"r\", encoding=\"utf8\").read()\n",
      "ResourceWarning: Enable tracemalloc to get the object allocation traceback\n",
      "/home/psh/.pyenv/versions/3.8.7/lib/python3.8/site-packages/thinc/neural/_custom_kernels.py:39: ResourceWarning: unclosed file <_io.TextIOWrapper name='/home/psh/.pyenv/versions/3.8.7/lib/python3.8/site-packages/thinc/neural/_murmur3.cu' mode='r' encoding='utf8'>\n",
      "  MMH_SRC = (PWD / \"_murmur3.cu\").open(\"r\", encoding=\"utf8\").read()\n",
      "ResourceWarning: Enable tracemalloc to get the object allocation traceback\n",
      "100%|██████████| 25000/25000 [00:26<00:00, 930.03lines/s] \n"
     ]
    }
   ],
   "source": [
    "from torchtext.experimental.datasets import IMDB\n",
    "from torchtext.data.utils import get_tokenizer\n",
    "\n",
    "tokenizer = get_tokenizer(\"spacy\")\n",
    "train, test = IMDB(tokenizer=tokenizer, root=\"~/torchdata/\")"
   ]
  },
  {
   "cell_type": "code",
   "execution_count": 3,
   "id": "taken-belly",
   "metadata": {},
   "outputs": [],
   "source": [
    "from collections import Counter\n",
    "\n",
    "vocab = train.get_vocab()\n",
    "\n",
    "v = Counter(['<s>', '</s>'])\n",
    "v = torchtext.vocab.Vocab(v, specials=['<s>', '</s>'])\n",
    "vocab.extend(v)"
   ]
  },
  {
   "cell_type": "code",
   "execution_count": 4,
   "id": "enhanced-adobe",
   "metadata": {},
   "outputs": [],
   "source": [
    "VOCAB_SIZE = len(vocab)\n",
    "ngrams = 2"
   ]
  },
  {
   "cell_type": "markdown",
   "id": "selective-paraguay",
   "metadata": {},
   "source": [
    "```python\n",
    "ngrams = 2\n",
    "bos = \"<s>\"\n",
    "eos = \"</s>\"\n",
    "\n",
    "x = []\n",
    "y = []\n",
    "for _, words in tqdm(train):\n",
    "    # Begin-of-sentence token\n",
    "    x.append([vocab.stoi[bos]] + words[0:ngrams-1].tolist())\n",
    "    y.append(words[ngrams-1].item())\n",
    "    \n",
    "    # in-sentence tokens\n",
    "    for i in range(len(words)-ngrams):\n",
    "        text = words[i:i+ngrams]\n",
    "        label = words[i+ngrams]\n",
    "        x.append(text.tolist())\n",
    "        y.append(label.tolist())\n",
    "        \n",
    "    # End-of-sentence token\n",
    "    x.append(words[i+1:i+ngrams].tolist() + [vocab.stoi[eos]])\n",
    "    y.append(vocab.stoi[eos])\n",
    "```"
   ]
  },
  {
   "cell_type": "markdown",
   "id": "driving-sharp",
   "metadata": {},
   "source": [
    "```python\n",
    "with open(\"./IMBD_bigram.json\", \"w\") as w:\n",
    "    json.dump({\"data\": x, \"label\": y}, w)\n",
    "```"
   ]
  },
  {
   "cell_type": "code",
   "execution_count": 5,
   "id": "premier-gibraltar",
   "metadata": {},
   "outputs": [],
   "source": [
    "with open(\"./IMBD_bigram.json\") as r:\n",
    "    xy = json.load(r)"
   ]
  },
  {
   "cell_type": "markdown",
   "id": "saved-jersey",
   "metadata": {},
   "source": [
    "### For pretraining"
   ]
  },
  {
   "cell_type": "markdown",
   "id": "resident-dating",
   "metadata": {},
   "source": [
    "* transform to character-level n-gram dataset\n",
    "    * original script\n",
    "```\n",
    "%load https://gist.githubusercontent.com/akurniawan/30719686669dced49e7ced720329a616/raw/7b9f9967c01ce87ac505520a5aa58d3b24c55c66/translation_char_example.py\n",
    "```\n",
    "    * modified\n",
    "```\n",
    "%load https://gist.github.com/naturale0/6bb3b8a5c682bd281de87e408fa71bf1/raw/df8b7e198f149f81c4f72af977760b2eb3226cdf/translation_char_example.py\n",
    "```"
   ]
  },
  {
   "cell_type": "code",
   "execution_count": 6,
   "id": "seasonal-sending",
   "metadata": {},
   "outputs": [],
   "source": [
    "# Modified a little to fit classification\n",
    "import itertools\n",
    "from torchtext.experimental.datasets import TextClassificationDataset\n",
    "from torchtext.vocab import build_vocab_from_iterator\n",
    "from torchtext.experimental.functional import sequential_transforms\n",
    "\n",
    "def build_char_vocab(data, index, \n",
    "                     bow=\"<w>\", eow=\"</w>\",\n",
    "                     bos=\"<s>\", eos=\"</s>\"):\n",
    "    \"\"\"\n",
    "    build character level vocabulary\n",
    "    \"\"\"\n",
    "    tok_list = [\n",
    "        [bow],\n",
    "        [eow],\n",
    "        [bos],\n",
    "        [eos],\n",
    "    ]\n",
    "    for line in data:\n",
    "        tokens = list(itertools.chain.from_iterable(line[index]))\n",
    "        tok_list.append(tokens)\n",
    "    return build_vocab_from_iterator(tok_list)\n",
    "\n",
    "\n",
    "def stoi(vocab):\n",
    "    \"\"\"\n",
    "    change string to index\n",
    "    \"\"\"\n",
    "    def func(tok_iter):\n",
    "        return [[vocab[char] for char in word]\\\n",
    "                for word in tok_iter]\n",
    "\n",
    "    return func\n",
    "\n",
    "\n",
    "def tokenize_char(bow=\"<w>\", eow=\"</w>\", \n",
    "                  bos=\"<s>\", eos=\"</s>\",\n",
    "                  max_word_length=20):\n",
    "    \"\"\"\n",
    "    attach bow, eow token and pad with token\n",
    "    \"\"\"\n",
    "    def func(tok_iter):\n",
    "        result = np.empty((len(tok_iter), max_word_length+2), dtype=object)\n",
    "        result[:] = \"<pad>\"\n",
    "        \n",
    "        for i, word in enumerate(tok_iter):\n",
    "            if \"\".join(word) == \"<s>\":\n",
    "                # Begin-of-sentence token\n",
    "                result[i, :3] = [bow, bos, eow] #+ [\"<pad>\"] * (max_word_length - 1)\n",
    "            elif \"\".join(word) == \"</s>\":\n",
    "                # End-of-sentence token\n",
    "                result[i, :3] = [bow, eos, eow] #+ [\"<pad>\"] * (max_word_length - 1)\n",
    "            else:\n",
    "                # in-sentence words\n",
    "                if len(word) < max_word_length:\n",
    "                    result[i, :len(word)+2] = [bow] + word + [eow]\n",
    "                else:\n",
    "                    result[i, :] = [bow] + word[:max_word_length] + [eow]\n",
    "                \n",
    "                \n",
    "#                 result[:len(tok_iter)] = [\n",
    "#                     [bow] + word + [eow] \\\n",
    "#                     + [\"<pad>\"] * (max_word_length - len(word)) \\\n",
    "#                     if len(word) < max_word_length \\\n",
    "#                     else [bow] + word[:max_word_length] + [eow]\n",
    "#                 for word in tok_iter]\n",
    "\n",
    "        return result\n",
    "\n",
    "    return func"
   ]
  },
  {
   "cell_type": "code",
   "execution_count": 7,
   "id": "adaptive-freedom",
   "metadata": {},
   "outputs": [],
   "source": [
    "x = xy[\"data\"]\n",
    "y = xy[\"label\"]"
   ]
  },
  {
   "cell_type": "code",
   "execution_count": 8,
   "id": "desirable-certification",
   "metadata": {},
   "outputs": [
    {
     "name": "stderr",
     "output_type": "stream",
     "text": [
      "6810715it [00:07, 873883.37it/s] \n"
     ]
    }
   ],
   "source": [
    "# Cache training data for vocabulary construction\n",
    "train_data = [([vocab.itos[ix] for ix in line[0]], line[1]) for line in tqdm(zip(x, y))]"
   ]
  },
  {
   "cell_type": "code",
   "execution_count": 9,
   "id": "noticed-netscape",
   "metadata": {
    "scrolled": true
   },
   "outputs": [
    {
     "data": {
      "text/plain": [
       "[(['<s>', 'I'], 1657), (['I', 'rented'], 11), (['rented', 'I'], 14567)]"
      ]
     },
     "execution_count": 9,
     "metadata": {},
     "output_type": "execute_result"
    }
   ],
   "source": [
    "train_data[:3]"
   ]
  },
  {
   "cell_type": "code",
   "execution_count": 10,
   "id": "drawn-mainstream",
   "metadata": {
    "scrolled": true
   },
   "outputs": [
    {
     "name": "stderr",
     "output_type": "stream",
     "text": [
      "6810719lines [00:06, 987988.46lines/s] \n"
     ]
    }
   ],
   "source": [
    "# Setup vocabularies (both words and chars)\n",
    "char_vocab = build_char_vocab(train_data, index=0)"
   ]
  },
  {
   "cell_type": "code",
   "execution_count": 11,
   "id": "multiple-remainder",
   "metadata": {},
   "outputs": [],
   "source": [
    "# Building the dataset with character level tokenization\n",
    "def char_tokenizer(words):\n",
    "    return [list(word) for word in words]\n",
    "\n",
    "char_transform = sequential_transforms(\n",
    "    char_tokenizer, \n",
    "    tokenize_char(), \n",
    "    stoi(char_vocab),\n",
    "    lambda x: torch.tensor(x)\n",
    ")\n",
    "\n",
    "trainset = TextClassificationDataset(\n",
    "    train_data,\n",
    "    char_vocab,\n",
    "    (char_transform, lambda x: x),\n",
    ")"
   ]
  },
  {
   "cell_type": "code",
   "execution_count": 12,
   "id": "parallel-patient",
   "metadata": {},
   "outputs": [
    {
     "name": "stdout",
     "output_type": "stream",
     "text": [
      "['<w>', 's', 'u', 'r', 'r', 'o', 'u', 'n', 'd', 'e', 'd', '</w>', '<pad>']\n"
     ]
    }
   ],
   "source": [
    "print([[char_vocab.itos[i] for i in w] for w in trainset[17][0]] [1][:13])"
   ]
  },
  {
   "cell_type": "code",
   "execution_count": 13,
   "id": "regulation-innocent",
   "metadata": {},
   "outputs": [],
   "source": [
    "# Prepare DataLoader\n",
    "# def collate_fn(batch):\n",
    "#     text, label = zip(*batch)\n",
    "#     label = torch.LongTensor(label)\n",
    "#     text = torch.stack(text)\n",
    "#     #lens = list(map(lambda x: len(x[(x != 0).all(dim=1)]), text))\n",
    "    \n",
    "#     return text, label\n",
    "\n",
    "pretrainloader = data.DataLoader(trainset, \n",
    "                                 batch_size=256,\n",
    "                                 num_workers=4)"
   ]
  },
  {
   "cell_type": "code",
   "execution_count": 14,
   "id": "southeast-single",
   "metadata": {},
   "outputs": [],
   "source": [
    "xx, yy = next(iter(pretrainloader))"
   ]
  },
  {
   "cell_type": "markdown",
   "id": "asian-fight",
   "metadata": {},
   "source": [
    "## Build the model"
   ]
  },
  {
   "cell_type": "markdown",
   "id": "british-chassis",
   "metadata": {},
   "source": [
    "### Bidirectional language model"
   ]
  },
  {
   "cell_type": "code",
   "execution_count": 15,
   "id": "addressed-guinea",
   "metadata": {},
   "outputs": [],
   "source": [
    "class CharConv(nn.Module):\n",
    "    \n",
    "    def __init__(self):\n",
    "        super(CharConv, self).__init__()\n",
    "        \n",
    "        # Embedding layer\n",
    "        CHAR_EMBEDDING_DIM = 16\n",
    "        self.char_embedding = nn.Embedding(len(char_vocab), CHAR_EMBEDDING_DIM)\n",
    "        \n",
    "        # Conv layers\n",
    "        self.conv1 = nn.Conv2d(CHAR_EMBEDDING_DIM, 2, 1)\n",
    "        self.conv2 = nn.Conv2d(CHAR_EMBEDDING_DIM, 2, (1, 2))\n",
    "        self.conv3 = nn.Conv2d(CHAR_EMBEDDING_DIM, 4, (1, 3))\n",
    "        self.conv4 = nn.Conv2d(CHAR_EMBEDDING_DIM, 8, (1, 4))\n",
    "        self.conv5 = nn.Conv2d(CHAR_EMBEDDING_DIM, 16, (1, 5))\n",
    "        self.conv6 = nn.Conv2d(CHAR_EMBEDDING_DIM, 32, (1, 6))\n",
    "        self.conv7 = nn.Conv2d(CHAR_EMBEDDING_DIM, 64, (1, 7))\n",
    "        self.convs = [\n",
    "            self.conv1, self.conv2, self.conv3,\n",
    "            self.conv4, self.conv5, self.conv6, self.conv7,\n",
    "        ]\n",
    "        \n",
    "    \n",
    "    def forward(self, x):\n",
    "        # character-level convolution\n",
    "        x = self.char_embedding(x).permute(0,3,1,2)\n",
    "        x = [conv(x) for conv in self.convs]\n",
    "        x = [F.max_pool2d(x_c, kernel_size=(1, x_c.shape[3])) for x_c in x]\n",
    "        x = [torch.squeeze(x_p) for x_p in x]\n",
    "        x = torch.hstack(x)  # 1, n_batch, concat_length\n",
    "        #x = x.view(2, 0, 1)\n",
    "        \n",
    "        return x"
   ]
  },
  {
   "cell_type": "code",
   "execution_count": 16,
   "id": "raising-correlation",
   "metadata": {},
   "outputs": [],
   "source": [
    "class BiLSTM(nn.Module):\n",
    "    def __init__(self):\n",
    "        super(BiLSTM, self).__init__()\n",
    "        # Bi-LSTM\n",
    "        self.lstm1 = nn.LSTM(128, 1024, bidirectional=True)\n",
    "        self.dropout = nn.Dropout(0.1)\n",
    "        self.proj = nn.Linear(2*1024, 2*128, bias=False)\n",
    "        self.lstm2 = nn.LSTM(2*128, 1024, bidirectional=True)\n",
    "    \n",
    "    def forward(self, x):\n",
    "        # reshape input\n",
    "        x = x.view(-1, 128, ngrams).permute(2, 0, 1)\n",
    "        \n",
    "        # 1st LSTM layer\n",
    "        o, (h1, __) = self.lstm1(x)\n",
    "        o = self.dropout(o)\n",
    "        \n",
    "        # main connection\n",
    "        p = self.proj(o)\n",
    "        \n",
    "        # skip connection\n",
    "        x2 = x.repeat(1,1,2)\n",
    "        x3 = x2 + p\n",
    "        \n",
    "        # 2nd LSTM layer\n",
    "        _, (h2, __) = self.lstm2(x3)\n",
    "        return h1, h2"
   ]
  },
  {
   "cell_type": "code",
   "execution_count": 17,
   "id": "artificial-motivation",
   "metadata": {},
   "outputs": [],
   "source": [
    "class BiLangModel(nn.Module):\n",
    "    \"\"\"\n",
    "    Bidirectional language model (will be pretrained)\n",
    "    \"\"\"\n",
    "    def __init__(self, char_cnn, bi_lstm):\n",
    "        super(BiLangModel, self).__init__()\n",
    "        \n",
    "        # Highway connection\n",
    "        CHAR_EMBEDDING_DIM = 16\n",
    "        self.highway = nn.Linear(ngrams * 128, ngrams * 128)\n",
    "        self.transform = nn.Linear(ngrams * 128, ngrams * 128)\n",
    "        self.char_cnn = char_cnn\n",
    "        self.bi_lstm = bi_lstm\n",
    "        \n",
    "        # last layer: classifier\n",
    "        self.fc = nn.Linear(ngrams * 1024, 1024)\n",
    "        \n",
    "    def forward(self, x):\n",
    "        # Character-level convolution\n",
    "        x = self.char_cnn(x)\n",
    "        x = x.view(-1, ngrams*128)\n",
    "        \n",
    "        # highway\n",
    "        h = self.highway(x)\n",
    "        t_gate = torch.sigmoid(self.transform(x))\n",
    "        c_gate = 1 - t_gate\n",
    "        x = h * t_gate + x * c_gate\n",
    "        \n",
    "        # Bi-LSTM\n",
    "        _, x = self.bi_lstm(x)\n",
    "        \n",
    "        # fully-connected layer (classify)\n",
    "        x = x.view(-1, ngrams * 1024)\n",
    "        x = self.fc(x)\n",
    "        \n",
    "        return x"
   ]
  },
  {
   "cell_type": "code",
   "execution_count": 18,
   "id": "crude-japanese",
   "metadata": {},
   "outputs": [
    {
     "data": {
      "text/plain": [
       "torch.Size([256, 1024])"
      ]
     },
     "execution_count": 18,
     "metadata": {},
     "output_type": "execute_result"
    }
   ],
   "source": [
    "charconv = CharConv()\n",
    "bilstm = BiLSTM()\n",
    "model = BiLangModel(charconv, bilstm)\n",
    "model(xx).shape"
   ]
  },
  {
   "cell_type": "markdown",
   "id": "suffering-magazine",
   "metadata": {
    "scrolled": false
   },
   "source": [
    "```python\n",
    "from torchviz import make_dot\n",
    "\n",
    "charconv = CharConv()\n",
    "bilstm = BiLSTM()\n",
    "\n",
    "model = BiLangModel(charconv, bilstm)\n",
    "optimizer = optim.SGD(model.parameters(), lr=0.01, momentum=0.9)\n",
    "criterion = nn.AdaptiveLogSoftmaxWithLoss(1024, VOCAB_SIZE, cutoffs=[10, 100, 1000, 10000])\n",
    "\n",
    "make_dot(criterion(model(xx), yy).loss).render(\"BiLanguageModel\", format=\"png\")\n",
    "```"
   ]
  },
  {
   "cell_type": "markdown",
   "id": "electrical-valentine",
   "metadata": {},
   "source": [
    "![](BiLanguageModel.png)"
   ]
  },
  {
   "cell_type": "code",
   "execution_count": 24,
   "id": "rapid-kernel",
   "metadata": {},
   "outputs": [
    {
     "data": {
      "application/vnd.jupyter.widget-view+json": {
       "model_id": "eb085e2ddb6d4d539e0bfc3833828d91",
       "version_major": 2,
       "version_minor": 0
      },
      "text/plain": [
       "  0%|          | 0/100 [00:00<?, ?it/s]"
      ]
     },
     "metadata": {},
     "output_type": "display_data"
    },
    {
     "name": "stdout",
     "output_type": "stream",
     "text": [
      "Stopping early, the loss has diverged\n",
      "Learning rate search finished. See the graph with {finder_name}.plot()\n",
      "LR suggestion: steepest gradient\n",
      "Suggested LR: 3.76E-01\n"
     ]
    },
    {
     "data": {
      "image/png": "[encoded data removed]",
      "text/plain": [
       "<Figure size 432x288 with 1 Axes>"
      ]
     },
     "metadata": {},
     "output_type": "display_data"
    },
    {
     "data": {
      "text/plain": [
       "(<AxesSubplot:xlabel='Learning rate', ylabel='Loss'>, 0.37649358067924676)"
      ]
     },
     "execution_count": 24,
     "metadata": {},
     "output_type": "execute_result"
    }
   ],
   "source": [
    "from torch_lr_finder import LRFinder\n",
    "\n",
    "charconv = CharConv(); bilstm = BiLSTM()\n",
    "model = BiLangModel(charconv, bilstm)\n",
    "optimizer = optim.SGD(model.parameters(), lr=1e-2, momentum=0.9)\n",
    "criterion_ = nn.AdaptiveLogSoftmaxWithLoss(\n",
    "    1024, VOCAB_SIZE, cutoffs=[10, 100, 1000, 10000]\n",
    ")\n",
    "criterion = lambda x, y: criterion_(x, y).loss\n",
    "\n",
    "lr_finder = LRFinder(model, optimizer, criterion)\n",
    "lr_finder.range_test(pretrainloader, end_lr=100, num_iter=100)\n",
    "lr_finder.plot(log_lr=True)"
   ]
  },
  {
   "cell_type": "markdown",
   "id": "driven-complement",
   "metadata": {},
   "source": [
    "### ELMo"
   ]
  },
  {
   "cell_type": "code",
   "execution_count": null,
   "id": "continental-genre",
   "metadata": {},
   "outputs": [],
   "source": []
  },
  {
   "cell_type": "markdown",
   "id": "temporal-estate",
   "metadata": {},
   "source": [
    "## Train the model"
   ]
  },
  {
   "cell_type": "markdown",
   "id": "controlled-disaster",
   "metadata": {},
   "source": [
    "### Pretrain bidirectional language model"
   ]
  },
  {
   "cell_type": "code",
   "execution_count": 19,
   "id": "exceptional-optics",
   "metadata": {},
   "outputs": [
    {
     "data": {
      "text/plain": [
       "device(type='cuda')"
      ]
     },
     "execution_count": 19,
     "metadata": {},
     "output_type": "execute_result"
    }
   ],
   "source": [
    "device = torch.device(\"cuda\" if torch.cuda.is_available() else \"cpu\")\n",
    "device"
   ]
  },
  {
   "cell_type": "code",
   "execution_count": 27,
   "id": "known-twenty",
   "metadata": {},
   "outputs": [],
   "source": [
    "optimizer = optim.SGD(model.parameters(), lr=0.3, momentum=0.9)\n",
    "criterion = nn.AdaptiveLogSoftmaxWithLoss(\n",
    "    1024, VOCAB_SIZE, cutoffs=[10, 100, 1000, 10000]\n",
    ").to(device)"
   ]
  },
  {
   "cell_type": "code",
   "execution_count": 28,
   "id": "answering-employee",
   "metadata": {},
   "outputs": [],
   "source": [
    "charconv = CharConv()\n",
    "bilstm = BiLSTM()\n",
    "\n",
    "model = BiLangModel(charconv, bilstm).to(device)\n",
    "optimizer = optim.SGD(model.parameters(), lr=0.03, momentum=0.9)\n",
    "criterion = nn.AdaptiveLogSoftmaxWithLoss(\n",
    "    1024, VOCAB_SIZE, cutoffs=[10, 100, 1000, 10000]\n",
    ").to(device)"
   ]
  },
  {
   "cell_type": "code",
   "execution_count": 29,
   "id": "celtic-allergy",
   "metadata": {},
   "outputs": [],
   "source": [
    "def accuracy(output, y):\n",
    "    with torch.no_grad():\n",
    "        pred = criterion.log_prob(output).argmax(dim=1)\n",
    "    correct = (pred == y).float()\n",
    "    #print(pred.shape, correct.shape)\n",
    "    return correct.sum() / len(correct)"
   ]
  },
  {
   "cell_type": "code",
   "execution_count": 30,
   "id": "julian-spectrum",
   "metadata": {},
   "outputs": [],
   "source": [
    "def train(model, dataloader, criterion, optimizer):\n",
    "    loss_epoch = 0.\n",
    "    acc_epoch = 0.\n",
    "    for x, y in dataloader:\n",
    "        model.zero_grad()\n",
    "        \n",
    "        x = x.to(device)\n",
    "        y = y.to(device)\n",
    "        \n",
    "        out = model(x)\n",
    "        loss = criterion(out, y).loss\n",
    "        \n",
    "        loss.backward()\n",
    "        optimizer.step()\n",
    "        \n",
    "        loss_epoch += loss.item()\n",
    "        acc_epoch += accuracy(out, y).item()\n",
    "    return loss_epoch, acc_epoch"
   ]
  },
  {
   "cell_type": "code",
   "execution_count": 31,
   "id": "spatial-senior",
   "metadata": {},
   "outputs": [],
   "source": [
    "losses = []\n",
    "accs = []"
   ]
  },
  {
   "cell_type": "code",
   "execution_count": 32,
   "id": "compact-sport",
   "metadata": {},
   "outputs": [],
   "source": [
    "N_EPOCH = 100\n",
    "scheduler = optim.lr_scheduler.OneCycleLR(\n",
    "    optimizer, \n",
    "    max_lr=1.,  # from LR range test plot\n",
    "    epochs=N_EPOCH, \n",
    "    steps_per_epoch=len(pretrainloader)\n",
    ")"
   ]
  },
  {
   "cell_type": "code",
   "execution_count": 38,
   "id": "waiting-shape",
   "metadata": {
    "scrolled": true
   },
   "outputs": [
    {
     "name": "stdout",
     "output_type": "stream",
     "text": [
      "epoch: 001, loss:  7.200, acc:  0.0421,  984.1 sec\n",
      "epoch: 002, loss:  7.196, acc:  0.0425,  982.3 sec\n",
      "epoch: 003, loss:  7.194, acc:  0.0427,  983.9 sec\n",
      "epoch: 004, loss:  7.193, acc:  0.0428,  984.7 sec\n",
      "epoch: 005, loss:  7.192, acc:  0.0429,  982.1 sec\n",
      "epoch: 006, loss:  7.191, acc:  0.0431,  983.3 sec\n",
      "epoch: 007, loss:  7.190, acc:  0.0432,  984.9 sec\n",
      "epoch: 008, loss:  7.189, acc:  0.0433,  983.0 sec\n",
      "epoch: 009, loss:  7.188, acc:  0.0434,  984.2 sec\n",
      "epoch: 010, loss:  7.186, acc:  0.0437,  982.7 sec\n",
      "epoch: 011, loss:  7.183, acc:  0.0440,  987.1 sec\n",
      "epoch: 012, loss:  7.179, acc:  0.0446,  981.5 sec\n",
      "epoch: 013, loss:  7.174, acc:  0.0454,  984.4 sec\n",
      "epoch: 014, loss:  7.168, acc:  0.0462,  984.3 sec\n",
      "epoch: 015, loss:  7.162, acc:  0.0469,  983.7 sec\n",
      "epoch: 016, loss:  7.163, acc:  0.0466,  983.9 sec\n",
      "epoch: 017, loss:  7.154, acc:  0.0478,  984.9 sec\n",
      "epoch: 018, loss:  7.147, acc:  0.0487,  988.7 sec\n",
      "epoch: 019, loss:  7.142, acc:  0.0493,  983.0 sec\n",
      "epoch: 020, loss:  7.138, acc:  0.0497,  985.2 sec\n",
      "epoch: 021, loss:  7.135, acc:  0.0499,  984.3 sec\n",
      "epoch: 022, loss:  7.131, acc:  0.0503,  983.1 sec\n",
      "epoch: 023, loss:  7.129, acc:  0.0505,  985.1 sec\n",
      "epoch: 024, loss:  7.126, acc:  0.0506,  983.4 sec\n",
      "epoch: 025, loss:  7.125, acc:  0.0508,  985.4 sec\n",
      "epoch: 026, loss:  7.123, acc:  0.0508,  984.5 sec\n",
      "epoch: 027, loss:  7.123, acc:  0.0506,  984.6 sec\n",
      "epoch: 028, loss:  7.122, acc:  0.0507,  985.4 sec\n",
      "epoch: 029, loss:  7.121, acc:  0.0507,  984.8 sec\n",
      "epoch: 030, loss:  7.121, acc:  0.0505,  982.9 sec\n",
      "epoch: 031, loss:  7.119, acc:  0.0506,  984.0 sec\n",
      "epoch: 032, loss:  7.118, acc:  0.0506,  982.2 sec\n",
      "epoch: 033, loss:  7.118, acc:  0.0505,  984.4 sec\n",
      "epoch: 034, loss:  7.117, acc:  0.0506,  983.3 sec\n",
      "epoch: 035, loss:  7.117, acc:  0.0505,  986.4 sec\n",
      "epoch: 036, loss:  7.117, acc:  0.0504,  985.4 sec\n",
      "epoch: 037, loss:  7.117, acc:  0.0503,  982.9 sec\n",
      "epoch: 038, loss:  7.116, acc:  0.0502,  983.5 sec\n",
      "epoch: 039, loss:  7.115, acc:  0.0503,  984.1 sec\n",
      "epoch: 040, loss:  7.115, acc:  0.0502,  985.8 sec\n",
      "epoch: 041, loss:  7.115, acc:  0.0502,  984.6 sec\n",
      "epoch: 042, loss:  7.114, acc:  0.0501,  985.8 sec\n",
      "epoch: 043, loss:  7.113, acc:  0.0500,  984.8 sec\n",
      "epoch: 044, loss:  7.113, acc:  0.0500,  984.0 sec\n",
      "epoch: 045, loss:  7.113, acc:  0.0499,  983.9 sec\n",
      "epoch: 046, loss:  7.112, acc:  0.0501,  982.6 sec\n",
      "epoch: 047, loss:  7.111, acc:  0.0498,  985.8 sec\n",
      "epoch: 048, loss:  7.111, acc:  0.0499,  985.0 sec\n",
      "epoch: 049, loss:  7.111, acc:  0.0498,  982.8 sec\n",
      "epoch: 050, loss:  7.111, acc:  0.0497,  983.2 sec\n",
      "epoch: 051, loss:  7.111, acc:  0.0498,  984.0 sec\n",
      "epoch: 052, loss:  7.110, acc:  0.0496,  984.1 sec\n",
      "epoch: 053, loss:  7.109, acc:  0.0495,  985.5 sec\n",
      "epoch: 054, loss:  7.109, acc:  0.0494,  983.3 sec\n",
      "epoch: 055, loss:  7.109, acc:  0.0494,  983.0 sec\n",
      "epoch: 056, loss:  7.108, acc:  0.0495,  983.3 sec\n",
      "epoch: 057, loss:  7.110, acc:  0.0492,  984.7 sec\n",
      "epoch: 058, loss:  7.109, acc:  0.0494,  984.5 sec\n",
      "epoch: 059, loss:  7.107, acc:  0.0493,  985.0 sec\n",
      "epoch: 060, loss:  7.108, acc:  0.0493,  986.4 sec\n",
      "epoch: 061, loss:  7.108, acc:  0.0492,  985.4 sec\n",
      "epoch: 062, loss:  7.108, acc:  0.0491,  985.5 sec\n",
      "epoch: 063, loss:  7.107, acc:  0.0491,  983.2 sec\n",
      "epoch: 064, loss:  7.106, acc:  0.0491,  983.5 sec\n",
      "epoch: 065, loss:  7.107, acc:  0.0491,  981.9 sec\n",
      "epoch: 066, loss:  7.107, acc:  0.0490,  982.6 sec\n",
      "epoch: 067, loss:  7.106, acc:  0.0490,  982.5 sec\n",
      "epoch: 068, loss:  7.106, acc:  0.0490,  987.2 sec\n",
      "epoch: 069, loss:  7.106, acc:  0.0489,  982.0 sec\n",
      "epoch: 070, loss:  7.107, acc:  0.0489,  985.0 sec\n",
      "epoch: 071, loss:  7.106, acc:  0.0488,  981.8 sec\n",
      "epoch: 072, loss:  7.107, acc:  0.0486,  985.2 sec\n",
      "epoch: 073, loss:  7.106, acc:  0.0487,  982.5 sec\n",
      "epoch: 074, loss:  7.107, acc:  0.0486,  983.5 sec\n",
      "epoch: 075, loss:  7.106, acc:  0.0486,  984.1 sec\n",
      "epoch: 076, loss:  7.105, acc:  0.0486,  984.8 sec\n",
      "epoch: 077, loss:  7.104, acc:  0.0486,  984.0 sec\n",
      "epoch: 078, loss:  7.105, acc:  0.0486,  982.5 sec\n",
      "epoch: 079, loss:  7.104, acc:  0.0485,  985.0 sec\n",
      "epoch: 080, loss:  7.104, acc:  0.0484,  986.1 sec\n",
      "epoch: 081, loss:  7.104, acc:  0.0485,  985.4 sec\n",
      "epoch: 082, loss:  7.104, acc:  0.0484,  985.1 sec\n",
      "epoch: 083, loss:  7.104, acc:  0.0484,  982.3 sec\n",
      "epoch: 084, loss:  7.105, acc:  0.0482,  985.7 sec\n",
      "epoch: 085, loss:  7.104, acc:  0.0482,  983.0 sec\n",
      "epoch: 086, loss:  7.104, acc:  0.0484,  985.3 sec\n",
      "epoch: 087, loss:  7.105, acc:  0.0480,  983.1 sec\n",
      "epoch: 088, loss:  7.105, acc:  0.0482,  982.4 sec\n",
      "epoch: 089, loss:  7.104, acc:  0.0481,  984.3 sec\n",
      "epoch: 090, loss:  7.105, acc:  0.0481,  983.8 sec\n",
      "epoch: 091, loss:  7.106, acc:  0.0479,  986.3 sec\n",
      "epoch: 092, loss:  7.105, acc:  0.0480,  985.0 sec\n",
      "epoch: 093, loss:  7.107, acc:  0.0479,  983.8 sec\n",
      "epoch: 094, loss:  7.107, acc:  0.0478,  983.7 sec\n",
      "epoch: 095, loss:  7.107, acc:  0.0477,  984.9 sec\n",
      "epoch: 096, loss:  7.106, acc:  0.0478,  987.0 sec\n",
      "epoch: 097, loss:  7.108, acc:  0.0476,  986.8 sec\n",
      "epoch: 098, loss:  7.108, acc:  0.0475,  984.3 sec\n",
      "epoch: 099, loss:  7.109, acc:  0.0476,  988.5 sec\n",
      "epoch: 100, loss:  7.109, acc:  0.0474,  987.7 sec\n"
     ]
    }
   ],
   "source": [
    "for i in range(1, N_EPOCH+1):\n",
    "    t0 = time()\n",
    "    \n",
    "    loss_epoch, acc_epoch = train(model, pretrainloader, criterion, optimizer)\n",
    "    losses.append(loss_epoch)\n",
    "    accs.append(acc_epoch)\n",
    "    scheduler.step()\n",
    "    \n",
    "    t1 = time()\n",
    "    \n",
    "    if i % 1 == 0:\n",
    "        print(f\"epoch: {i:03}, loss: {loss_epoch/len(pretrainloader): .3f}, acc: {acc_epoch/len(pretrainloader): .4f}, {t1-t0: .1f} sec\")"
   ]
  },
  {
   "cell_type": "code",
   "execution_count": 39,
   "id": "listed-bibliography",
   "metadata": {},
   "outputs": [],
   "source": [
    "torch.save({'model_state_dict': model.state_dict(),\n",
    "            'loss': losses,\n",
    "            'acc': accs},\n",
    "           \"./ELMo-BiLM_SGD_lr0.3-1._momentum0.9_epoch100.pth\")"
   ]
  },
  {
   "cell_type": "code",
   "execution_count": 40,
   "id": "direct-learning",
   "metadata": {},
   "outputs": [
    {
     "data": {
      "text/plain": [
       "[<matplotlib.lines.Line2D at 0x7f8273992970>]"
      ]
     },
     "execution_count": 40,
     "metadata": {},
     "output_type": "execute_result"
    },
    {
     "data": {
      "image/png": "[encoded data removed]",
      "text/plain": [
       "<Figure size 576x216 with 2 Axes>"
      ]
     },
     "metadata": {},
     "output_type": "display_data"
    }
   ],
   "source": [
    "plt.figure(figsize=(8,3))\n",
    "plt.subplot(121)\n",
    "plt.plot(np.array(losses) / len(pretrainloader))\n",
    "plt.subplot(122)\n",
    "plt.plot(np.array(accs) / len(pretrainloader))"
   ]
  },
  {
   "cell_type": "markdown",
   "id": "labeled-birth",
   "metadata": {},
   "source": [
    "#### Intermediate results"
   ]
  },
  {
   "cell_type": "code",
   "execution_count": 20,
   "id": "postal-warner",
   "metadata": {},
   "outputs": [
    {
     "data": {
      "text/plain": [
       "<All keys matched successfully>"
      ]
     },
     "execution_count": 20,
     "metadata": {},
     "output_type": "execute_result"
    }
   ],
   "source": [
    "charconv = CharConv()\n",
    "bilstm = BiLSTM()\n",
    "model = BiLangModel(charconv, bilstm)\n",
    "\n",
    "checkpoint = torch.load(\"./ELMo-BiLM_SGD_lr0.3-1._momentum0.9_epoch100.pth\")\n",
    "model.load_state_dict(checkpoint[\"model_state_dict\"])"
   ]
  },
  {
   "cell_type": "code",
   "execution_count": 24,
   "id": "supported-praise",
   "metadata": {
    "collapsed": true
   },
   "outputs": [
    {
     "data": {
      "text/plain": [
       "BiLangModel(\n",
       "  (highway): Linear(in_features=256, out_features=256, bias=True)\n",
       "  (transform): Linear(in_features=256, out_features=256, bias=True)\n",
       "  (char_cnn): CharConv(\n",
       "    (char_embedding): Embedding(182, 16)\n",
       "    (conv1): Conv2d(16, 2, kernel_size=(1, 1), stride=(1, 1))\n",
       "    (conv2): Conv2d(16, 2, kernel_size=(1, 2), stride=(1, 1))\n",
       "    (conv3): Conv2d(16, 4, kernel_size=(1, 3), stride=(1, 1))\n",
       "    (conv4): Conv2d(16, 8, kernel_size=(1, 4), stride=(1, 1))\n",
       "    (conv5): Conv2d(16, 16, kernel_size=(1, 5), stride=(1, 1))\n",
       "    (conv6): Conv2d(16, 32, kernel_size=(1, 6), stride=(1, 1))\n",
       "    (conv7): Conv2d(16, 64, kernel_size=(1, 7), stride=(1, 1))\n",
       "  )\n",
       "  (bi_lstm): BiLSTM(\n",
       "    (lstm1): LSTM(128, 1024, bidirectional=True)\n",
       "    (dropout): Dropout(p=0.1, inplace=False)\n",
       "    (proj): Linear(in_features=2048, out_features=256, bias=False)\n",
       "    (lstm2): LSTM(256, 1024, bidirectional=True)\n",
       "  )\n",
       "  (fc): Linear(in_features=2048, out_features=1024, bias=True)\n",
       ")"
      ]
     },
     "execution_count": 24,
     "metadata": {},
     "output_type": "execute_result"
    }
   ],
   "source": [
    "model.to(device)\n",
    "model.eval()  # evaluation mode"
   ]
  },
  {
   "cell_type": "code",
   "execution_count": 31,
   "id": "clean-destruction",
   "metadata": {},
   "outputs": [],
   "source": [
    "words_sample = list(zip(*vocab.freqs.most_common(150)))[0]\n",
    "words_input = stoi(char_vocab)(tokenize_char()(char_tokenizer(words_sample)))\n",
    "words_input = torch.tensor(words_input).view(1, 150, 22)\n",
    "words_input = words_input.to(device)"
   ]
  },
  {
   "cell_type": "code",
   "execution_count": 51,
   "id": "partial-leone",
   "metadata": {},
   "outputs": [],
   "source": [
    "def embedding(words_char):\n",
    "    with torch.no_grad():\n",
    "        char_cnn = model.char_cnn\n",
    "        x1 = char_cnn.char_embedding(words_input).permute(0,3,1,2)\n",
    "        x1 = [conv(x1) for conv in char_cnn.convs]\n",
    "        x1 = [F.max_pool2d(x_c, kernel_size=(1, x_c.shape[3])) for x_c in x1]\n",
    "        x1 = [torch.squeeze(x_p) for x_p in x1]\n",
    "        x1 = torch.vstack(x1)  # 1, n_batch, concat_length\n",
    "    return x1.detach().cpu().T"
   ]
  },
  {
   "cell_type": "code",
   "execution_count": 53,
   "id": "aggregate-handling",
   "metadata": {},
   "outputs": [],
   "source": [
    "word_embedding = embedding(words_input)"
   ]
  },
  {
   "cell_type": "code",
   "execution_count": 57,
   "id": "defined-ontario",
   "metadata": {},
   "outputs": [],
   "source": [
    "from sklearn.manifold import TSNE\n",
    "\n",
    "embed_xy = TSNE(2).fit_transform(word_embedding)"
   ]
  },
  {
   "cell_type": "code",
   "execution_count": 69,
   "id": "regulated-prediction",
   "metadata": {},
   "outputs": [
    {
     "data": {
      "image/png": "[encoded data removed]",
      "text/plain": [
       "<Figure size 720x720 with 1 Axes>"
      ]
     },
     "metadata": {},
     "output_type": "display_data"
    }
   ],
   "source": [
    "plt.figure(figsize=(10,10))\n",
    "plt.scatter(embed_xy[:, 0], embed_xy[:, 1])\n",
    "plt.axhline(0, c=\"grey\", ls=\":\")\n",
    "plt.axvline(0, c=\"grey\", ls=\":\")\n",
    "for i, text in enumerate(words_sample):\n",
    "    plt.annotate(text, (embed_xy[i, 0], embed_xy[i, 1]), fontsize=14)\n",
    "plt.title(\"Word Embeddings\", fontsize=16);"
   ]
  },
  {
   "cell_type": "markdown",
   "id": "ruled-natural",
   "metadata": {},
   "source": [
    "### Train ELMo for sentiment analysis"
   ]
  },
  {
   "cell_type": "code",
   "execution_count": null,
   "id": "entertaining-watch",
   "metadata": {},
   "outputs": [],
   "source": []
  },
  {
   "cell_type": "code",
   "execution_count": null,
   "id": "limiting-local",
   "metadata": {},
   "outputs": [],
   "source": []
  },
  {
   "cell_type": "code",
   "execution_count": null,
   "id": "painted-basics",
   "metadata": {},
   "outputs": [],
   "source": []
  },
  {
   "cell_type": "code",
   "execution_count": null,
   "id": "featured-bolivia",
   "metadata": {},
   "outputs": [],
   "source": []
  },
  {
   "cell_type": "code",
   "execution_count": null,
   "id": "funny-lancaster",
   "metadata": {},
   "outputs": [],
   "source": []
  },
  {
   "cell_type": "code",
   "execution_count": null,
   "id": "turned-boating",
   "metadata": {},
   "outputs": [],
   "source": []
  },
  {
   "cell_type": "code",
   "execution_count": null,
   "id": "editorial-afternoon",
   "metadata": {},
   "outputs": [],
   "source": []
  },
  {
   "cell_type": "code",
   "execution_count": null,
   "id": "surgical-commerce",
   "metadata": {},
   "outputs": [],
   "source": []
  }
 ],
 "metadata": {
  "kernelspec": {
   "display_name": "Python 3",
   "language": "python",
   "name": "python3"
  },
  "language_info": {
   "codemirror_mode": {
    "name": "ipython",
    "version": 3
   },
   "file_extension": ".py",
   "mimetype": "text/x-python",
   "name": "python",
   "nbconvert_exporter": "python",
   "pygments_lexer": "ipython3",
   "version": "3.8.7"
  },
  "toc": {
   "base_numbering": 1,
   "nav_menu": {},
   "number_sections": true,
   "sideBar": true,
   "skip_h1_title": false,
   "title_cell": "3-2. ELMo",
   "title_sidebar": "Contents",
   "toc_cell": true,
   "toc_position": {},
   "toc_section_display": true,
   "toc_window_display": false
  }
 },
 "nbformat": 4,
 "nbformat_minor": 5
}
