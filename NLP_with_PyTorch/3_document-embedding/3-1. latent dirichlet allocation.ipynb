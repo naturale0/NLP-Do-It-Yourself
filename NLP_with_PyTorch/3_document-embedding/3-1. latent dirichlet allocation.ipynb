{
 "cells": [
  {
   "cell_type": "code",
   "execution_count": 95,
   "id": "guilty-honduras",
   "metadata": {},
   "outputs": [],
   "source": [
    "from scipy.special import psi, polygamma, gammaln\n",
    "import numpy as np\n",
    "import matplotlib.pyplot as plt\n",
    "import seaborn as sns"
   ]
  },
  {
   "cell_type": "markdown",
   "id": "martial-possibility",
   "metadata": {
    "toc": true
   },
   "source": [
    "<h1>3-1. Latent Dirichlet Allocation<span class=\"tocSkip\"></span></h1>\n",
    "<div class=\"toc\"><ul class=\"toc-item\"><li><span><a href=\"#Data:-Reuters\" data-toc-modified-id=\"Data:-Reuters-1\"><span class=\"toc-item-num\">1&nbsp;&nbsp;</span>Data: Reuters</a></span></li><li><span><a href=\"#Model:-Basic-LDA\" data-toc-modified-id=\"Model:-Basic-LDA-2\"><span class=\"toc-item-num\">2&nbsp;&nbsp;</span>Model: Basic LDA</a></span><ul class=\"toc-item\"><li><span><a href=\"#Variational-EM\" data-toc-modified-id=\"Variational-EM-2.1\"><span class=\"toc-item-num\">2.1&nbsp;&nbsp;</span>Variational EM</a></span><ul class=\"toc-item\"><li><span><a href=\"#E-step\" data-toc-modified-id=\"E-step-2.1.1\"><span class=\"toc-item-num\">2.1.1&nbsp;&nbsp;</span>E-step</a></span></li><li><span><a href=\"#M-step\" data-toc-modified-id=\"M-step-2.1.2\"><span class=\"toc-item-num\">2.1.2&nbsp;&nbsp;</span>M-step</a></span></li><li><span><a href=\"#Variational-lower-bound\" data-toc-modified-id=\"Variational-lower-bound-2.1.3\"><span class=\"toc-item-num\">2.1.3&nbsp;&nbsp;</span>Variational lower bound</a></span></li></ul></li><li><span><a href=\"#Training\" data-toc-modified-id=\"Training-2.2\"><span class=\"toc-item-num\">2.2&nbsp;&nbsp;</span>Training</a></span></li><li><span><a href=\"#Collapsed-Gibbs-Sampling\" data-toc-modified-id=\"Collapsed-Gibbs-Sampling-2.3\"><span class=\"toc-item-num\">2.3&nbsp;&nbsp;</span>Collapsed Gibbs Sampling</a></span></li></ul></li><li><span><a href=\"#Model:-Smoothed-LDA\" data-toc-modified-id=\"Model:-Smoothed-LDA-3\"><span class=\"toc-item-num\">3&nbsp;&nbsp;</span>Model: Smoothed LDA</a></span><ul class=\"toc-item\"><li><span><a href=\"#Collaped-Gibbs-Sampling\" data-toc-modified-id=\"Collaped-Gibbs-Sampling-3.1\"><span class=\"toc-item-num\">3.1&nbsp;&nbsp;</span>Collaped Gibbs Sampling</a></span></li><li><span><a href=\"#Variational-EM\" data-toc-modified-id=\"Variational-EM-3.2\"><span class=\"toc-item-num\">3.2&nbsp;&nbsp;</span>Variational EM</a></span><ul class=\"toc-item\"><li><span><a href=\"#E-step\" data-toc-modified-id=\"E-step-3.2.1\"><span class=\"toc-item-num\">3.2.1&nbsp;&nbsp;</span>E-step</a></span></li><li><span><a href=\"#M-step\" data-toc-modified-id=\"M-step-3.2.2\"><span class=\"toc-item-num\">3.2.2&nbsp;&nbsp;</span>M-step</a></span></li></ul></li></ul></li></ul></div>"
   ]
  },
  {
   "cell_type": "markdown",
   "id": "dramatic-vertical",
   "metadata": {},
   "source": [
    "## Data: Reuters"
   ]
  },
  {
   "cell_type": "markdown",
   "id": "accompanied-hungary",
   "metadata": {},
   "source": [
    "Reuters is a multi-class, multi-label dataset.\n",
    "\n",
    "* 90 classes\n",
    "* 10788 documents\n",
    "    * 7769 training documents\n",
    "    * 3019 testing documents"
   ]
  },
  {
   "cell_type": "code",
   "execution_count": 2,
   "id": "green-houston",
   "metadata": {},
   "outputs": [],
   "source": [
    "from nltk.corpus import reuters\n",
    "from nltk.corpus import stopwords"
   ]
  },
  {
   "cell_type": "markdown",
   "id": "warming-liberty",
   "metadata": {},
   "source": [
    "* train-test split\n",
    ": The data is already splitted. Just sort it out."
   ]
  },
  {
   "cell_type": "code",
   "execution_count": 69,
   "id": "ordered-frank",
   "metadata": {},
   "outputs": [],
   "source": [
    "stops = stopwords.words(\"english\")\n",
    "stops += [\n",
    "    \"a\", \"about\", \"above\", \"across\", \"after\", \"afterwards\", \"again\", \"against\",\n",
    "    \"all\", \"almost\", \"alone\", \"along\", \"already\", \"also\", \"although\", \"always\",\n",
    "    \"am\", \"among\", \"amongst\", \"amoungst\", \"amount\", \"an\", \"and\", \"another\",\n",
    "    \"any\", \"anyhow\", \"anyone\", \"anything\", \"anyway\", \"anywhere\", \"are\",\n",
    "    \"around\", \"as\", \"at\", \"back\", \"be\", \"became\", \"because\", \"become\",\n",
    "    \"becomes\", \"becoming\", \"been\", \"before\", \"beforehand\", \"behind\", \"being\",\n",
    "    \"below\", \"beside\", \"besides\", \"between\", \"beyond\", \"bill\", \"both\",\n",
    "    \"bottom\", \"but\", \"by\", \"call\", \"can\", \"cannot\", \"cant\", \"co\", \"con\",\n",
    "    \"could\", \"couldnt\", \"cry\", \"de\", \"describe\", \"detail\", \"do\", \"done\",\n",
    "    \"down\", \"due\", \"during\", \"each\", \"eg\", \"eight\", \"either\", \"eleven\", \"else\",\n",
    "    \"elsewhere\", \"empty\", \"enough\", \"etc\", \"even\", \"ever\", \"every\", \"everyone\",\n",
    "    \"everything\", \"everywhere\", \"except\", \"few\", \"fifteen\", \"fifty\", \"fill\",\n",
    "    \"find\", \"fire\", \"first\", \"five\", \"for\", \"former\", \"formerly\", \"forty\",\n",
    "    \"found\", \"four\", \"from\", \"front\", \"full\", \"further\", \"get\", \"give\", \"go\",\n",
    "    \"had\", \"has\", \"hasnt\", \"have\", \"he\", \"hence\", \"her\", \"here\", \"hereafter\",\n",
    "    \"hereby\", \"herein\", \"hereupon\", \"hers\", \"herself\", \"him\", \"himself\", \"his\",\n",
    "    \"how\", \"however\", \"hundred\", \"i\", \"ie\", \"if\", \"in\", \"inc\", \"indeed\",\n",
    "    \"interest\", \"into\", \"is\", \"it\", \"its\", \"itself\", \"keep\", \"last\", \"latter\",\n",
    "    \"latterly\", \"least\", \"less\", \"ltd\", \"made\", \"many\", \"may\", \"me\",\n",
    "    \"meanwhile\", \"might\", \"mill\", \"mine\", \"more\", \"moreover\", \"most\", \"mostly\",\n",
    "    \"move\", \"much\", \"must\", \"my\", \"myself\", \"name\", \"namely\", \"neither\",\n",
    "    \"never\", \"nevertheless\", \"next\", \"nine\", \"no\", \"nobody\", \"none\", \"noone\",\n",
    "    \"nor\", \"not\", \"nothing\", \"now\", \"nowhere\", \"of\", \"off\", \"often\", \"on\",\n",
    "    \"once\", \"one\", \"only\", \"onto\", \"or\", \"other\", \"others\", \"otherwise\", \"our\",\n",
    "    \"ours\", \"ourselves\", \"out\", \"over\", \"own\", \"part\", \"per\", \"perhaps\",\n",
    "    \"please\", \"put\", \"rather\", \"re\", \"same\", \"see\", \"seem\", \"seemed\",\n",
    "    \"seeming\", \"seems\", \"serious\", \"several\", \"she\", \"should\", \"show\", \"side\",\n",
    "    \"since\", \"sincere\", \"six\", \"sixty\", \"so\", \"some\", \"somehow\", \"someone\",\n",
    "    \"something\", \"sometime\", \"sometimes\", \"somewhere\", \"still\", \"such\",\n",
    "    \"system\", \"take\", \"ten\", \"than\", \"that\", \"the\", \"their\", \"them\",\n",
    "    \"themselves\", \"then\", \"thence\", \"there\", \"thereafter\", \"thereby\",\n",
    "    \"therefore\", \"therein\", \"thereupon\", \"these\", \"they\", \"thick\", \"thin\",\n",
    "    \"third\", \"this\", \"those\", \"though\", \"three\", \"through\", \"throughout\",\n",
    "    \"thru\", \"thus\", \"to\", \"together\", \"too\", \"top\", \"toward\", \"towards\",\n",
    "    \"twelve\", \"twenty\", \"two\", \"un\", \"under\", \"until\", \"up\", \"upon\", \"us\",\n",
    "    \"very\", \"via\", \"was\", \"we\", \"well\", \"were\", \"what\", \"whatever\", \"when\",\n",
    "    \"whence\", \"whenever\", \"where\", \"whereafter\", \"whereas\", \"whereby\",\n",
    "    \"wherein\", \"whereupon\", \"wherever\", \"whether\", \"which\", \"while\", \"whither\",\n",
    "    \"who\", \"whoever\", \"whole\", \"whom\", \"whose\", \"why\", \"will\", \"with\",\n",
    "    \"within\", \"without\", \"would\", \"yet\", \"you\", \"your\", \"yours\", \"yourself\",\n",
    "    \"yourselves\", \".\", \"!\", \"?\", \",\", \";\", \":\", \"[\", \"]\", \"{\", \"}\", \"-\", \"+\", \n",
    "    \"_\", \"/\", \"@\", \"#\", \"$\", \"%\", \"^\", \"&\", \"*\", \"(\", \")\", \"<\", \">\", \"|\", \"=\",\n",
    "    \".-\", \".,\", \"'\", '\"', ',\"'\n",
    "]"
   ]
  },
  {
   "cell_type": "code",
   "execution_count": 70,
   "id": "featured-tiger",
   "metadata": {},
   "outputs": [
    {
     "data": {
      "text/plain": [
       "['ASIAN', 'EXPORTERS', 'FEAR', 'DAMAGE', 'FROM', 'U', '.', 'S', '.-', 'JAPAN']"
      ]
     },
     "execution_count": 70,
     "metadata": {},
     "output_type": "execute_result"
    }
   ],
   "source": [
    "reuters.words()[:10]"
   ]
  },
  {
   "cell_type": "code",
   "execution_count": 71,
   "id": "excellent-evidence",
   "metadata": {},
   "outputs": [],
   "source": [
    "trainset, testset = [], []\n",
    "vocab = []\n",
    "for file_id in reuters.fileids():\n",
    "    if file_id.startswith(\"train\"):\n",
    "        trainset.append([w.lower() for w in reuters.words(file_id) \\\n",
    "                         if (w.lower() not in stops) \\\n",
    "                         and (not w.isnumeric())])\n",
    "        vocab += trainset[-1]\n",
    "    else:\n",
    "        testset.append([w.lower() for w in reuters.words(file_id) \\\n",
    "                         if (w.lower() not in stops) \\\n",
    "                         and (not w.isnumeric())])"
   ]
  },
  {
   "cell_type": "code",
   "execution_count": 72,
   "id": "national-duration",
   "metadata": {},
   "outputs": [],
   "source": [
    "vocab = list(set(vocab))\n",
    "word_to_ix = {w: i for i, w in enumerate(vocab)}"
   ]
  },
  {
   "cell_type": "code",
   "execution_count": 73,
   "id": "opened-choice",
   "metadata": {},
   "outputs": [],
   "source": [
    "def seq_to_ix(seq, vocab=vocab):\n",
    "    # len(vocab), which is the last index, is for the <unk> (unknown) token\n",
    "    unk_idx = len(vocab)\n",
    "    return np.array(list(map(lambda w: word_to_ix.get(w, unk_idx), seq)))\n",
    "\n",
    "data = {\n",
    "    \"train\": list(map(seq_to_ix, trainset)),\n",
    "    \"test\": list(map(seq_to_ix, testset))\n",
    "}"
   ]
  },
  {
   "cell_type": "code",
   "execution_count": 74,
   "id": "tender-polish",
   "metadata": {},
   "outputs": [
    {
     "data": {
      "text/plain": [
       "array([14079, 12862, 24273, 21913,  5652])"
      ]
     },
     "execution_count": 74,
     "metadata": {},
     "output_type": "execute_result"
    }
   ],
   "source": [
    "data[\"train\"][0][:5]  # word indices"
   ]
  },
  {
   "cell_type": "markdown",
   "id": "promising-board",
   "metadata": {},
   "source": [
    "## Model: Basic LDA"
   ]
  },
  {
   "cell_type": "markdown",
   "id": "wooden-wilderness",
   "metadata": {},
   "source": [
    "### Variational EM"
   ]
  },
  {
   "cell_type": "markdown",
   "id": "familiar-gallery",
   "metadata": {},
   "source": [
    "For each document $\\mathbf{w}$ in a corpus $D$, generate\n",
    "\n",
    "$$\n",
    "N \\sim \\mathcal{P}(\\xi) \\\\\n",
    "\\theta \\sim \\text{Dir}(\\alpha)\n",
    "$$\n",
    "\n",
    "and for $n = 1, \\cdots, N$, generate\n",
    "\n",
    "$$\n",
    "z_n \\sim \\text{Multi}(\\theta) \\\\\n",
    "w_n \\sim P(w_n | z_n, \\beta)\n",
    "$$\n",
    "\n",
    "where $\\beta \\in \\mathbb{R}^{k \\times V}$, $\\beta_{ij} = P(w^j = 1| z^i = 1)$."
   ]
  },
  {
   "cell_type": "markdown",
   "id": "historic-vermont",
   "metadata": {},
   "source": [
    "* $\\alpha, \\beta$: hyperparameters (Dirichlet, Multinomial).\n",
    "* $N$: The number of words in the document. (ancillary variable)\n",
    "* $\\theta$: A topic mixture.\n",
    "* (For $i$ in $1\\cdots N$)\n",
    "  * $z_n$: A topic variable.\n",
    "  * $w_n$: A generated word."
   ]
  },
  {
   "cell_type": "code",
   "execution_count": 75,
   "id": "adjusted-scale",
   "metadata": {},
   "outputs": [],
   "source": [
    "def init_lda(docs, n_topic, random_state=0):\n",
    "    global V, k, N, M, alpha, beta, gamma, phi\n",
    "    np.random.seed(random_state)\n",
    "    \n",
    "    V = len(vocab)\n",
    "    k = n_topic  # number of topics\n",
    "    N = np.array([doc.shape[0] for doc in docs])\n",
    "    M = len(docs)\n",
    "\n",
    "    print(f\"V: {V}\\nk: {k}\\nN: {N[:10]}...\\nM: {M}\")\n",
    "\n",
    "    # initialize α, β\n",
    "    alpha = np.random.gamma(shape=100, scale=0.01, size=k) #np.random.rand(k)\n",
    "    beta = np.random.dirichlet(np.ones(V), k)\n",
    "\n",
    "    print(f\"α: dim {alpha.shape}\\nβ: dim {beta.shape}\")\n",
    "\n",
    "    # initialize ϕ, γ\n",
    "    ## ϕ: (M x max(N) x k) arrays with zero paddings on the right\n",
    "    gamma = alpha + np.ones((M, k)) * N.reshape(-1, 1) / k\n",
    "\n",
    "    phi = np.ones((M, max(N), k)) / k\n",
    "    for m, N_d in enumerate(N):\n",
    "        phi[m, N_d:, :] = 0  # zero padding for vectorized operations\n",
    "\n",
    "    print(f\"γ: dim {gamma.shape}\\nϕ: dim ({len(phi)}, N_d, {phi[0].shape[1]})\")"
   ]
  },
  {
   "cell_type": "markdown",
   "id": "hidden-phoenix",
   "metadata": {},
   "source": [
    "#### E-step"
   ]
  },
  {
   "cell_type": "markdown",
   "id": "acoustic-algebra",
   "metadata": {},
   "source": [
    "Let $\\phi_d \\in \\mathbb{R}^{N \\times k}, \\gamma_d \\in \\mathbb{R}^k$ be variational parameters for $\\alpha, \\beta$."
   ]
  },
  {
   "cell_type": "markdown",
   "id": "overhead-arcade",
   "metadata": {},
   "source": [
    "For a document $\\mathbf{w}_d$, $d = 1,\\cdots,M$,\n",
    "\n",
    "1. initialize $\\phi_{dni}^0 := 1/k$ for all $i,n$.\n",
    "2. initialize $\\gamma_{di}^0 := \\alpha_i + N/k$ for all $i$.\n",
    "3. **repeat until** convergence\n",
    "    1. for $n=1$ to $N$\n",
    "        1. for $i=1$ to $k$\n",
    "            1. $\\phi_{dni}^{t+1} := \\beta_{i\\mathbf{w}_{dn}}\\exp\\left(\\Psi(\\gamma_{di}^t) - \\Psi(\\sum_{j=1}^k \\gamma_{dj}^t)\\right)$\n",
    "        2. normalize $\\phi_{dn}^{t+1}$ to sum to 1\n",
    "    2. $\\gamma_d^{t+1} := \\alpha + \\sum_{n=1}^N \\phi_{dn}^{t+1}$\n",
    "    \n",
    "where $\\Psi$ is the first derivative of the $\\log\\Gamma$ function."
   ]
  },
  {
   "cell_type": "code",
   "execution_count": 76,
   "id": "reverse-velvet",
   "metadata": {},
   "outputs": [],
   "source": [
    "from tqdm.auto import tqdm\n",
    "\n",
    "def E_step(docs, phi, gamma, alpha, beta):\n",
    "    \"\"\"\n",
    "    Minorize the joint likelihood function via variational inference.\n",
    "    This is the E-step of variational EM algorithm for (smoothed) LDA.\n",
    "    \"\"\"\n",
    "    # optimize phi\n",
    "    for m in range(M):\n",
    "        phi[m, :N[m], :] = (beta[:, docs[m]] * np.exp(psi(gamma[m, :]) - psi(gamma[m, :].sum())).reshape(-1, 1)).T\n",
    "\n",
    "        # Normalize phi\n",
    "        phi[m, :N[m]] /= phi[m, :N[m]].sum(axis=1).reshape(-1, 1)\n",
    "        if np.any(np.isnan(phi)):\n",
    "            raise ValueError(\"phi nan\")\n",
    "\n",
    "    # optimize gamma\n",
    "    gamma = alpha + phi.sum(axis=1)\n",
    "\n",
    "    return phi, gamma"
   ]
  },
  {
   "cell_type": "markdown",
   "id": "adopted-referral",
   "metadata": {},
   "source": [
    "#### M-step"
   ]
  },
  {
   "cell_type": "markdown",
   "id": "technological-strap",
   "metadata": {},
   "source": [
    "$$\n",
    "\\beta_{ij} \\propto \\sum_{d=1}^M \\sum_{n=1}^N \\phi_{dni} \\mathbf{w}_{dn}^j\n",
    "$$"
   ]
  },
  {
   "cell_type": "markdown",
   "id": "meaning-interest",
   "metadata": {},
   "source": [
    "$\\alpha$ is updated via Newton-Raphson method:"
   ]
  },
  {
   "cell_type": "markdown",
   "id": "continued-breeding",
   "metadata": {},
   "source": [
    "$$\n",
    "\\frac{\\partial L}{\\partial \\alpha_i} \n",
    "  = M\\left( \\Psi\\left(\\sum_{j=1}^k \\alpha_j\\right) - \\Psi(\\alpha_i) \\right)\n",
    "    - \\sum_{d=1}^M \\left( \\Psi(\\gamma_{di}) - \\Psi\\left(\\sum_{j=1}^k \\gamma_{dj}\\right) \\right) \\\\\n",
    "\\frac{\\partial^2 L}{\\partial \\alpha_i \\alpha_j} = M \\left( \\Psi'\\left(\\sum_{j=1}^k \\alpha_j\\right) - \\delta(i,j) \\Psi'(\\alpha_i) \\right)\n",
    "$$\n",
    "\n",
    "where $\\delta(i,j) = 1$ if $i=j$, $0$ otherwise."
   ]
  },
  {
   "cell_type": "code",
   "execution_count": 77,
   "id": "reflected-chess",
   "metadata": {},
   "outputs": [],
   "source": [
    "def M_step(docs, phi, gamma, alpha, beta, M):\n",
    "    \"\"\"\n",
    "    maximize the lower bound of the likelihood.\n",
    "    This is the M-step of variational EM algorithm for (smoothed) LDA.\n",
    "    \n",
    "    update of alpha follows from appendix A.2 of Blei et al., 2003.\n",
    "    \"\"\"\n",
    "    # update alpha\n",
    "    alpha = _update(alpha, gamma, M)\n",
    "    \n",
    "    # update beta\n",
    "    for j in range(V):\n",
    "        beta[:, j] = np.array([_inner_sum(docs, phi, m, j) for m in range(M)]).sum(axis=0)\n",
    "    beta /= beta.sum(axis=1).reshape(-1, 1)\n",
    "\n",
    "    return alpha, beta"
   ]
  },
  {
   "cell_type": "code",
   "execution_count": 78,
   "id": "south-lease",
   "metadata": {},
   "outputs": [],
   "source": [
    "import warnings\n",
    "\n",
    "def _update(var, vi_var, const, max_iter=10000, tol=1e-4):\n",
    "    \"\"\"\n",
    "    From appendix A.2 of Blei et al., 2003.\n",
    "    For hessian with shape `H = diag(h) + 1z1'`\n",
    "    \n",
    "    To update alpha, input var=alpha and vi_var=gamma, const=M.\n",
    "    To update eta, input var=eta and vi_var=lambda, const=k.\n",
    "    \"\"\"\n",
    "    for _ in range(max_iter):\n",
    "        # store old value\n",
    "        var0 = var.copy()\n",
    "        \n",
    "        # g: gradient \n",
    "        psi_sum = psi(vi_var.sum(axis=1)).reshape(-1, 1)\n",
    "        g = const * (psi(var.sum()) - psi(var)) \\\n",
    "            + (psi(vi_var) - psi_sum).sum(axis=0)\n",
    "\n",
    "        # H = diag(h) + 1z1'\n",
    "        z = const * polygamma(1, var.sum())  # z: Hessian constant component\n",
    "        h = -const * polygamma(1, var)       # h: Hessian diagonal component\n",
    "        c = (g / h).sum() / (1./z + (1./h).sum())\n",
    "\n",
    "        # update var\n",
    "        var -= (g - c) / h\n",
    "        \n",
    "        # check convergence\n",
    "        err = np.mean((var - var0) ** 2)\n",
    "        crit = err < tol ** 2\n",
    "        if crit:\n",
    "            break\n",
    "    else:\n",
    "        warnings.warn(f\"max_iter={max_iter} reached: values might not be optimal.\")\n",
    "    \n",
    "    #print(err)\n",
    "    return var\n",
    "\n",
    "def _inner_sum(docs, phi, m, j):\n",
    "    # doc = np.zeros(docs[m].shape[0] * V, dtype=int)\n",
    "    # doc[np.arange(0, docs[m].shape[0] * V, V) + docs[m]] = 1\n",
    "    # doc = doc.reshape(-1, V)\n",
    "    # lam += phi[m, :N[m], :].T @ doc\n",
    "    return (docs[m] == j) @ phi[m, :N[m], :]"
   ]
  },
  {
   "cell_type": "markdown",
   "id": "reflected-hollywood",
   "metadata": {},
   "source": [
    "#### Variational lower bound"
   ]
  },
  {
   "cell_type": "markdown",
   "id": "cloudy-veteran",
   "metadata": {},
   "source": [
    "$$\\begin{align}\n",
    "L(\\gamma, \\phi; \\alpha, \\beta)\n",
    "  &= \\log\\Gamma(\\sum_{j=1}^k \\alpha_j) - \\sum_{i=1}^k \\log\\Gamma(\\alpha_i) + \\sum_{i=1}^k (\\alpha_i - 1) \\left(\\Psi(\\gamma_i) - \\Psi(\\sum_{i=1}^k \\gamma_i)\\right) \\\\\n",
    "  &+ \\sum_{n=1}^N \\sum_{i=1}^k \\phi_{ni} \\left(\\Psi(\\gamma_i) - \\Psi(\\sum_{i=1}^k \\gamma_i)\\right) \\\\\n",
    "  &+ \\sum_{n=1}^N \\sum_{i=1}^k \\sum_{j=1}^V \\phi_{ni} \\mathbf{w}_{n}^j \\log\\beta_{ij} \\\\\n",
    "  &- \\log\\Gamma(\\sum_{i=1}^k \\gamma_i) + \\sum_{i=1}^k \\log\\Gamma(\\gamma_i) - \\sum_{i=1}^k (\\gamma_i - 1) \\left(\\Psi(\\gamma_i) - \\Psi(\\sum_{i=1}^k \\gamma_i)\\right) \\\\\n",
    "  &- \\sum_{n=1}^N \\sum_{i=1}^k \\phi_{ni} \\log\\phi_{ni}\n",
    "\\end{align}$$"
   ]
  },
  {
   "cell_type": "code",
   "execution_count": 79,
   "id": "colored-compilation",
   "metadata": {},
   "outputs": [],
   "source": [
    "def dg(gamma, d, i):\n",
    "    \"\"\"\n",
    "    E[log θ_t] where θ_t ~ Dir(gamma)\n",
    "    \"\"\"\n",
    "    return psi(gamma[d, i]) - psi(np.sum(gamma[d, :]))\n",
    "\n",
    "\n",
    "def dl(lam, i, w_n):\n",
    "    \"\"\"\n",
    "    E[log β_t] where β_t ~ Dir(lam)\n",
    "    \"\"\"\n",
    "    return psi(lam[i, w_n]) - psi(np.sum(lam[i, :]))\n",
    "\n",
    "def vlb(docs, phi, gamma, alpha, beta, M, N, k):\n",
    "    \"\"\"\n",
    "    Average variational lower bound for joint log likelihood.\n",
    "    \"\"\"\n",
    "    lb = 0\n",
    "    for d in range(M):\n",
    "        lb += (\n",
    "            gammaln(np.sum(alpha))\n",
    "            - np.sum(gammaln(alpha))\n",
    "            + np.sum([(alpha[i] - 1) * dg(gamma, d, i) for i in range(k)])\n",
    "        )\n",
    "\n",
    "        lb += (\n",
    "            gammaln(np.sum(gamma[d, :]))\n",
    "            - np.sum(gammaln(gamma[d, :]))\n",
    "            + np.sum([(gamma[d, i] - 1) * dg(gamma, d, i) for i in range(k)])\n",
    "        )\n",
    "\n",
    "        for n in range(N[d]):\n",
    "            w_n = int(docs[d][n])\n",
    "\n",
    "            lb += np.sum([phi[d][n, i] * dg(gamma, d, i) for i in range(k)])\n",
    "            lb += np.sum([phi[d][n, i] * np.log(beta[i, w_n]) for i in range(k)])\n",
    "            lb += np.sum([phi[d][n, i] * np.log(phi[d][n, i]) for i in range(k)])\n",
    "\n",
    "    return lb / M"
   ]
  },
  {
   "cell_type": "markdown",
   "id": "skilled-houston",
   "metadata": {},
   "source": [
    "### Training"
   ]
  },
  {
   "cell_type": "markdown",
   "id": "perceived-confirmation",
   "metadata": {},
   "source": [
    "Only on 100 documents"
   ]
  },
  {
   "cell_type": "code",
   "execution_count": 80,
   "id": "seventh-margin",
   "metadata": {},
   "outputs": [],
   "source": [
    "docs = data[\"train\"][:100]"
   ]
  },
  {
   "cell_type": "code",
   "execution_count": 81,
   "id": "latin-switch",
   "metadata": {
    "scrolled": false
   },
   "outputs": [
    {
     "name": "stdout",
     "output_type": "stream",
     "text": [
      "V: 24714\n",
      "k: 5\n",
      "N: [264 127  59  74  55  18 117  43  86  76]...\n",
      "M: 100\n",
      "α: dim (5,)\n",
      "β: dim (5, 24714)\n",
      "γ: dim (100, 5)\n",
      "ϕ: dim (100, N_d, 5)\n"
     ]
    }
   ],
   "source": [
    "init_lda(docs, n_topic=5)"
   ]
  },
  {
   "cell_type": "code",
   "execution_count": 82,
   "id": "female-mouse",
   "metadata": {
    "scrolled": true
   },
   "outputs": [
    {
     "name": "stdout",
     "output_type": "stream",
     "text": [
      " 000:  variational_lb: -582.986\n",
      " 001:  variational_lb: -577.172\n",
      " 002:  variational_lb: -571.734\n",
      " 003:  variational_lb: -564.618\n",
      " 004:  variational_lb: -553.614\n",
      " 005:  variational_lb: -536.302\n",
      " 006:  variational_lb: -511.802\n",
      " 007:  variational_lb: -482.697\n",
      " 008:  variational_lb: -453.737\n",
      " 009:  variational_lb: -428.951\n",
      " 010:  variational_lb: -409.294\n",
      " 011:  variational_lb: -393.378\n",
      " 012:  variational_lb: -378.997\n",
      " 013:  variational_lb: -364.497\n",
      " 014:  variational_lb: -350.007\n",
      " 015:  variational_lb: -335.778\n",
      " 016:  variational_lb: -322.113\n",
      " 017:  variational_lb: -308.693\n",
      " 018:  variational_lb: -295.426\n",
      " 019:  variational_lb: -282.391\n",
      " 020:  variational_lb: -269.388\n",
      " 021:  variational_lb: -255.742\n",
      " 022:  variational_lb: -240.965\n",
      " 023:  variational_lb: -225.460\n",
      " 024:  variational_lb: -209.621\n",
      " 025:  variational_lb: -194.219\n",
      " 026:  variational_lb: -179.056\n",
      " 027:  variational_lb: -163.616\n",
      " 028:  variational_lb: -148.061\n",
      " 029:  variational_lb: -132.800\n",
      " 030:  variational_lb: -117.660\n",
      " 031:  variational_lb: -101.955\n",
      " 032:  variational_lb: -86.497\n",
      " 033:  variational_lb: -71.473\n"
     ]
    },
    {
     "name": "stderr",
     "output_type": "stream",
     "text": [
      "<ipython-input-79-1f6ac6fbd577>:36: RuntimeWarning: divide by zero encountered in log\n",
      "  lb += np.sum([phi[d][n, i] * np.log(beta[i, w_n]) for i in range(k)])\n",
      "<ipython-input-79-1f6ac6fbd577>:36: RuntimeWarning: invalid value encountered in double_scalars\n",
      "  lb += np.sum([phi[d][n, i] * np.log(beta[i, w_n]) for i in range(k)])\n",
      "<ipython-input-79-1f6ac6fbd577>:37: RuntimeWarning: divide by zero encountered in log\n",
      "  lb += np.sum([phi[d][n, i] * np.log(phi[d][n, i]) for i in range(k)])\n",
      "<ipython-input-79-1f6ac6fbd577>:37: RuntimeWarning: invalid value encountered in double_scalars\n",
      "  lb += np.sum([phi[d][n, i] * np.log(phi[d][n, i]) for i in range(k)])\n"
     ]
    },
    {
     "name": "stdout",
     "output_type": "stream",
     "text": [
      "NaN detected: lb\n",
      " ========== TRAINING FINISHED ==========\n",
      "CPU times: user 2min 49s, sys: 493 ms, total: 2min 50s\n",
      "Wall time: 2min 49s\n"
     ]
    }
   ],
   "source": [
    "%%time\n",
    "\n",
    "N_EPOCH = 1000\n",
    "TOL = .1\n",
    "\n",
    "verbose = True\n",
    "lb = -np.inf\n",
    "\n",
    "for epoch in range(N_EPOCH): \n",
    "    # store old value\n",
    "    lb_old = lb\n",
    "    \n",
    "    # Variational EM\n",
    "    phi, gamma = E_step(docs, phi, gamma, alpha, beta)\n",
    "    alpha, beta = M_step(docs, phi, gamma, alpha, beta, M)\n",
    "    \n",
    "    # check anomaly\n",
    "    if np.any(np.isnan(alpha)):\n",
    "        print(\"NaN detected: alpha\")\n",
    "        break\n",
    "    \n",
    "    # check convergence\n",
    "    lb = vlb(docs, phi, gamma, alpha, beta, M, N, k)\n",
    "    err = abs(lb - lb_old)\n",
    "    \n",
    "    # check anomaly\n",
    "    if np.isnan(lb):\n",
    "        print(\"NaN detected: lb\")\n",
    "        break\n",
    "        \n",
    "    if verbose:\n",
    "        print(f\"{epoch: 04}:  variational_lb: {lb: .3f},  error: {err: .3f}\")\n",
    "    \n",
    "    if err < TOL:\n",
    "        break\n",
    "else:\n",
    "    warnings.warn(f\"max_iter reached: values might not be optimal.\")\n",
    "\n",
    "print(\" ========== TRAINING FINISHED ==========\")"
   ]
  },
  {
   "cell_type": "markdown",
   "id": "controlling-bread",
   "metadata": {},
   "source": [
    "Training result"
   ]
  },
  {
   "cell_type": "markdown",
   "id": "heavy-burke",
   "metadata": {},
   "source": [
    "1. Topic extraction"
   ]
  },
  {
   "cell_type": "code",
   "execution_count": 83,
   "id": "inner-punch",
   "metadata": {},
   "outputs": [],
   "source": [
    "def n_most_important(beta_i, n=30):\n",
    "    \"\"\"\n",
    "    find the index of the largest `n` values in a list\n",
    "    \"\"\"\n",
    "    \n",
    "    max_values = beta_i.argsort()[-n:][::-1]\n",
    "    return np.array(vocab)[max_values]"
   ]
  },
  {
   "cell_type": "code",
   "execution_count": 84,
   "id": "foreign-edwards",
   "metadata": {},
   "outputs": [
    {
     "name": "stdout",
     "output_type": "stream",
     "text": [
      "TOPIC 00: ['said' 'oil' 'dlrs' 'bp' 'u' 'lt' 'standard' ',\"' 'offer' 'year']\n",
      "TOPIC 01: ['vs' 'mln' 'loss' 'cts' 'net' 'shr' 'year' 'profit' 'revs' 'dlrs']\n",
      "TOPIC 02: ['said' 'lt' 'company' 'cts' 'quarter' 'stock' 'share' 'corp' 'dlrs'\n",
      " 'april']\n",
      "TOPIC 03: ['said' 'dlrs' 'new' 'cocoa' 'stock' 'crop' 'bales' 'farmers' 'u' 'buffer']\n",
      "TOPIC 04: ['said' 'pct' 'billion' 'bank' 'heller' 'mln' 'year' 'financial' 'cubic'\n",
      " 'company']\n"
     ]
    }
   ],
   "source": [
    "for i in range(k):\n",
    "    print(f\"TOPIC {i:02}: {n_most_important(beta[i], 10)}\")"
   ]
  },
  {
   "cell_type": "markdown",
   "id": "blond-agenda",
   "metadata": {},
   "source": [
    "2. Topic-word distribution"
   ]
  },
  {
   "cell_type": "code",
   "execution_count": 100,
   "id": "falling-monster",
   "metadata": {},
   "outputs": [],
   "source": [
    "?sns.clustermap"
   ]
  },
  {
   "cell_type": "code",
   "execution_count": 124,
   "id": "chinese-distinction",
   "metadata": {},
   "outputs": [
    {
     "data": {
      "image/png": "[encoded data removed]",
      "text/plain": [
       "<Figure size 576x576 with 4 Axes>"
      ]
     },
     "metadata": {
      "needs_background": "light"
     },
     "output_type": "display_data"
    }
   ],
   "source": [
    "plt.figure(figsize=(8,8))\n",
    "plt.subplot(121)\n",
    "sns.heatmap(beta.T[:300], xticklabels=[], yticklabels=[])\n",
    "plt.xlabel(\"Topics\", fontsize=14)\n",
    "plt.ylabel(\"Words[:300]\", fontsize=14)\n",
    "\n",
    "plt.subplot(122)\n",
    "sns.heatmap(gamma, xticklabels=[], yticklabels=[])\n",
    "plt.xlabel(\"Topics\", fontsize=14)\n",
    "plt.ylabel(\"Documents\", fontsize=14)\n",
    "\n",
    "plt.tight_layout();"
   ]
  },
  {
   "cell_type": "markdown",
   "id": "fiscal-secret",
   "metadata": {},
   "source": [
    "### Collapsed Gibbs Sampling"
   ]
  },
  {
   "cell_type": "code",
   "execution_count": null,
   "id": "permanent-macro",
   "metadata": {},
   "outputs": [],
   "source": []
  },
  {
   "cell_type": "code",
   "execution_count": null,
   "id": "distinguished-fishing",
   "metadata": {},
   "outputs": [],
   "source": []
  },
  {
   "cell_type": "code",
   "execution_count": null,
   "id": "innocent-delay",
   "metadata": {},
   "outputs": [],
   "source": []
  },
  {
   "cell_type": "markdown",
   "id": "accomplished-fellow",
   "metadata": {},
   "source": [
    "---"
   ]
  },
  {
   "cell_type": "markdown",
   "id": "first-lender",
   "metadata": {},
   "source": [
    "## Model: Smoothed LDA"
   ]
  },
  {
   "cell_type": "markdown",
   "id": "imported-cause",
   "metadata": {},
   "source": [
    "For each document $\\mathbf{w}$ in a corpus $D$, generate\n",
    "\n",
    "$$\n",
    "N \\sim \\mathcal{P}(\\xi) \\\\\n",
    "\\beta \\sim \\text{Dir}(\\lambda) \\\\\n",
    "\\theta \\sim \\text{Dir}(\\alpha)\n",
    "$$\n",
    "\n",
    "and for $n = 1, \\cdots, N$, generate\n",
    "\n",
    "$$\n",
    "z_n \\sim \\text{Multi}(\\theta) \\\\\n",
    "w_n \\sim P(w_n | z_n, \\beta)\n",
    "$$\n",
    "\n",
    "where $\\beta \\in \\mathbb{R}^{k \\times V}$, $\\beta_{ij} = P(w^j = 1| z^i = 1)$."
   ]
  },
  {
   "cell_type": "markdown",
   "id": "identified-porter",
   "metadata": {},
   "source": [
    "* $\\alpha, \\eta$: Dirichlet hyperparameters.\n",
    "* $\\beta$: Unsmoothed multinomial hyperparameter.\n",
    "* $N$: The number of words in the document. (ancillary variable)\n",
    "* $\\theta$: A topic mixture.\n",
    "* (For $i$ in $1\\cdots N$)\n",
    "  * $z_n$: A topic variable.\n",
    "  * $w_n$: A generated word."
   ]
  },
  {
   "cell_type": "markdown",
   "id": "realistic-facility",
   "metadata": {},
   "source": [
    "### Collaped Gibbs Sampling"
   ]
  },
  {
   "cell_type": "code",
   "execution_count": null,
   "id": "blank-telling",
   "metadata": {},
   "outputs": [],
   "source": []
  },
  {
   "cell_type": "markdown",
   "id": "hindu-telescope",
   "metadata": {},
   "source": [
    "### Variational EM"
   ]
  },
  {
   "cell_type": "markdown",
   "id": "yellow-favor",
   "metadata": {},
   "source": [
    "#### E-step"
   ]
  },
  {
   "cell_type": "markdown",
   "id": "endangered-thing",
   "metadata": {},
   "source": [
    "Let $\\phi_d \\in \\mathbb{R}^{N \\times k}, \\gamma_d \\in \\mathbb{R}^k, \\lambda \\in \\mathbb{R}^{k \\times V}$ be variational parameters for $\\alpha, \\beta, \\eta$.  \n",
    "Suppose further that for $\\beta \\in \\mathbb{R}^{k \\times V}$, $\\beta_i^0 \\sim \\text{Dir}(\\lambda^0)$ where $\\lambda_i^0 = \\eta$ for all $i$."
   ]
  },
  {
   "cell_type": "markdown",
   "id": "interesting-digit",
   "metadata": {},
   "source": [
    "For a document $\\mathbf{w}_d$, $d = 1,\\cdots,M$,\n",
    "\n",
    "1. initialize $\\phi_{dni}^0 := 1/k$ for all $i,n$.\n",
    "2. initialize $\\gamma_{di} := \\alpha_i + N/k$ for all $i$.\n",
    "3. **repeat until** convergence\n",
    "    1. for $n=1$ to $N$\n",
    "        1. for $i=1$ to $k$\n",
    "            1. $\\phi_{dni}^{t+1} := \\exp\\left(\\Psi(\\lambda_{iw_{dn}}^t) - \\Psi(\\sum_{j=1}^V \\lambda_{ij}^t) + \\Psi(\\gamma_{di}^t) - \\Psi(\\sum_{j=1}^k \\gamma_{dj}^t)\\right)$\n",
    "            1. for $j=1$ to $V$\n",
    "                1. $\\lambda_{ij} = \\eta + \\sum_{d=1}^M \\sum_{n=1}^{N_d} \\phi_{dni} w_{dn}^j$\n",
    "        2. normalize $\\phi_{dn}^{t+1}$ to sum to 1\n",
    "    2. $\\gamma_d^{t+1} := \\alpha + \\sum_{n=1}^N \\phi_{dn}^{t+1}$\n",
    "    \n",
    "where $\\Psi$ is the first derivative of the $\\log\\Gamma$ function."
   ]
  },
  {
   "cell_type": "markdown",
   "id": "lesser-occasion",
   "metadata": {},
   "source": [
    "#### M-step"
   ]
  },
  {
   "cell_type": "markdown",
   "id": "federal-swing",
   "metadata": {},
   "source": [
    "$$\n",
    "\\beta_{ij} \\propto \\sum_{d=1}^M \\sum_{n=1}^N \\phi_{dni} \\mathbf{w}_{dn}^j\n",
    "$$"
   ]
  },
  {
   "cell_type": "markdown",
   "id": "military-flood",
   "metadata": {},
   "source": [
    "$\\alpha$ is updated via Newton-Raphson method:"
   ]
  },
  {
   "cell_type": "markdown",
   "id": "according-friday",
   "metadata": {},
   "source": [
    "$$\n",
    "\\frac{\\partial L}{\\partial \\alpha_i} \n",
    "  = M\\left( \\Psi\\left(\\sum_{j=1}^k \\alpha_j\\right) - \\Psi(\\alpha_i) \\right)\n",
    "    - \\sum_{d=1}^M \\left( \\Psi(\\gamma_{di}) - \\Psi\\left(\\sum_{j=1}^k \\gamma_{dj}\\right) \\right) \\\\\n",
    "\\frac{\\partial^2 L}{\\partial \\alpha_i \\alpha_j} = M \\left( \\Psi'\\left(\\sum_{j=1}^k \\alpha_j\\right) - \\delta(i,j) \\Psi'(\\alpha_i) \\right)\n",
    "$$\n",
    "\n",
    "where $\\delta(i,j) = 1$ if $i=j$, $0$ otherwise."
   ]
  },
  {
   "cell_type": "code",
   "execution_count": 185,
   "id": "later-restoration",
   "metadata": {},
   "outputs": [],
   "source": [
    "class SmoothedLDA:\n",
    "    \n",
    "    def __init__(self, docs, vocab, k):\n",
    "        self.docs = docs\n",
    "        \n",
    "        self.V = len(vocab)\n",
    "        self.k = k  # number of topics\n",
    "        self.N = np.array([doc.shape[0] for doc in docs])\n",
    "        self.M = len(docs)\n",
    "        \n",
    "        V = self.V\n",
    "        N = self.N\n",
    "        M = self.M\n",
    "        \n",
    "        # initialize model parameters\n",
    "        ##self.beta = np.ones((k, V)) / V\n",
    "        self.alpha = np.random.gamma(100, 0.01, k)\n",
    "        self.eta = np.ones(V)\n",
    "\n",
    "        # initialize variational parameters\n",
    "        # ϕ: (M x max(N) x k) arrays with zero paddings on the right\n",
    "        self.phi = [np.ones((N[d], k)) / k for d in range(M)]\n",
    "        self.gamma = alpha + (N / k).reshape(-1, 1)\n",
    "        self.lam = np.random.gamma(shape=100, scale=0.01, size=(k, V))\n",
    "        \n",
    "        \n",
    "    def _update_phi(self):\n",
    "        \"\"\"\n",
    "        Update variational parameter phi\n",
    "        ϕ_{n, j} ∝ e^[ (Ψ(λ_j) - Ψ(Σλ_j)) + ( Ψ(γ_j) - Ψ(Σγ_j) ) ]\n",
    "        \"\"\"\n",
    "        M = self.M\n",
    "        N = self.N\n",
    "        k = self.k\n",
    "\n",
    "        phi = self.phi\n",
    "        gamma = self.gamma\n",
    "        docs = self.docs\n",
    "\n",
    "        for d in range(M):\n",
    "            for n in range(N[d]):\n",
    "                for i in range(k):\n",
    "                    w_n = int(docs[d][n])\n",
    "                    phi[d][n, i] = np.exp(dl(lam, i, w_n) + dg(gamma, d, i))\n",
    "\n",
    "                # Normalize over topics\n",
    "                phi[d][n, :] = phi[d][n, :] / np.sum(phi[d][n, :])\n",
    "                \n",
    "        return phi\n",
    "    \n",
    "    def _update_gamma(self):\n",
    "        \"\"\"\n",
    "        Update variational parameter gamma\n",
    "        γ_t = α_t + Σ_{n=1}^{N_d} ϕ_{t, n}\n",
    "        \"\"\"\n",
    "        M = self.M\n",
    "        phi = self.phi\n",
    "        alpha = self.alpha\n",
    "\n",
    "        gamma = alpha + np.array(\n",
    "            list(map(lambda x: x.sum(axis=0), phi))\n",
    "        )\n",
    "        \n",
    "        return gamma\n",
    "    \n",
    "    \n",
    "    def _update_lam(self):\n",
    "        V = self.V\n",
    "        N = self.N\n",
    "        M = self.M\n",
    "        phi = self.phi\n",
    "        lam = self.lam\n",
    "        eta = self.eta\n",
    "        docs = self.docs\n",
    "        \n",
    "        lam[:] = eta\n",
    "        for d in range(M):  #, desc=\"MINORIZE lam\"):\n",
    "            doc = np.zeros(N[d] * V, dtype=int)\n",
    "            doc[np.arange(0, N[d] * V, V) + docs[d]] = 1\n",
    "            doc = doc.reshape(-1, V)\n",
    "            \n",
    "            lam += phi[d].T @ doc\n",
    "        \n",
    "        return lam\n",
    "        \n",
    "    \n",
    "    def _update_alpha(self, max_iter=1000, tol=0.1):\n",
    "        \"\"\"\n",
    "        Update alpha with linear time Newton-Raphson.\n",
    "        \"\"\"\n",
    "        M = self.M\n",
    "        k = self.k\n",
    "\n",
    "        alpha = self.alpha\n",
    "        gamma = self.gamma\n",
    "\n",
    "        for _ in range(max_iter):\n",
    "            alpha_old = alpha\n",
    "\n",
    "            #  Calculate gradient\n",
    "            g = M * (psi(np.sum(alpha)) - psi(alpha)) +\\\n",
    "                (psi(gamma) - psi(np.sum(gamma, axis=1)).reshape(-1, 1)).sum(axis=0)\n",
    "\n",
    "            #  Calculate Hessian diagonal component\n",
    "            h = -M * polygamma(1, alpha)\n",
    "\n",
    "            #  Calculate Hessian constant component\n",
    "            z = M * polygamma(1, np.sum(alpha))\n",
    "\n",
    "            #  Calculate constant\n",
    "            c = np.sum(g / h) / (z ** (-1.0) + np.sum(h ** (-1.0)))\n",
    "\n",
    "            #  Update alpha\n",
    "            alpha = alpha - (g - c) / h\n",
    "            \n",
    "            #  Check convergence\n",
    "            if np.sqrt(np.mean(np.square(alpha - alpha_old))) < tol:\n",
    "                break\n",
    "        else:\n",
    "            warnings.warn(\"_update_alpha(): max_iter reached.\")\n",
    "\n",
    "        return alpha\n",
    "    \n",
    "    \n",
    "    def _update_eta(self, max_iter=1000, tol=0.1):\n",
    "        \"\"\"\n",
    "        Update eta with linear time Newton-Raphson.\n",
    "        \"\"\"\n",
    "        M = self.M\n",
    "        k = self.k\n",
    "\n",
    "        eta = self.eta\n",
    "        lam = self.lam\n",
    "\n",
    "        for _ in range(max_iter):\n",
    "            eta_old = eta\n",
    "\n",
    "            #  Calculate gradient\n",
    "            g = k * (psi(np.sum(eta)) - psi(eta)) +\\\n",
    "                (psi(lam) - psi(np.sum(lam, axis=1)).reshape(-1, 1)).sum(axis=0)\n",
    "\n",
    "            #  Calculate Hessian diagonal component\n",
    "            h = -k * polygamma(1, eta)\n",
    "\n",
    "            #  Calculate Hessian constant component\n",
    "            z = k * polygamma(1, np.sum(eta))\n",
    "\n",
    "            #  Calculate constant\n",
    "            c = np.sum(g / h) / (z ** (-1.0) + np.sum(h ** (-1.0)))\n",
    "\n",
    "            #  Update alpha\n",
    "            eta = eta - (g - c) / h\n",
    "\n",
    "            #  Check convergence\n",
    "            if np.sqrt(np.mean(np.square(eta - eta_old))) < tol:\n",
    "                break\n",
    "        else:\n",
    "            warnings.warn(\"_update_eta(): max_iter reached.\")\n",
    "\n",
    "        return eta\n",
    "    \n",
    "    \n",
    "    def _E_step(self):\n",
    "        \"\"\"\n",
    "        E-step of the variational EM algorithm.\n",
    "        Update ϕ, γ, λ.\n",
    "        \"\"\"\n",
    "        self.phi = self._update_phi()\n",
    "        self.gamma = self._update_gamma()\n",
    "        self.lam = self._update_lam()\n",
    "        \n",
    "        \n",
    "    def _M_step(self):\n",
    "        \"\"\"\n",
    "        M-step of the variational EM algorithm.\n",
    "        Update α, η.\n",
    "        \"\"\"\n",
    "        self.alpha = self._update_alpha()\n",
    "        self.eta = self._update_eta()\n",
    "    \n",
    "    \n",
    "    def vlb(self):\n",
    "        \"\"\"\n",
    "        lower bound from variational inference\n",
    "        \"\"\"\n",
    "        phi = self.phi\n",
    "        gamma = self.gamma\n",
    "        lam = self.lam\n",
    "        alpha = self.alpha\n",
    "        eta = self.eta\n",
    "        docs = self.docs\n",
    "        \n",
    "        M = self.M\n",
    "        k = self.k\n",
    "        N = self.N\n",
    "        \n",
    "        a0, a1, a2, a3_1, a3_2, a4, a5 = 0., 0., 0., 0., 0., 0., 0.\n",
    "        for d in range(M):\n",
    "            a0 += (\n",
    "                k * (\n",
    "                    gammaln(np.sum(eta)) \n",
    "                    - np.sum(gammaln(eta))\n",
    "                )\n",
    "                + np.sum([(eta[j] - 1) * dl(lam, i, j) for j in range(V) for i in range(k)])\n",
    "            )\n",
    "            a1 += (\n",
    "                gammaln(np.sum(alpha))\n",
    "                - np.sum(gammaln(alpha))\n",
    "                + np.sum([(alpha[i] - 1) * dg(gamma, d, i) for i in range(k)])\n",
    "            )\n",
    "\n",
    "            a4 += (\n",
    "                gammaln(np.sum(gamma[d, :]))\n",
    "                - np.sum(gammaln(gamma[d, :]))\n",
    "                + np.sum([(gamma[d, i] - 1) * dg(gamma, d, i) for i in range(k)])\n",
    "            )\n",
    "            \n",
    "            for i in range(k):\n",
    "                for j in range(V):\n",
    "                    a3_2 += (\n",
    "                        gammaln(np.sum(lam[i, j]))\n",
    "                        - np.sum(gammaln(lam[i, :]))\n",
    "                        + np.sum((lam[i, j] - 1) * dl(lam, i, j))\n",
    "                    )\n",
    "\n",
    "            for n in range(N[d]):\n",
    "                w_n = int(docs[d][n])\n",
    "                a2 += np.sum([phi[d][n, i] * dg(gamma, d, i) for i in range(k)])\n",
    "                a3_1 += np.sum([phi[d][n, i] * dl(lam, i, w_n) for i in range(k)])\n",
    "                a5 += np.sum([phi[d][n, i] * np.log(phi[d][n, i]) for i in range(k)])\n",
    "\n",
    "        return a0 + a1 + a2 + a3_1 - a3_2 - a4 - a5\n",
    "    \n",
    "    \n",
    "    def train(self, max_iter=1000, tol=5, verbose=True):\n",
    "        vlb = -np.inf\n",
    "        \n",
    "        for it in range(max_iter):\n",
    "            old_vlb = vlb\n",
    "            self._E_step()\n",
    "            self._M_step()\n",
    "            \n",
    "            vlb = self.vlb()\n",
    "            err = vlb - old_vlb\n",
    "            \n",
    "            if verbose:\n",
    "                print(f\"Iteration {it+1}: {vlb: .3f} (delta: {err: .2f})\") \n",
    "            \n",
    "            if err < tol:\n",
    "                break\n",
    "        else:\n",
    "            warnings.warn(\"max_iter reached.\")"
   ]
  },
  {
   "cell_type": "markdown",
   "id": "rough-miami",
   "metadata": {},
   "source": [
    "```python\n",
    "lda = SmoothedLDA(docs, vocab, k)\n",
    "lda.train()\n",
    "```"
   ]
  },
  {
   "cell_type": "code",
   "execution_count": null,
   "id": "industrial-offer",
   "metadata": {},
   "outputs": [],
   "source": []
  }
 ],
 "metadata": {
  "kernelspec": {
   "display_name": "Python 3",
   "language": "python",
   "name": "python3"
  },
  "language_info": {
   "codemirror_mode": {
    "name": "ipython",
    "version": 3
   },
   "file_extension": ".py",
   "mimetype": "text/x-python",
   "name": "python",
   "nbconvert_exporter": "python",
   "pygments_lexer": "ipython3",
   "version": "3.9.1"
  },
  "toc": {
   "base_numbering": 1,
   "nav_menu": {},
   "number_sections": true,
   "sideBar": true,
   "skip_h1_title": false,
   "title_cell": "3-1. Latent Dirichlet Allocation",
   "title_sidebar": "Contents",
   "toc_cell": true,
   "toc_position": {},
   "toc_section_display": true,
   "toc_window_display": false
  }
 },
 "nbformat": 4,
 "nbformat_minor": 5
}
