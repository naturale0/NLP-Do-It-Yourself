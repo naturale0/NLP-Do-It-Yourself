{
 "cells": [
  {
   "cell_type": "markdown",
   "id": "constant-february",
   "metadata": {},
   "source": [
    "***The content below is a solution to and a walk-through of the tutorial [Deep Learning for NLP with PyTorch](https://pytorch.org/tutorials/beginner/deep_learning_nlp_tutorial.html).***"
   ]
  },
  {
   "cell_type": "markdown",
   "id": "joined-disco",
   "metadata": {
    "toc": true
   },
   "source": [
    "<h1>Sequence Models and LSTM Networks<span class=\"tocSkip\"></span></h1>\n",
    "<div class=\"toc\"><ul class=\"toc-item\"><li><span><a href=\"#LSTM-in-PyTorch\" data-toc-modified-id=\"LSTM-in-PyTorch-1\"><span class=\"toc-item-num\">1&nbsp;&nbsp;</span>LSTM in PyTorch</a></span></li><li><span><a href=\"#An-LSTM-for-part-of-speech-tagging\" data-toc-modified-id=\"An-LSTM-for-part-of-speech-tagging-2\"><span class=\"toc-item-num\">2&nbsp;&nbsp;</span>An LSTM for part-of-speech tagging</a></span></li><li><span><a href=\"#Exercise:-LSTM-pos-tagger-with-character-level-features\" data-toc-modified-id=\"Exercise:-LSTM-pos-tagger-with-character-level-features-3\"><span class=\"toc-item-num\">3&nbsp;&nbsp;</span>Exercise: LSTM pos tagger with character-level features</a></span></li></ul></div>"
   ]
  },
  {
   "cell_type": "markdown",
   "id": "foreign-bosnia",
   "metadata": {},
   "source": [
    "## LSTM in PyTorch"
   ]
  },
  {
   "cell_type": "markdown",
   "id": "explicit-amplifier",
   "metadata": {},
   "source": [
    "The semantics of the axes of these tensors is important.  (`NBW`)\n",
    "* (number of sequences `N`) The first axis is the sequence itself, \n",
    "* (batch `B`) the second indexes instances in the mini-batch, and \n",
    "* (width `W`) the third indexes elements of the input.\n",
    "\n",
    "*Note that the alphabetical codings are of my own - not conventional.*"
   ]
  },
  {
   "cell_type": "markdown",
   "id": "lyric-trout",
   "metadata": {},
   "source": [
    "If we want to run the sequence model over the sentence “The cow jumped”, our input should look like\n",
    "\n",
    "$$\n",
    "\\begin{split}\\begin{bmatrix}\n",
    "\\overbrace{q_\\text{The}}^\\text{row vector} \\\\\n",
    "q_\\text{cow} \\\\\n",
    "q_\\text{jumped}\n",
    "\\end{bmatrix}\\end{split}\n",
    "$$\n",
    "\n",
    "Except remember there is an additional 2nd dimension with size 1."
   ]
  },
  {
   "cell_type": "markdown",
   "id": "portuguese-promise",
   "metadata": {},
   "source": [
    "**A quick example**:"
   ]
  },
  {
   "cell_type": "markdown",
   "id": "frozen-movie",
   "metadata": {},
   "source": [
    "Go through the sequence one at a time, in which case the 1st axis will have size 1 also."
   ]
  },
  {
   "cell_type": "code",
   "execution_count": 1,
   "id": "proprietary-remark",
   "metadata": {},
   "outputs": [],
   "source": [
    "import torch\n",
    "import torch.nn as nn\n",
    "import torch.optim as optim\n",
    "import torch.nn.functional as F\n",
    "import matplotlib.pyplot as plt\n",
    "%matplotlib inline\n",
    "torch.manual_seed(0);"
   ]
  },
  {
   "cell_type": "code",
   "execution_count": 3,
   "id": "reliable-track",
   "metadata": {},
   "outputs": [
    {
     "data": {
      "text/plain": [
       "[tensor([[ 1.5410, -0.2934, -2.1788]]),\n",
       " tensor([[ 0.5684, -1.0845, -1.3986]]),\n",
       " tensor([[ 0.4033,  0.8380, -0.7193]]),\n",
       " tensor([[-0.4033, -0.5966,  0.1820]]),\n",
       " tensor([[-0.8567,  1.1006, -1.0712]])]"
      ]
     },
     "execution_count": 3,
     "metadata": {},
     "output_type": "execute_result"
    }
   ],
   "source": [
    "inputs = [torch.randn(1, 3) for _ in range(5)]  # make a sequence of length 5\n",
    "inputs"
   ]
  },
  {
   "cell_type": "code",
   "execution_count": 4,
   "id": "prime-consortium",
   "metadata": {},
   "outputs": [],
   "source": [
    "# LSTM\n",
    "lstm = nn.LSTM(3, 3)  # input dim: 3, output dim: 3\n",
    "\n",
    "# Initialize the hidden state of LSTM\n",
    "hidden = (torch.randn(1, 1, 3), torch.randn(1, 1, 3))"
   ]
  },
  {
   "cell_type": "code",
   "execution_count": 5,
   "id": "digital-addiction",
   "metadata": {},
   "outputs": [],
   "source": [
    "for i in inputs:\n",
    "    # Step through the sequence one element at a time.\n",
    "    # after each step, hidden contains the hidden state.\n",
    "    out, hidden = lstm(i.view(1, 1, -1), hidden)  # 1 sequence, minibatch of 1 sample"
   ]
  },
  {
   "cell_type": "code",
   "execution_count": 6,
   "id": "controlled-update",
   "metadata": {},
   "outputs": [
    {
     "data": {
      "text/plain": [
       "tensor([[[-0.3595,  0.3648, -0.1099]]], grad_fn=<StackBackward>)"
      ]
     },
     "execution_count": 6,
     "metadata": {},
     "output_type": "execute_result"
    }
   ],
   "source": [
    "out"
   ]
  },
  {
   "cell_type": "code",
   "execution_count": 7,
   "id": "genetic-trainer",
   "metadata": {},
   "outputs": [
    {
     "data": {
      "text/plain": [
       "(tensor([[[-0.3595,  0.3648, -0.1099]]], grad_fn=<StackBackward>),\n",
       " tensor([[[-0.6077,  0.7131, -0.4391]]], grad_fn=<StackBackward>))"
      ]
     },
     "execution_count": 7,
     "metadata": {},
     "output_type": "execute_result"
    }
   ],
   "source": [
    "hidden\n",
    "# first row: hidden state ($h_t$) \n",
    "# second row: cell state ($c_t$)"
   ]
  },
  {
   "cell_type": "markdown",
   "id": "relevant-basics",
   "metadata": {},
   "source": [
    "Alternatively, we can do the entire sequence all at once."
   ]
  },
  {
   "cell_type": "code",
   "execution_count": 8,
   "id": "minimal-antigua",
   "metadata": {},
   "outputs": [
    {
     "data": {
      "text/plain": [
       "tensor([[ 1.5410, -0.2934, -2.1788],\n",
       "        [ 0.5684, -1.0845, -1.3986],\n",
       "        [ 0.4033,  0.8380, -0.7193],\n",
       "        [-0.4033, -0.5966,  0.1820],\n",
       "        [-0.8567,  1.1006, -1.0712]])"
      ]
     },
     "execution_count": 8,
     "metadata": {},
     "output_type": "execute_result"
    }
   ],
   "source": [
    "torch.cat(inputs)"
   ]
  },
  {
   "cell_type": "code",
   "execution_count": 9,
   "id": "quiet-renewal",
   "metadata": {},
   "outputs": [],
   "source": [
    "# add the extra 2nd dim\n",
    "inputs = torch.cat(inputs)\n",
    "inputs = inputs.view(len(inputs), 1, -1)\n",
    "hidden = (torch.randn(1, 1, 3), torch.randn(1, 1, 3))"
   ]
  },
  {
   "cell_type": "code",
   "execution_count": 10,
   "id": "together-importance",
   "metadata": {},
   "outputs": [],
   "source": [
    "out, hidden = lstm(inputs, hidden)"
   ]
  },
  {
   "cell_type": "code",
   "execution_count": 11,
   "id": "quantitative-marking",
   "metadata": {},
   "outputs": [
    {
     "data": {
      "text/plain": [
       "tensor([[[-0.1794,  0.0072,  0.2785]],\n",
       "\n",
       "        [[-0.3096,  0.1303,  0.1442]],\n",
       "\n",
       "        [[-0.3161,  0.2303, -0.0010]],\n",
       "\n",
       "        [[-0.3107,  0.3189, -0.0664]],\n",
       "\n",
       "        [[-0.3685,  0.3597, -0.1108]]], grad_fn=<StackBackward>)"
      ]
     },
     "execution_count": 11,
     "metadata": {},
     "output_type": "execute_result"
    }
   ],
   "source": [
    "out  # hidden states of all 5 LSTM cells (each corresponding to 5 inputs)"
   ]
  },
  {
   "cell_type": "code",
   "execution_count": 12,
   "id": "acknowledged-triangle",
   "metadata": {
    "scrolled": true
   },
   "outputs": [
    {
     "data": {
      "text/plain": [
       "(tensor([[[-0.3685,  0.3597, -0.1108]]], grad_fn=<StackBackward>),\n",
       " tensor([[[-0.6269,  0.6967, -0.4441]]], grad_fn=<StackBackward>))"
      ]
     },
     "execution_count": 12,
     "metadata": {},
     "output_type": "execute_result"
    }
   ],
   "source": [
    "hidden  # last hidden state & cell state"
   ]
  },
  {
   "cell_type": "markdown",
   "id": "intensive-flood",
   "metadata": {},
   "source": [
    "The first value returned by LSTM (`out`) is all of the hidden states throughout\n",
    "the sequence. the second (`hidden`) is just the most recent hidden state\n",
    "(compare the last slice of `out` with `hidden` below, they are the same)\n",
    "The reason for this is that:\n",
    "* `out` will give you access to all hidden states in the sequence\n",
    "* `hidden` will allow you to continue the sequence and backpropagate,\n",
    "by passing it as an argument to the lstm at a later time."
   ]
  },
  {
   "cell_type": "markdown",
   "id": "expressed-novel",
   "metadata": {},
   "source": [
    "## An LSTM for part-of-speech tagging"
   ]
  },
  {
   "cell_type": "markdown",
   "id": "breeding-surprise",
   "metadata": {},
   "source": [
    "preprocess the data"
   ]
  },
  {
   "cell_type": "code",
   "execution_count": 13,
   "id": "agreed-taste",
   "metadata": {},
   "outputs": [],
   "source": [
    "trainset = [\n",
    "    (\"The dog ate the apple\".split(), [\"DET\", \"NN\", \"V\", \"DET\", \"NN\"]),\n",
    "    (\"Everybody read that book\".split(), [\"NN\", \"V\", \"DET\", \"NN\"])\n",
    "]"
   ]
  },
  {
   "cell_type": "code",
   "execution_count": 14,
   "id": "pleasant-pasta",
   "metadata": {},
   "outputs": [],
   "source": [
    "import numpy as np"
   ]
  },
  {
   "cell_type": "code",
   "execution_count": 15,
   "id": "manufactured-natural",
   "metadata": {},
   "outputs": [],
   "source": [
    "vocab = np.r_[list(zip(*trainset))[0]]\n",
    "vocab = list(map(lambda x: x.lower(), vocab))"
   ]
  },
  {
   "cell_type": "code",
   "execution_count": 16,
   "id": "considerable-single",
   "metadata": {},
   "outputs": [],
   "source": [
    "word_to_ix = {word: idx for idx, word in enumerate(vocab)}\n",
    "tag_to_ix = {\"det\": 0, \"nn\": 1, \"v\": 2}\n",
    "# DET - determiner; NN - noun; V - verb"
   ]
  },
  {
   "cell_type": "code",
   "execution_count": 17,
   "id": "hawaiian-japanese",
   "metadata": {},
   "outputs": [],
   "source": [
    "def prepare_(seq, to_ix):\n",
    "    idxs = [to_ix[w.lower()] for w in seq]\n",
    "    return torch.tensor(idxs, dtype=torch.long)"
   ]
  },
  {
   "cell_type": "markdown",
   "id": "killing-drain",
   "metadata": {},
   "source": [
    "define model"
   ]
  },
  {
   "cell_type": "code",
   "execution_count": 18,
   "id": "sized-escape",
   "metadata": {},
   "outputs": [],
   "source": [
    "VOCAB_SIZE = len(vocab)\n",
    "TARGET_SIZE = len(tag_to_ix)\n",
    "EMBEDDING_DIM = 6\n",
    "HIDDEN_DIM = 6"
   ]
  },
  {
   "cell_type": "code",
   "execution_count": 19,
   "id": "adult-mayor",
   "metadata": {},
   "outputs": [],
   "source": [
    "class LSTMTagger(nn.Module):\n",
    "    def __init__(self):\n",
    "        super(LSTMTagger, self).__init__()\n",
    "        self.embedding = nn.Embedding(VOCAB_SIZE, EMBEDDING_DIM)\n",
    "        self.lstm = nn.LSTM(EMBEDDING_DIM, HIDDEN_DIM)  # input: embedding, output: hidden\n",
    "        self.linear = nn.Linear(HIDDEN_DIM, TARGET_SIZE)\n",
    "        \n",
    "    def forward(self, x):\n",
    "        len_seq = len(x)\n",
    "        \n",
    "        x = self.embedding(x)\n",
    "        x = x.view(len_seq, 1, -1)\n",
    "        \n",
    "        x, _ = self.lstm(x)\n",
    "        x = x.view(len_seq, -1)\n",
    "        \n",
    "        x = F.log_softmax(self.linear(x), dim=1)\n",
    "        return x"
   ]
  },
  {
   "cell_type": "markdown",
   "id": "vital-picnic",
   "metadata": {},
   "source": [
    "train the model"
   ]
  },
  {
   "cell_type": "code",
   "execution_count": 20,
   "id": "lucky-president",
   "metadata": {},
   "outputs": [],
   "source": [
    "model = LSTMTagger()"
   ]
  },
  {
   "cell_type": "code",
   "execution_count": 21,
   "id": "breeding-nomination",
   "metadata": {},
   "outputs": [],
   "source": [
    "criterion = nn.NLLLoss()\n",
    "optimizer = optim.SGD(model.parameters(), lr=0.01, momentum=0.9)"
   ]
  },
  {
   "cell_type": "code",
   "execution_count": 22,
   "id": "inside-binding",
   "metadata": {},
   "outputs": [],
   "source": [
    "loss_history = []\n",
    "\n",
    "for i in range(1, 501):\n",
    "    loss_epoch = 0.\n",
    "    for data, target in trainset:\n",
    "        inputs = prepare_(data, to_ix=word_to_ix)\n",
    "        targets = prepare_(target, to_ix=tag_to_ix)\n",
    "        \n",
    "        model.zero_grad()\n",
    "        out = model(inputs)\n",
    "        loss = criterion(out, targets)\n",
    "        loss.backward()\n",
    "        optimizer.step()\n",
    "        \n",
    "        loss_epoch += loss.item()\n",
    "    loss_history.append(loss_epoch)"
   ]
  },
  {
   "cell_type": "markdown",
   "id": "aware-perry",
   "metadata": {},
   "source": [
    "results"
   ]
  },
  {
   "cell_type": "code",
   "execution_count": 23,
   "id": "compatible-majority",
   "metadata": {
    "scrolled": true
   },
   "outputs": [
    {
     "data": {
      "text/plain": [
       "[<matplotlib.lines.Line2D at 0x7fe01aa5b550>]"
      ]
     },
     "execution_count": 23,
     "metadata": {},
     "output_type": "execute_result"
    },
    {
     "data": {
      "image/png": "[encoded data removed]",
      "text/plain": [
       "<Figure size 432x288 with 1 Axes>"
      ]
     },
     "metadata": {
      "needs_background": "light"
     },
     "output_type": "display_data"
    }
   ],
   "source": [
    "plt.plot(loss_history)"
   ]
  },
  {
   "cell_type": "code",
   "execution_count": 24,
   "id": "thick-functionality",
   "metadata": {},
   "outputs": [
    {
     "name": "stdout",
     "output_type": "stream",
     "text": [
      "sentence: ['The', 'dog', 'ate', 'the', 'apple']\n",
      "pos tags: ['DET', 'NN', 'V', 'DET', 'NN']\n",
      "sentence: ['Everybody', 'read', 'that', 'book']\n",
      "pos tags: ['NN', 'V', 'DET', 'NN']\n"
     ]
    }
   ],
   "source": [
    "with torch.no_grad():\n",
    "    for i in range(2):\n",
    "        data = trainset[i][0]\n",
    "        inputs = prepare_(data, word_to_ix)\n",
    "        out = model(inputs)\n",
    "\n",
    "        tags = torch.argmax(torch.exp(out), dim=1).numpy()\n",
    "\n",
    "        print(\"sentence:\", data)\n",
    "        print(\"pos tags:\", [{v: k.upper() for k, v in tag_to_ix.items()}[t] for t in tags])"
   ]
  },
  {
   "cell_type": "markdown",
   "id": "magnetic-firmware",
   "metadata": {},
   "source": [
    "correctly tagged"
   ]
  },
  {
   "cell_type": "markdown",
   "id": "loaded-projector",
   "metadata": {},
   "source": [
    "## Exercise: LSTM pos tagger with character-level features"
   ]
  },
  {
   "cell_type": "markdown",
   "id": "connected-departure",
   "metadata": {},
   "source": [
    "In the example above, each word had an embedding, which served as the inputs to our sequence model.\n",
    "\n",
    "**Let’s augment the word embeddings with a representation derived from the characters of the word.** We expect that this should help significantly, since character-level information like affixes have a large bearing on part-of-speech. For example, words with the affix *-ly* are almost always tagged as adverbs in English."
   ]
  },
  {
   "cell_type": "markdown",
   "id": "sticky-perth",
   "metadata": {},
   "source": [
    "To do this, let $c_w$\n",
    " be the character-level representation of word $w$\n",
    ". Let $x_w$\n",
    " be the word embedding as before. Then the input to our sequence model is the concatenation of $x_w$\n",
    " and $c_w$\n",
    ". So if $x_w$\n",
    " has dimension 5, and $c_w$\n",
    "dimension 3, then our LSTM should accept an input of dimension 8.\n",
    "\n",
    "To get the character level representation, do an LSTM over the characters of a word, and let $c_w$\n",
    " be the final hidden state of this LSTM."
   ]
  },
  {
   "cell_type": "code",
   "execution_count": 25,
   "id": "electric-interference",
   "metadata": {},
   "outputs": [],
   "source": [
    "chars = set(\"\".join(vocab))\n",
    "char_to_ix = {char.lower(): idx for idx, char in enumerate(chars)}"
   ]
  },
  {
   "cell_type": "code",
   "execution_count": 26,
   "id": "decreased-thriller",
   "metadata": {},
   "outputs": [],
   "source": [
    "CHAR_SIZE = len(chars)\n",
    "CHAR_EMBEDDING_DIM = 6\n",
    "CHAR_HIDDEN_DIM = 3"
   ]
  },
  {
   "cell_type": "code",
   "execution_count": 27,
   "id": "severe-fighter",
   "metadata": {},
   "outputs": [],
   "source": [
    "class CharacterLevelEmbedder(nn.Module):\n",
    "    def __init__(self):\n",
    "        super(CharacterLevelEmbedder, self).__init__()\n",
    "        \n",
    "        self.char_embedding = nn.Embedding(CHAR_SIZE, CHAR_EMBEDDING_DIM)\n",
    "        self.char_lstm = nn.LSTM(CHAR_EMBEDDING_DIM, CHAR_HIDDEN_DIM)\n",
    "        \n",
    "        self.embedding = nn.Embedding(VOCAB_SIZE, EMBEDDING_DIM)\n",
    "        \n",
    "        self.lstm = nn.LSTM(CHAR_HIDDEN_DIM + EMBEDDING_DIM, HIDDEN_DIM)\n",
    "        self.linear = nn.Linear(HIDDEN_DIM, TARGET_SIZE)\n",
    "        \n",
    "    def forward(self, sentence):\n",
    "        len_seq = len(sentence)\n",
    "        \n",
    "        # x_w\n",
    "        x = prepare_(sentence, word_to_ix)\n",
    "        x = self.embedding(x)\n",
    "        x = x.view(len_seq, 1, -1)\n",
    "        \n",
    "        # c_w\n",
    "        cs = torch.zeros(len_seq, 1, CHAR_HIDDEN_DIM)\n",
    "        for i, word in enumerate(sentence):\n",
    "            c = prepare_(word, char_to_ix)\n",
    "            c = self.char_embedding(c)\n",
    "            c = c.view(len(word), 1, -1)\n",
    "            \n",
    "            c = self.char_lstm(c)\n",
    "            cs[i, :, :] = c[1][0]  # the last hidden layer as c_w\n",
    "        \n",
    "        xc = torch.cat([x, cs], dim=2)\n",
    "        xc, _ = self.lstm(xc)\n",
    "        xc = xc.view(len_seq, -1)\n",
    "        \n",
    "        xc = F.log_softmax(self.linear(xc), dim=1)\n",
    "        \n",
    "        return xc"
   ]
  },
  {
   "cell_type": "markdown",
   "id": "changing-dakota",
   "metadata": {},
   "source": [
    "train the model"
   ]
  },
  {
   "cell_type": "code",
   "execution_count": 28,
   "id": "julian-edition",
   "metadata": {},
   "outputs": [],
   "source": [
    "model = CharacterLevelEmbedder()"
   ]
  },
  {
   "cell_type": "code",
   "execution_count": 29,
   "id": "dirty-liberia",
   "metadata": {},
   "outputs": [],
   "source": [
    "criterion = nn.NLLLoss()\n",
    "optimizer = optim.SGD(model.parameters(), lr=0.01, momentum=0.9)"
   ]
  },
  {
   "cell_type": "code",
   "execution_count": 30,
   "id": "hindu-correlation",
   "metadata": {},
   "outputs": [],
   "source": [
    "loss_history = []\n",
    "\n",
    "for i in range(1, 501):\n",
    "    loss_epoch = 0.\n",
    "    for inputs, target in trainset:\n",
    "        #inputs = prepare_(data, to_ix=word_to_ix)\n",
    "        targets = prepare_(target, to_ix=tag_to_ix)\n",
    "        \n",
    "        model.zero_grad()\n",
    "        out = model(inputs)\n",
    "        loss = criterion(out, targets)\n",
    "        loss.backward()\n",
    "        optimizer.step()\n",
    "        \n",
    "        loss_epoch += loss.item()\n",
    "    loss_history.append(loss_epoch)"
   ]
  },
  {
   "cell_type": "markdown",
   "id": "lucky-culture",
   "metadata": {},
   "source": [
    "results"
   ]
  },
  {
   "cell_type": "code",
   "execution_count": 31,
   "id": "associate-singer",
   "metadata": {
    "scrolled": true
   },
   "outputs": [
    {
     "data": {
      "text/plain": [
       "[<matplotlib.lines.Line2D at 0x7fe01ab7d7f0>]"
      ]
     },
     "execution_count": 31,
     "metadata": {},
     "output_type": "execute_result"
    },
    {
     "data": {
      "image/png": "[encoded data removed]",
      "text/plain": [
       "<Figure size 432x288 with 1 Axes>"
      ]
     },
     "metadata": {
      "needs_background": "light"
     },
     "output_type": "display_data"
    }
   ],
   "source": [
    "plt.plot(loss_history)"
   ]
  },
  {
   "cell_type": "code",
   "execution_count": 32,
   "id": "thick-season",
   "metadata": {},
   "outputs": [
    {
     "name": "stdout",
     "output_type": "stream",
     "text": [
      "sentence: ['The', 'dog', 'ate', 'the', 'apple']\n",
      "pos tags: ['DET', 'NN', 'V', 'DET', 'NN']\n",
      "sentence: ['Everybody', 'read', 'that', 'book']\n",
      "pos tags: ['NN', 'V', 'DET', 'NN']\n"
     ]
    }
   ],
   "source": [
    "with torch.no_grad():\n",
    "    for i in range(2):\n",
    "        data = trainset[i][0]\n",
    "        out = model(data)\n",
    "\n",
    "        tags = torch.argmax(torch.exp(out), dim=1).numpy()\n",
    "\n",
    "        print(\"sentence:\", data)\n",
    "        print(\"pos tags:\", [{v: k.upper() for k, v in tag_to_ix.items()}[t] for t in tags])"
   ]
  },
  {
   "cell_type": "markdown",
   "id": "likely-representative",
   "metadata": {},
   "source": [
    "correctly tagged"
   ]
  }
 ],
 "metadata": {
  "kernelspec": {
   "display_name": "Python 3",
   "language": "python",
   "name": "python3"
  },
  "language_info": {
   "codemirror_mode": {
    "name": "ipython",
    "version": 3
   },
   "file_extension": ".py",
   "mimetype": "text/x-python",
   "name": "python",
   "nbconvert_exporter": "python",
   "pygments_lexer": "ipython3",
   "version": "3.8.7"
  },
  "toc": {
   "base_numbering": 1,
   "nav_menu": {},
   "number_sections": true,
   "sideBar": true,
   "skip_h1_title": false,
   "title_cell": "Sequence Models and LSTM Networks",
   "title_sidebar": "Contents",
   "toc_cell": true,
   "toc_position": {},
   "toc_section_display": true,
   "toc_window_display": false
  }
 },
 "nbformat": 4,
 "nbformat_minor": 5
}
