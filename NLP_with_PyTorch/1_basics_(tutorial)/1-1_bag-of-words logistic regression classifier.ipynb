{
 "cells": [
  {
   "cell_type": "markdown",
   "id": "naughty-fever",
   "metadata": {},
   "source": [
    "***The content below is a solution to and a walk-through of the tutorial [Deep Learning for NLP with PyTorch](https://pytorch.org/tutorials/beginner/deep_learning_nlp_tutorial.html).***"
   ]
  },
  {
   "cell_type": "markdown",
   "id": "automatic-latter",
   "metadata": {
    "toc": true
   },
   "source": [
    "<h1>Logistic regression Bag-of-words classifier<span class=\"tocSkip\"></span></h1>\n",
    "<div class=\"toc\"><ul class=\"toc-item\"><li><span><a href=\"#Create-bag-of-words\" data-toc-modified-id=\"Create-bag-of-words-1\"><span class=\"toc-item-num\">1&nbsp;&nbsp;</span>Create bag-of-words</a></span></li><li><span><a href=\"#Define-classifier:\" data-toc-modified-id=\"Define-classifier:-2\"><span class=\"toc-item-num\">2&nbsp;&nbsp;</span>Define classifier:</a></span></li><li><span><a href=\"#Train-the-network\" data-toc-modified-id=\"Train-the-network-3\"><span class=\"toc-item-num\">3&nbsp;&nbsp;</span>Train the network</a></span></li><li><span><a href=\"#Test-the-network\" data-toc-modified-id=\"Test-the-network-4\"><span class=\"toc-item-num\">4&nbsp;&nbsp;</span>Test the network</a></span></li></ul></div>"
   ]
  },
  {
   "cell_type": "code",
   "execution_count": 1,
   "id": "sound-quebec",
   "metadata": {},
   "outputs": [],
   "source": [
    "import numpy as np\n",
    "import torch\n",
    "import torchvision\n",
    "import torch.nn as nn\n",
    "import torch.nn.functional as F\n",
    "import torch.optim as optim"
   ]
  },
  {
   "cell_type": "code",
   "execution_count": 2,
   "id": "satellite-kelly",
   "metadata": {},
   "outputs": [],
   "source": [
    "trainset = [(\"me gusta comer en la cafeteria\".split(), \"SPANISH\"),\n",
    "            (\"Give it to me\".split(), \"ENGLISH\"),\n",
    "            (\"No creo que sea una buena idea\".split(), \"SPANISH\"),\n",
    "            (\"No it is not a good idea to get lost at sea\".split(), \"ENGLISH\")]"
   ]
  },
  {
   "cell_type": "code",
   "execution_count": 3,
   "id": "coastal-vocabulary",
   "metadata": {},
   "outputs": [],
   "source": [
    "testset = [(\"Yo creo que si\".split(), \"SPANISH\"),\n",
    "           (\"it is lost on me\".split(), \"ENGLISH\")]"
   ]
  },
  {
   "cell_type": "markdown",
   "id": "fatty-religious",
   "metadata": {},
   "source": [
    "## Create bag-of-words"
   ]
  },
  {
   "cell_type": "code",
   "execution_count": 4,
   "id": "charged-immune",
   "metadata": {},
   "outputs": [
    {
     "data": {
      "text/plain": [
       "array(['a', 'at', 'buena', 'cafeteria', 'comer', 'creo', 'en', 'get',\n",
       "       'give', 'good', 'gusta', 'idea', 'is', 'it', 'la', 'lost', 'me',\n",
       "       'no', 'not', 'on', 'que', 'sea', 'si', 'to', 'una', 'yo'],\n",
       "      dtype='<U9')"
      ]
     },
     "execution_count": 4,
     "metadata": {},
     "output_type": "execute_result"
    }
   ],
   "source": [
    "bow = np.r_[list(zip(*(trainset + testset)))[0]]\n",
    "bow = np.unique([w.lower() for w in bow])\n",
    "bow"
   ]
  },
  {
   "cell_type": "code",
   "execution_count": 5,
   "id": "secondary-courage",
   "metadata": {},
   "outputs": [
    {
     "data": {
      "text/plain": [
       "{'a': 0,\n",
       " 'at': 1,\n",
       " 'buena': 2,\n",
       " 'cafeteria': 3,\n",
       " 'comer': 4,\n",
       " 'creo': 5,\n",
       " 'en': 6,\n",
       " 'get': 7,\n",
       " 'give': 8,\n",
       " 'good': 9,\n",
       " 'gusta': 10,\n",
       " 'idea': 11,\n",
       " 'is': 12,\n",
       " 'it': 13,\n",
       " 'la': 14,\n",
       " 'lost': 15,\n",
       " 'me': 16,\n",
       " 'no': 17,\n",
       " 'not': 18,\n",
       " 'on': 19,\n",
       " 'que': 20,\n",
       " 'sea': 21,\n",
       " 'si': 22,\n",
       " 'to': 23,\n",
       " 'una': 24,\n",
       " 'yo': 25}"
      ]
     },
     "execution_count": 5,
     "metadata": {},
     "output_type": "execute_result"
    }
   ],
   "source": [
    "word_to_ix = {v: k for k, v in enumerate(bow)}\n",
    "word_to_ix"
   ]
  },
  {
   "cell_type": "code",
   "execution_count": 6,
   "id": "religious-shore",
   "metadata": {},
   "outputs": [],
   "source": [
    "label_to_ix = {\"ENGLISH\": 1, \"SPANISH\": 0}"
   ]
  },
  {
   "cell_type": "code",
   "execution_count": 7,
   "id": "prostate-possession",
   "metadata": {},
   "outputs": [],
   "source": [
    "VOCAB_SIZE = len(word_to_ix)\n",
    "NUM_LABELS = 2"
   ]
  },
  {
   "cell_type": "markdown",
   "id": "academic-montgomery",
   "metadata": {},
   "source": [
    "## Define classifier:\n",
    "$$\n",
    "\\hat y = \\log \\text{softmax} (Ax + b).\\\\\n",
    "x \\text{ is a BoW vector.}\n",
    "$$"
   ]
  },
  {
   "cell_type": "code",
   "execution_count": 8,
   "id": "intense-broadway",
   "metadata": {},
   "outputs": [],
   "source": [
    "class BoWClassifier(nn.Module):\n",
    "    \n",
    "    def __init__(self, vocab_size=VOCAB_SIZE, num_labels=NUM_LABELS):\n",
    "        super(BoWClassifier, self).__init__()\n",
    "        \n",
    "        self.linear = nn.Linear(vocab_size, num_labels)\n",
    "        \n",
    "    def forward(self, x):\n",
    "        x = self.linear(x)\n",
    "        x = F.log_softmax(x, dim=1)  # calculate softmax wrt dim=1\n",
    "        return x"
   ]
  },
  {
   "cell_type": "code",
   "execution_count": 9,
   "id": "conditional-springer",
   "metadata": {},
   "outputs": [],
   "source": [
    "model = BoWClassifier()"
   ]
  },
  {
   "cell_type": "markdown",
   "id": "loose-brother",
   "metadata": {},
   "source": [
    "## Train the network"
   ]
  },
  {
   "cell_type": "code",
   "execution_count": 10,
   "id": "abroad-gathering",
   "metadata": {},
   "outputs": [],
   "source": [
    "# CrossEntropyLoss() includes log softmax in it.\n",
    "# NLLLoss(), negative log likelihood loss, does not include log softmax\n",
    "criterion = nn.NLLLoss()\n",
    "optimizer = optim.SGD(model.parameters(), lr=0.1)"
   ]
  },
  {
   "cell_type": "code",
   "execution_count": 11,
   "id": "nuclear-steam",
   "metadata": {},
   "outputs": [],
   "source": [
    "def sentence_to_bow(sentence, word_to_ix=word_to_ix):\n",
    "        bow_vec = torch.zeros(len(word_to_ix))\n",
    "        for word in sentence:\n",
    "            bow_vec[word_to_ix[word.lower()]] = 1\n",
    "        return bow_vec.view(1, -1)\n",
    "    \n",
    "def make_target(label, label_to_ix=label_to_ix):\n",
    "        return torch.LongTensor([label_to_ix[label]])  # LongTensor is for 64-bit integer"
   ]
  },
  {
   "cell_type": "code",
   "execution_count": 12,
   "id": "proper-telephone",
   "metadata": {},
   "outputs": [],
   "source": [
    "n_epoch = 100\n",
    "\n",
    "for i in range(n_epoch):\n",
    "    for data, label in trainset:\n",
    "        model.zero_grad()\n",
    "        \n",
    "        x = sentence_to_bow(data)\n",
    "        output = model(x)\n",
    "        target = make_target(label)\n",
    "        loss = criterion(output, target)\n",
    "        \n",
    "        loss.backward()\n",
    "        optimizer.step()"
   ]
  },
  {
   "cell_type": "markdown",
   "id": "tracked-capability",
   "metadata": {},
   "source": [
    "## Test the network"
   ]
  },
  {
   "cell_type": "code",
   "execution_count": 18,
   "id": "interracial-unknown",
   "metadata": {},
   "outputs": [
    {
     "name": "stdout",
     "output_type": "stream",
     "text": [
      "* prediction probability *\n",
      "  SPANISH    ENGLISH   \n",
      "[0.86731446 0.13268559] Yo creo que si\n",
      "[0.06164475 0.93835527] it is lost on me\n"
     ]
    }
   ],
   "source": [
    "print(\"* prediction probability *\")\n",
    "print(f\"{'  SPANISH':<12}{' ENGLISH':<11}\")\n",
    "with torch.no_grad():\n",
    "    for data, label in testset:\n",
    "        x = sentence_to_bow(data)\n",
    "        print(torch.exp(model(x)[0]).numpy(), \" \".join(data))"
   ]
  },
  {
   "cell_type": "code",
   "execution_count": null,
   "id": "rough-court",
   "metadata": {},
   "outputs": [],
   "source": []
  }
 ],
 "metadata": {
  "kernelspec": {
   "display_name": "pytorch_x86",
   "language": "python",
   "name": "pytorch_x86"
  },
  "language_info": {
   "codemirror_mode": {
    "name": "ipython",
    "version": 3
   },
   "file_extension": ".py",
   "mimetype": "text/x-python",
   "name": "python",
   "nbconvert_exporter": "python",
   "pygments_lexer": "ipython3",
   "version": "3.8.6"
  },
  "toc": {
   "base_numbering": 1,
   "nav_menu": {},
   "number_sections": true,
   "sideBar": true,
   "skip_h1_title": false,
   "title_cell": "Logistic regression Bag-of-words classifier",
   "title_sidebar": "Contents",
   "toc_cell": true,
   "toc_position": {},
   "toc_section_display": true,
   "toc_window_display": false
  }
 },
 "nbformat": 4,
 "nbformat_minor": 5
}
