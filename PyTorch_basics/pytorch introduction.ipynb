{
 "cells": [
  {
   "cell_type": "markdown",
   "id": "sitting-dairy",
   "metadata": {
    "toc": true
   },
   "source": [
    "<h1>Table of Contents<span class=\"tocSkip\"></span></h1>\n",
    "<div class=\"toc\"><ul class=\"toc-item\"><li><span><a href=\"#Tensor\" data-toc-modified-id=\"Tensor-1\"><span class=\"toc-item-num\">1&nbsp;&nbsp;</span>Tensor</a></span><ul class=\"toc-item\"><li><span><a href=\"#Tensor-initialization\" data-toc-modified-id=\"Tensor-initialization-1.1\"><span class=\"toc-item-num\">1.1&nbsp;&nbsp;</span>Tensor initialization</a></span><ul class=\"toc-item\"><li><span><a href=\"#from-data\" data-toc-modified-id=\"from-data-1.1.1\"><span class=\"toc-item-num\">1.1.1&nbsp;&nbsp;</span>from data</a></span></li><li><span><a href=\"#from-np.array\" data-toc-modified-id=\"from-np.array-1.1.2\"><span class=\"toc-item-num\">1.1.2&nbsp;&nbsp;</span>from <code>np.array</code></a></span></li><li><span><a href=\"#from-another-torch.tensor\" data-toc-modified-id=\"from-another-torch.tensor-1.1.3\"><span class=\"toc-item-num\">1.1.3&nbsp;&nbsp;</span>from another <code>torch.tensor</code></a></span></li><li><span><a href=\"#with-random-or-constant-values\" data-toc-modified-id=\"with-random-or-constant-values-1.1.4\"><span class=\"toc-item-num\">1.1.4&nbsp;&nbsp;</span>with random or constant values</a></span></li></ul></li><li><span><a href=\"#Tensor-attributes\" data-toc-modified-id=\"Tensor-attributes-1.2\"><span class=\"toc-item-num\">1.2&nbsp;&nbsp;</span>Tensor attributes</a></span><ul class=\"toc-item\"><li><span><a href=\"#shape,-datatype,-device\" data-toc-modified-id=\"shape,-datatype,-device-1.2.1\"><span class=\"toc-item-num\">1.2.1&nbsp;&nbsp;</span>shape, datatype, device</a></span></li></ul></li><li><span><a href=\"#Tensor-operations\" data-toc-modified-id=\"Tensor-operations-1.3\"><span class=\"toc-item-num\">1.3&nbsp;&nbsp;</span>Tensor operations</a></span><ul class=\"toc-item\"><li><span><a href=\"#np-style-indexing,-slicing\" data-toc-modified-id=\"np-style-indexing,-slicing-1.3.1\"><span class=\"toc-item-num\">1.3.1&nbsp;&nbsp;</span>np-style indexing, slicing</a></span></li><li><span><a href=\"#joining-tensors\" data-toc-modified-id=\"joining-tensors-1.3.2\"><span class=\"toc-item-num\">1.3.2&nbsp;&nbsp;</span>joining tensors</a></span></li><li><span><a href=\"#element-wise-multiplication\" data-toc-modified-id=\"element-wise-multiplication-1.3.3\"><span class=\"toc-item-num\">1.3.3&nbsp;&nbsp;</span>element-wise multiplication</a></span></li><li><span><a href=\"#matrix-multiplication\" data-toc-modified-id=\"matrix-multiplication-1.3.4\"><span class=\"toc-item-num\">1.3.4&nbsp;&nbsp;</span>matrix multiplication</a></span></li><li><span><a href=\"#in-place-opeation\" data-toc-modified-id=\"in-place-opeation-1.3.5\"><span class=\"toc-item-num\">1.3.5&nbsp;&nbsp;</span>in-place opeation</a></span></li></ul></li><li><span><a href=\"#Bridge-with-NumPy\" data-toc-modified-id=\"Bridge-with-NumPy-1.4\"><span class=\"toc-item-num\">1.4&nbsp;&nbsp;</span>Bridge with NumPy</a></span><ul class=\"toc-item\"><li><span><a href=\"#tensor-to-array\" data-toc-modified-id=\"tensor-to-array-1.4.1\"><span class=\"toc-item-num\">1.4.1&nbsp;&nbsp;</span>tensor to array</a></span></li><li><span><a href=\"#array-to-tensor\" data-toc-modified-id=\"array-to-tensor-1.4.2\"><span class=\"toc-item-num\">1.4.2&nbsp;&nbsp;</span>array to tensor</a></span></li></ul></li></ul></li><li><span><a href=\"#Autograd\" data-toc-modified-id=\"Autograd-2\"><span class=\"toc-item-num\">2&nbsp;&nbsp;</span>Autograd</a></span><ul class=\"toc-item\"><li><span><a href=\"#background\" data-toc-modified-id=\"background-2.1\"><span class=\"toc-item-num\">2.1&nbsp;&nbsp;</span>background</a></span></li><li><span><a href=\"#Usage-in-PyTorch\" data-toc-modified-id=\"Usage-in-PyTorch-2.2\"><span class=\"toc-item-num\">2.2&nbsp;&nbsp;</span>Usage in PyTorch</a></span></li><li><span><a href=\"#Differentiation-in-autograd\" data-toc-modified-id=\"Differentiation-in-autograd-2.3\"><span class=\"toc-item-num\">2.3&nbsp;&nbsp;</span>Differentiation in autograd</a></span></li><li><span><a href=\"#Computational-graph\" data-toc-modified-id=\"Computational-graph-2.4\"><span class=\"toc-item-num\">2.4&nbsp;&nbsp;</span>Computational graph</a></span></li><li><span><a href=\"#Exclude-tensors-from-DAG\" data-toc-modified-id=\"Exclude-tensors-from-DAG-2.5\"><span class=\"toc-item-num\">2.5&nbsp;&nbsp;</span>Exclude tensors from DAG</a></span></li></ul></li><li><span><a href=\"#Neural-networks\" data-toc-modified-id=\"Neural-networks-3\"><span class=\"toc-item-num\">3&nbsp;&nbsp;</span>Neural networks</a></span><ul class=\"toc-item\"><li><span><a href=\"#Define-the-network\" data-toc-modified-id=\"Define-the-network-3.1\"><span class=\"toc-item-num\">3.1&nbsp;&nbsp;</span>Define the network</a></span></li><li><span><a href=\"#Loss-function\" data-toc-modified-id=\"Loss-function-3.2\"><span class=\"toc-item-num\">3.2&nbsp;&nbsp;</span>Loss function</a></span></li><li><span><a href=\"#Backprop\" data-toc-modified-id=\"Backprop-3.3\"><span class=\"toc-item-num\">3.3&nbsp;&nbsp;</span>Backprop</a></span></li><li><span><a href=\"#Update-the-weights\" data-toc-modified-id=\"Update-the-weights-3.4\"><span class=\"toc-item-num\">3.4&nbsp;&nbsp;</span>Update the weights</a></span></li></ul></li><li><span><a href=\"#Training-a-classifier\" data-toc-modified-id=\"Training-a-classifier-4\"><span class=\"toc-item-num\">4&nbsp;&nbsp;</span>Training a classifier</a></span><ul class=\"toc-item\"><li><span><a href=\"#Load-and-normalize-CIFAR10\" data-toc-modified-id=\"Load-and-normalize-CIFAR10-4.1\"><span class=\"toc-item-num\">4.1&nbsp;&nbsp;</span>Load and normalize CIFAR10</a></span></li><li><span><a href=\"#Define-a-ConvNet\" data-toc-modified-id=\"Define-a-ConvNet-4.2\"><span class=\"toc-item-num\">4.2&nbsp;&nbsp;</span>Define a ConvNet</a></span></li><li><span><a href=\"#Define-loss-and-optimizer\" data-toc-modified-id=\"Define-loss-and-optimizer-4.3\"><span class=\"toc-item-num\">4.3&nbsp;&nbsp;</span>Define loss and optimizer</a></span></li><li><span><a href=\"#Train-the-network\" data-toc-modified-id=\"Train-the-network-4.4\"><span class=\"toc-item-num\">4.4&nbsp;&nbsp;</span>Train the network</a></span></li><li><span><a href=\"#Test-the-network\" data-toc-modified-id=\"Test-the-network-4.5\"><span class=\"toc-item-num\">4.5&nbsp;&nbsp;</span>Test the network</a></span></li><li><span><a href=\"#Run-on-CUDA-GPU\" data-toc-modified-id=\"Run-on-CUDA-GPU-4.6\"><span class=\"toc-item-num\">4.6&nbsp;&nbsp;</span>Run on CUDA GPU</a></span></li></ul></li></ul></div>"
   ]
  },
  {
   "cell_type": "code",
   "execution_count": 1,
   "id": "partial-jefferson",
   "metadata": {},
   "outputs": [],
   "source": [
    "import torch\n",
    "import numpy as np"
   ]
  },
  {
   "cell_type": "markdown",
   "id": "valued-acceptance",
   "metadata": {},
   "source": [
    "# Tensor"
   ]
  },
  {
   "cell_type": "markdown",
   "id": "interpreted-boating",
   "metadata": {},
   "source": [
    "## Tensor initialization"
   ]
  },
  {
   "cell_type": "markdown",
   "id": "invalid-judge",
   "metadata": {},
   "source": [
    "### from data"
   ]
  },
  {
   "cell_type": "code",
   "execution_count": 2,
   "id": "residential-glucose",
   "metadata": {},
   "outputs": [
    {
     "data": {
      "text/plain": [
       "tensor([[1, 2],\n",
       "        [3, 4]])"
      ]
     },
     "execution_count": 2,
     "metadata": {},
     "output_type": "execute_result"
    }
   ],
   "source": [
    "data = [[1, 2], [3, 4]]\n",
    "x_data = torch.tensor(data)\n",
    "x_data"
   ]
  },
  {
   "cell_type": "markdown",
   "id": "popular-frequency",
   "metadata": {},
   "source": [
    "### from `np.array`"
   ]
  },
  {
   "cell_type": "code",
   "execution_count": 3,
   "id": "administrative-lightning",
   "metadata": {},
   "outputs": [
    {
     "data": {
      "text/plain": [
       "tensor([[1, 2],\n",
       "        [3, 4]])"
      ]
     },
     "execution_count": 3,
     "metadata": {},
     "output_type": "execute_result"
    }
   ],
   "source": [
    "np_array = np.array(data)\n",
    "x_np = torch.tensor(np_array)\n",
    "x_np"
   ]
  },
  {
   "cell_type": "markdown",
   "id": "simple-career",
   "metadata": {},
   "source": [
    "### from another `torch.tensor`"
   ]
  },
  {
   "cell_type": "code",
   "execution_count": 4,
   "id": "twenty-capability",
   "metadata": {},
   "outputs": [
    {
     "data": {
      "text/plain": [
       "tensor([[1, 1],\n",
       "        [1, 1]])"
      ]
     },
     "execution_count": 4,
     "metadata": {},
     "output_type": "execute_result"
    }
   ],
   "source": [
    "x_ones = torch.ones_like(x_data)\n",
    "x_ones"
   ]
  },
  {
   "cell_type": "code",
   "execution_count": 5,
   "id": "spatial-secretary",
   "metadata": {},
   "outputs": [
    {
     "data": {
      "text/plain": [
       "tensor([[0.8272, 0.7224],\n",
       "        [0.7654, 0.4665]])"
      ]
     },
     "execution_count": 5,
     "metadata": {},
     "output_type": "execute_result"
    }
   ],
   "source": [
    "x_rand = torch.rand_like(x_data, dtype=torch.float)\n",
    "x_rand"
   ]
  },
  {
   "cell_type": "markdown",
   "id": "broken-belfast",
   "metadata": {},
   "source": [
    "### with random or constant values"
   ]
  },
  {
   "cell_type": "code",
   "execution_count": 6,
   "id": "fourth-multimedia",
   "metadata": {},
   "outputs": [],
   "source": [
    "shape = (2, 3)\n",
    "\n",
    "rand_tensor = torch.rand(shape)\n",
    "ones_tensor = torch.ones(shape)\n",
    "zeros_tensor = torch.zeros(shape)"
   ]
  },
  {
   "cell_type": "code",
   "execution_count": 7,
   "id": "resistant-guest",
   "metadata": {},
   "outputs": [
    {
     "data": {
      "text/plain": [
       "(tensor([[0.8953, 0.6002, 0.9554],\n",
       "         [0.1198, 0.6189, 0.1696]]),\n",
       " tensor([[1., 1., 1.],\n",
       "         [1., 1., 1.]]),\n",
       " tensor([[0., 0., 0.],\n",
       "         [0., 0., 0.]]))"
      ]
     },
     "execution_count": 7,
     "metadata": {},
     "output_type": "execute_result"
    }
   ],
   "source": [
    "rand_tensor, ones_tensor, zeros_tensor"
   ]
  },
  {
   "cell_type": "markdown",
   "id": "assured-decision",
   "metadata": {},
   "source": [
    "## Tensor attributes"
   ]
  },
  {
   "cell_type": "markdown",
   "id": "liked-commerce",
   "metadata": {},
   "source": [
    "### shape, datatype, device"
   ]
  },
  {
   "cell_type": "code",
   "execution_count": 8,
   "id": "functioning-webmaster",
   "metadata": {},
   "outputs": [
    {
     "data": {
      "text/plain": [
       "tensor([[0.3541, 0.9729, 0.4878, 0.2587],\n",
       "        [0.1232, 0.9740, 0.8488, 0.9202],\n",
       "        [0.0608, 0.0244, 0.9663, 0.3270]])"
      ]
     },
     "execution_count": 8,
     "metadata": {},
     "output_type": "execute_result"
    }
   ],
   "source": [
    "tensor = torch.rand(3,4)\n",
    "tensor"
   ]
  },
  {
   "cell_type": "code",
   "execution_count": 9,
   "id": "global-result",
   "metadata": {},
   "outputs": [
    {
     "data": {
      "text/plain": [
       "torch.Size([3, 4])"
      ]
     },
     "execution_count": 9,
     "metadata": {},
     "output_type": "execute_result"
    }
   ],
   "source": [
    "tensor.shape"
   ]
  },
  {
   "cell_type": "code",
   "execution_count": 10,
   "id": "delayed-medication",
   "metadata": {},
   "outputs": [
    {
     "data": {
      "text/plain": [
       "torch.float32"
      ]
     },
     "execution_count": 10,
     "metadata": {},
     "output_type": "execute_result"
    }
   ],
   "source": [
    "tensor.dtype"
   ]
  },
  {
   "cell_type": "code",
   "execution_count": 11,
   "id": "fourth-heaven",
   "metadata": {},
   "outputs": [
    {
     "data": {
      "text/plain": [
       "device(type='cpu')"
      ]
     },
     "execution_count": 11,
     "metadata": {},
     "output_type": "execute_result"
    }
   ],
   "source": [
    "tensor.device"
   ]
  },
  {
   "cell_type": "code",
   "execution_count": null,
   "id": "inner-houston",
   "metadata": {},
   "outputs": [],
   "source": [
    "tensor.dim()"
   ]
  },
  {
   "cell_type": "markdown",
   "id": "joined-sentence",
   "metadata": {},
   "source": [
    "## Tensor operations"
   ]
  },
  {
   "cell_type": "raw",
   "id": "younger-clear",
   "metadata": {},
   "source": [
    "torch.cuda.is_available()"
   ]
  },
  {
   "cell_type": "markdown",
   "id": "israeli-cursor",
   "metadata": {},
   "source": [
    "### np-style indexing, slicing"
   ]
  },
  {
   "cell_type": "code",
   "execution_count": 12,
   "id": "natural-concern",
   "metadata": {},
   "outputs": [],
   "source": [
    "tensor = torch.ones(4,4)"
   ]
  },
  {
   "cell_type": "code",
   "execution_count": 13,
   "id": "second-saudi",
   "metadata": {},
   "outputs": [],
   "source": [
    "tensor[:, 1] = 0"
   ]
  },
  {
   "cell_type": "code",
   "execution_count": 14,
   "id": "reserved-authorization",
   "metadata": {},
   "outputs": [
    {
     "data": {
      "text/plain": [
       "tensor([[1., 0., 1., 1.],\n",
       "        [1., 0., 1., 1.],\n",
       "        [1., 0., 1., 1.],\n",
       "        [1., 0., 1., 1.]])"
      ]
     },
     "execution_count": 14,
     "metadata": {},
     "output_type": "execute_result"
    }
   ],
   "source": [
    "tensor"
   ]
  },
  {
   "cell_type": "markdown",
   "id": "mineral-sauce",
   "metadata": {},
   "source": [
    "### joining tensors"
   ]
  },
  {
   "cell_type": "markdown",
   "id": "paperback-entry",
   "metadata": {},
   "source": [
    "1. `torch.cat`"
   ]
  },
  {
   "cell_type": "code",
   "execution_count": 15,
   "id": "turkish-malta",
   "metadata": {},
   "outputs": [
    {
     "data": {
      "text/plain": [
       "tensor([[1., 0., 1., 1., 1., 0., 1., 1., 1., 0., 1., 1.],\n",
       "        [1., 0., 1., 1., 1., 0., 1., 1., 1., 0., 1., 1.],\n",
       "        [1., 0., 1., 1., 1., 0., 1., 1., 1., 0., 1., 1.],\n",
       "        [1., 0., 1., 1., 1., 0., 1., 1., 1., 0., 1., 1.]])"
      ]
     },
     "execution_count": 15,
     "metadata": {},
     "output_type": "execute_result"
    }
   ],
   "source": [
    "t1 = torch.cat([tensor, tensor, tensor], dim=1)\n",
    "t1"
   ]
  },
  {
   "cell_type": "code",
   "execution_count": 16,
   "id": "excited-plumbing",
   "metadata": {},
   "outputs": [
    {
     "data": {
      "text/plain": [
       "tensor([[1., 0., 1., 1.],\n",
       "        [1., 0., 1., 1.],\n",
       "        [1., 0., 1., 1.],\n",
       "        [1., 0., 1., 1.],\n",
       "        [1., 0., 1., 1.],\n",
       "        [1., 0., 1., 1.],\n",
       "        [1., 0., 1., 1.],\n",
       "        [1., 0., 1., 1.],\n",
       "        [1., 0., 1., 1.],\n",
       "        [1., 0., 1., 1.],\n",
       "        [1., 0., 1., 1.],\n",
       "        [1., 0., 1., 1.]])"
      ]
     },
     "execution_count": 16,
     "metadata": {},
     "output_type": "execute_result"
    }
   ],
   "source": [
    "t1 = torch.cat([tensor, tensor, tensor])\n",
    "t1"
   ]
  },
  {
   "cell_type": "markdown",
   "id": "collect-cowboy",
   "metadata": {},
   "source": [
    "2. `torch.stack`"
   ]
  },
  {
   "cell_type": "code",
   "execution_count": 17,
   "id": "covered-dakota",
   "metadata": {},
   "outputs": [
    {
     "data": {
      "text/plain": [
       "tensor([[[1., 1.],\n",
       "         [0., 0.],\n",
       "         [1., 1.],\n",
       "         [1., 1.]],\n",
       "\n",
       "        [[1., 1.],\n",
       "         [0., 0.],\n",
       "         [1., 1.],\n",
       "         [1., 1.]],\n",
       "\n",
       "        [[1., 1.],\n",
       "         [0., 0.],\n",
       "         [1., 1.],\n",
       "         [1., 1.]],\n",
       "\n",
       "        [[1., 1.],\n",
       "         [0., 0.],\n",
       "         [1., 1.],\n",
       "         [1., 1.]]])"
      ]
     },
     "execution_count": 17,
     "metadata": {},
     "output_type": "execute_result"
    }
   ],
   "source": [
    "t2 = torch.stack([tensor, tensor], dim=2)\n",
    "t2"
   ]
  },
  {
   "cell_type": "code",
   "execution_count": 18,
   "id": "postal-klein",
   "metadata": {},
   "outputs": [
    {
     "data": {
      "text/plain": [
       "tensor([[[1., 0., 1., 1.],\n",
       "         [1., 0., 1., 1.]],\n",
       "\n",
       "        [[1., 0., 1., 1.],\n",
       "         [1., 0., 1., 1.]],\n",
       "\n",
       "        [[1., 0., 1., 1.],\n",
       "         [1., 0., 1., 1.]],\n",
       "\n",
       "        [[1., 0., 1., 1.],\n",
       "         [1., 0., 1., 1.]]])"
      ]
     },
     "execution_count": 18,
     "metadata": {},
     "output_type": "execute_result"
    }
   ],
   "source": [
    "t2 = torch.stack([tensor, tensor], dim=1)\n",
    "t2"
   ]
  },
  {
   "cell_type": "code",
   "execution_count": 19,
   "id": "saved-aaron",
   "metadata": {},
   "outputs": [
    {
     "data": {
      "text/plain": [
       "tensor([[[1., 0., 1., 1.],\n",
       "         [1., 0., 1., 1.],\n",
       "         [1., 0., 1., 1.],\n",
       "         [1., 0., 1., 1.]],\n",
       "\n",
       "        [[1., 0., 1., 1.],\n",
       "         [1., 0., 1., 1.],\n",
       "         [1., 0., 1., 1.],\n",
       "         [1., 0., 1., 1.]]])"
      ]
     },
     "execution_count": 19,
     "metadata": {},
     "output_type": "execute_result"
    }
   ],
   "source": [
    "t2 = torch.stack([tensor, tensor], dim=0)\n",
    "t2"
   ]
  },
  {
   "cell_type": "markdown",
   "id": "freelance-paper",
   "metadata": {},
   "source": [
    "### element-wise multiplication"
   ]
  },
  {
   "cell_type": "code",
   "execution_count": 20,
   "id": "incorrect-negotiation",
   "metadata": {},
   "outputs": [
    {
     "data": {
      "text/plain": [
       "tensor([[1., 0., 1., 1.],\n",
       "        [1., 0., 1., 1.],\n",
       "        [1., 0., 1., 1.],\n",
       "        [1., 0., 1., 1.]])"
      ]
     },
     "execution_count": 20,
     "metadata": {},
     "output_type": "execute_result"
    }
   ],
   "source": [
    "tensor.mul(tensor)"
   ]
  },
  {
   "cell_type": "code",
   "execution_count": 21,
   "id": "underlying-commodity",
   "metadata": {},
   "outputs": [
    {
     "data": {
      "text/plain": [
       "tensor([[1., 0., 1., 1.],\n",
       "        [1., 0., 1., 1.],\n",
       "        [1., 0., 1., 1.],\n",
       "        [1., 0., 1., 1.]])"
      ]
     },
     "execution_count": 21,
     "metadata": {},
     "output_type": "execute_result"
    }
   ],
   "source": [
    "tensor * tensor  # alternative syntax"
   ]
  },
  {
   "cell_type": "markdown",
   "id": "daily-parliament",
   "metadata": {},
   "source": [
    "### matrix multiplication"
   ]
  },
  {
   "cell_type": "code",
   "execution_count": 22,
   "id": "numerous-forth",
   "metadata": {},
   "outputs": [
    {
     "data": {
      "text/plain": [
       "tensor([[3., 0., 3., 3.],\n",
       "        [3., 0., 3., 3.],\n",
       "        [3., 0., 3., 3.],\n",
       "        [3., 0., 3., 3.]])"
      ]
     },
     "execution_count": 22,
     "metadata": {},
     "output_type": "execute_result"
    }
   ],
   "source": [
    "tensor.matmul(tensor)"
   ]
  },
  {
   "cell_type": "code",
   "execution_count": 23,
   "id": "unable-reasoning",
   "metadata": {},
   "outputs": [
    {
     "data": {
      "text/plain": [
       "tensor([[3., 0., 3., 3.],\n",
       "        [3., 0., 3., 3.],\n",
       "        [3., 0., 3., 3.],\n",
       "        [3., 0., 3., 3.]])"
      ]
     },
     "execution_count": 23,
     "metadata": {},
     "output_type": "execute_result"
    }
   ],
   "source": [
    "tensor @ tensor"
   ]
  },
  {
   "cell_type": "markdown",
   "id": "russian-magic",
   "metadata": {},
   "source": [
    "### in-place opeation"
   ]
  },
  {
   "cell_type": "markdown",
   "id": "catholic-memorial",
   "metadata": {},
   "source": [
    "operations with a `_` suffix"
   ]
  },
  {
   "cell_type": "code",
   "execution_count": 24,
   "id": "stretch-valley",
   "metadata": {},
   "outputs": [
    {
     "data": {
      "text/plain": [
       "tensor([[1., 0., 1., 1.],\n",
       "        [1., 0., 1., 1.],\n",
       "        [1., 0., 1., 1.],\n",
       "        [1., 0., 1., 1.]])"
      ]
     },
     "execution_count": 24,
     "metadata": {},
     "output_type": "execute_result"
    }
   ],
   "source": [
    "tensor"
   ]
  },
  {
   "cell_type": "code",
   "execution_count": 25,
   "id": "considered-complexity",
   "metadata": {},
   "outputs": [
    {
     "data": {
      "text/plain": [
       "tensor([[6., 5., 6., 6.],\n",
       "        [6., 5., 6., 6.],\n",
       "        [6., 5., 6., 6.],\n",
       "        [6., 5., 6., 6.]])"
      ]
     },
     "execution_count": 25,
     "metadata": {},
     "output_type": "execute_result"
    }
   ],
   "source": [
    "tensor.add_(5)"
   ]
  },
  {
   "cell_type": "code",
   "execution_count": 26,
   "id": "current-bridal",
   "metadata": {},
   "outputs": [
    {
     "data": {
      "text/plain": [
       "tensor([[6., 5., 6., 6.],\n",
       "        [6., 5., 6., 6.],\n",
       "        [6., 5., 6., 6.],\n",
       "        [6., 5., 6., 6.]])"
      ]
     },
     "execution_count": 26,
     "metadata": {},
     "output_type": "execute_result"
    }
   ],
   "source": [
    "tensor"
   ]
  },
  {
   "cell_type": "markdown",
   "id": "extended-creator",
   "metadata": {},
   "source": [
    "## Bridge with NumPy"
   ]
  },
  {
   "cell_type": "markdown",
   "id": "neural-youth",
   "metadata": {},
   "source": [
    "Creates *link* between numpy and tensor objects."
   ]
  },
  {
   "cell_type": "markdown",
   "id": "unlimited-ownership",
   "metadata": {},
   "source": [
    "### tensor to array"
   ]
  },
  {
   "cell_type": "code",
   "execution_count": 27,
   "id": "french-occurrence",
   "metadata": {},
   "outputs": [],
   "source": [
    "t = torch.rand(5)"
   ]
  },
  {
   "cell_type": "code",
   "execution_count": 28,
   "id": "headed-malawi",
   "metadata": {},
   "outputs": [
    {
     "data": {
      "text/plain": [
       "array([0.44445777, 0.28528303, 0.7233738 , 0.5348252 , 0.03459918],\n",
       "      dtype=float32)"
      ]
     },
     "execution_count": 28,
     "metadata": {},
     "output_type": "execute_result"
    }
   ],
   "source": [
    "n = t.numpy()\n",
    "n"
   ]
  },
  {
   "cell_type": "markdown",
   "id": "acquired-hacker",
   "metadata": {},
   "source": [
    "***Changes in the tensor reflects in the array.***"
   ]
  },
  {
   "cell_type": "code",
   "execution_count": 29,
   "id": "alpha-exercise",
   "metadata": {},
   "outputs": [
    {
     "data": {
      "text/plain": [
       "tensor([1.4445, 1.2853, 1.7234, 1.5348, 1.0346])"
      ]
     },
     "execution_count": 29,
     "metadata": {},
     "output_type": "execute_result"
    }
   ],
   "source": [
    "t.add_(1)"
   ]
  },
  {
   "cell_type": "code",
   "execution_count": 30,
   "id": "straight-denmark",
   "metadata": {},
   "outputs": [
    {
     "data": {
      "text/plain": [
       "array([1.4444578, 1.2852831, 1.7233738, 1.5348252, 1.0345992],\n",
       "      dtype=float32)"
      ]
     },
     "execution_count": 30,
     "metadata": {},
     "output_type": "execute_result"
    }
   ],
   "source": [
    "n"
   ]
  },
  {
   "cell_type": "markdown",
   "id": "aggressive-cooler",
   "metadata": {},
   "source": [
    "### array to tensor"
   ]
  },
  {
   "cell_type": "code",
   "execution_count": 31,
   "id": "finite-marina",
   "metadata": {},
   "outputs": [],
   "source": [
    "n = np.ones(5)"
   ]
  },
  {
   "cell_type": "code",
   "execution_count": 32,
   "id": "separate-functionality",
   "metadata": {},
   "outputs": [
    {
     "data": {
      "text/plain": [
       "tensor([1., 1., 1., 1., 1.], dtype=torch.float64)"
      ]
     },
     "execution_count": 32,
     "metadata": {},
     "output_type": "execute_result"
    }
   ],
   "source": [
    "t = torch.from_numpy(n)\n",
    "t"
   ]
  },
  {
   "cell_type": "markdown",
   "id": "simple-refrigerator",
   "metadata": {},
   "source": [
    "***Changes in the tensor reflects in the array.***"
   ]
  },
  {
   "cell_type": "code",
   "execution_count": 33,
   "id": "afraid-butterfly",
   "metadata": {},
   "outputs": [
    {
     "data": {
      "text/plain": [
       "array([2., 2., 2., 2., 2.])"
      ]
     },
     "execution_count": 33,
     "metadata": {},
     "output_type": "execute_result"
    }
   ],
   "source": [
    "np.add(n, 1, out=n)"
   ]
  },
  {
   "cell_type": "code",
   "execution_count": 34,
   "id": "foreign-touch",
   "metadata": {},
   "outputs": [
    {
     "data": {
      "text/plain": [
       "tensor([2., 2., 2., 2., 2.], dtype=torch.float64)"
      ]
     },
     "execution_count": 34,
     "metadata": {},
     "output_type": "execute_result"
    }
   ],
   "source": [
    "t"
   ]
  },
  {
   "cell_type": "markdown",
   "id": "central-dealer",
   "metadata": {},
   "source": [
    "# Autograd"
   ]
  },
  {
   "cell_type": "markdown",
   "id": "smaller-chamber",
   "metadata": {},
   "source": [
    "`torch.autograd` is PyTorch’s automatic differentiation engine that powers neural network training. In this section, you will get a conceptual understanding of how autograd helps a neural network train."
   ]
  },
  {
   "cell_type": "markdown",
   "id": "announced-perfume",
   "metadata": {},
   "source": [
    "## background"
   ]
  },
  {
   "cell_type": "markdown",
   "id": "funded-census",
   "metadata": {},
   "source": [
    "Neural networks (NNs) are a collection of nested functions that are executed on some input data. These functions are defined by parameters (consisting of weights and biases), which in PyTorch are stored in tensors.\n",
    "\n",
    "Training a NN happens in two steps:\n",
    "\n",
    "**Forward Propagation**: In forward prop, the NN makes its best guess about the correct output. It runs the input data through each of its functions to make this guess.\n",
    "\n",
    "**Backward Propagation**: In backprop, the NN adjusts its parameters proportionate to the error in its guess. It does this by traversing backwards from the output, collecting the derivatives of the error with respect to the parameters of the functions (gradients), and optimizing the parameters using gradient descent. For a more detailed walkthrough of backprop, check out this video from 3Blue1Brown."
   ]
  },
  {
   "cell_type": "markdown",
   "id": "hourly-crack",
   "metadata": {},
   "source": [
    "## Usage in PyTorch"
   ]
  },
  {
   "cell_type": "code",
   "execution_count": 35,
   "id": "piano-vanilla",
   "metadata": {},
   "outputs": [],
   "source": [
    "import torchvision"
   ]
  },
  {
   "cell_type": "markdown",
   "id": "conservative-century",
   "metadata": {},
   "source": [
    "* pretrained resnet18 model\n",
    "* random data (represents single image with 3 channels)\n",
    "* random label"
   ]
  },
  {
   "cell_type": "code",
   "execution_count": 36,
   "id": "verbal-picture",
   "metadata": {},
   "outputs": [],
   "source": [
    "model = torchvision.models.resnet18(pretrained=True)\n",
    "data = torch.rand(1, 3, 64, 64)\n",
    "labels = torch.rand(1, 1000)"
   ]
  },
  {
   "cell_type": "markdown",
   "id": "preceding-bronze",
   "metadata": {},
   "source": [
    "run prediction (forward pass)"
   ]
  },
  {
   "cell_type": "code",
   "execution_count": 37,
   "id": "empty-might",
   "metadata": {},
   "outputs": [],
   "source": [
    "prediction = model(data)"
   ]
  },
  {
   "cell_type": "markdown",
   "id": "limiting-publication",
   "metadata": {},
   "source": [
    "calculate error (loss)"
   ]
  },
  {
   "cell_type": "code",
   "execution_count": 38,
   "id": "enclosed-usage",
   "metadata": {},
   "outputs": [],
   "source": [
    "loss = (prediction - labels).sum()"
   ]
  },
  {
   "cell_type": "markdown",
   "id": "meaningful-disease",
   "metadata": {},
   "source": [
    "**backward propagation**: Backward propagation is kicked off when we call `.backward()` on the error tensor. Autograd then calculates and stores the gradients for each model parameter in the parameter’s `.grad` attribute.\n",
    "\n"
   ]
  },
  {
   "cell_type": "code",
   "execution_count": 39,
   "id": "efficient-click",
   "metadata": {},
   "outputs": [],
   "source": [
    "loss.backward()"
   ]
  },
  {
   "cell_type": "markdown",
   "id": "reflected-turkish",
   "metadata": {},
   "source": [
    "set optimizer: we call `.step()` to initiate gradient descent. **The optimizer adjusts each parameter by its gradient stored in `.grad`.**"
   ]
  },
  {
   "cell_type": "code",
   "execution_count": 40,
   "id": "animal-carroll",
   "metadata": {},
   "outputs": [],
   "source": [
    "optim = torch.optim.SGD(model.parameters(), lr=1e-2, momentum=0.9)"
   ]
  },
  {
   "cell_type": "code",
   "execution_count": 41,
   "id": "brief-biography",
   "metadata": {},
   "outputs": [],
   "source": [
    "optim.step()"
   ]
  },
  {
   "cell_type": "markdown",
   "id": "convinced-reduction",
   "metadata": {},
   "source": [
    "## Differentiation in autograd"
   ]
  },
  {
   "cell_type": "markdown",
   "id": "amazing-bulgaria",
   "metadata": {},
   "source": [
    "How `autograd` collects gradients."
   ]
  },
  {
   "cell_type": "code",
   "execution_count": 42,
   "id": "posted-diana",
   "metadata": {},
   "outputs": [],
   "source": [
    "a = torch.tensor([2., 3.], requires_grad=True)  # default: False\n",
    "b = torch.tensor([6., 4.], requires_grad=True)"
   ]
  },
  {
   "cell_type": "code",
   "execution_count": 43,
   "id": "correct-shakespeare",
   "metadata": {},
   "outputs": [],
   "source": [
    "Q = 3*a**3 - b**2"
   ]
  },
  {
   "cell_type": "markdown",
   "id": "sized-conviction",
   "metadata": {},
   "source": [
    "**grad can be implicitly created only for scalar outputs**"
   ]
  },
  {
   "cell_type": "code",
   "execution_count": 44,
   "id": "hindu-stanley",
   "metadata": {},
   "outputs": [],
   "source": [
    "external_grad = torch.tensor([1., 1.])\n",
    "Q.backward(gradient=external_grad)"
   ]
  },
  {
   "cell_type": "markdown",
   "id": "fitted-claim",
   "metadata": {},
   "source": [
    "or aggregate `Q` to scalar and then `.backward()`\n",
    "```python\n",
    "Q.sum().backward()  # this yields the same grad\n",
    "```"
   ]
  },
  {
   "cell_type": "markdown",
   "id": "insured-replication",
   "metadata": {},
   "source": [
    "check if collected gradients are correct"
   ]
  },
  {
   "cell_type": "code",
   "execution_count": 45,
   "id": "synthetic-storm",
   "metadata": {},
   "outputs": [
    {
     "name": "stdout",
     "output_type": "stream",
     "text": [
      "tensor([True, True])\n",
      "tensor([True, True])\n"
     ]
    }
   ],
   "source": [
    "print(9*a**2 == a.grad)\n",
    "print(-2*b == b.grad)"
   ]
  },
  {
   "cell_type": "markdown",
   "id": "binary-brief",
   "metadata": {},
   "source": [
    "## Computational graph"
   ]
  },
  {
   "cell_type": "markdown",
   "id": "chief-absence",
   "metadata": {},
   "source": [
    "autograd keeps a record of data (tensors) & all executed operations (along with the resulting new tensors) in a *directed acyclic graph (DAG)* consisting of Function objects. \n",
    "\n",
    "In this DAG, leaves are the input tensors, roots are the output tensors. By tracing this graph from roots to leaves, you can automatically compute the gradients using the chain rule.\n",
    "\n",
    "An important thing to note is that the graph is recreated from scratch; after each `.backward()` call, autograd starts populating a new graph. This is exactly what allows you to use control flow statements in your model; *you can change the shape, size and operations at every iteration* if needed."
   ]
  },
  {
   "cell_type": "markdown",
   "id": "adjustable-showcase",
   "metadata": {},
   "source": [
    "## Exclude tensors from DAG"
   ]
  },
  {
   "cell_type": "markdown",
   "id": "brutal-skating",
   "metadata": {},
   "source": [
    "In a NN, parameters that don’t compute gradients are usually called *frozen parameters*. It is useful to “freeze” part of your model if you know in advance that you won’t need the gradients of those parameters (this offers some performance benefits by reducing autograd computations)."
   ]
  },
  {
   "cell_type": "code",
   "execution_count": 46,
   "id": "documented-beatles",
   "metadata": {},
   "outputs": [],
   "source": [
    "x = torch.rand(5, 5)\n",
    "y = torch.rand(5, 5)\n",
    "z = torch.rand(5, 5, requires_grad=True)"
   ]
  },
  {
   "cell_type": "code",
   "execution_count": 47,
   "id": "greenhouse-pierce",
   "metadata": {},
   "outputs": [
    {
     "data": {
      "text/plain": [
       "False"
      ]
     },
     "execution_count": 47,
     "metadata": {},
     "output_type": "execute_result"
    }
   ],
   "source": [
    "a = x + y\n",
    "a.requires_grad  # grad of `a` need not be calculated"
   ]
  },
  {
   "cell_type": "code",
   "execution_count": 48,
   "id": "thermal-plasma",
   "metadata": {},
   "outputs": [
    {
     "data": {
      "text/plain": [
       "True"
      ]
     },
     "execution_count": 48,
     "metadata": {},
     "output_type": "execute_result"
    }
   ],
   "source": [
    "b = x + z\n",
    "b.requires_grad"
   ]
  },
  {
   "cell_type": "markdown",
   "id": "literary-proportion",
   "metadata": {},
   "source": [
    "Another common usecase where exclusion from the DAG is important is for finetuning a pretrained network.\n",
    "\n",
    "In finetuning, we freeze most of the model and typically only modify the classifier layers to make predictions on new labels. Let’s walk through a small example to demonstrate this. As before, we load a pretrained resnet18 model, and freeze all the parameters."
   ]
  },
  {
   "cell_type": "code",
   "execution_count": 49,
   "id": "bridal-archive",
   "metadata": {},
   "outputs": [],
   "source": [
    "model = torchvision.models.resnet18(pretrained=True)"
   ]
  },
  {
   "cell_type": "markdown",
   "id": "hazardous-setup",
   "metadata": {},
   "source": [
    "freeze all parameters (can do similar with `torch.no_grad()`)"
   ]
  },
  {
   "cell_type": "code",
   "execution_count": 50,
   "id": "neutral-manner",
   "metadata": {},
   "outputs": [],
   "source": [
    "for param in model.parameters():\n",
    "    param.require_grad = False"
   ]
  },
  {
   "cell_type": "markdown",
   "id": "sunrise-minutes",
   "metadata": {},
   "source": [
    "In resnet, the classifier is the last linear layer `model.fc`. We can simply replace it with a new linear layer (unfrozen by default) that acts as our classifier."
   ]
  },
  {
   "cell_type": "code",
   "execution_count": 51,
   "id": "blond-little",
   "metadata": {
    "scrolled": true
   },
   "outputs": [
    {
     "data": {
      "text/plain": [
       "Linear(in_features=512, out_features=1000, bias=True)"
      ]
     },
     "execution_count": 51,
     "metadata": {},
     "output_type": "execute_result"
    }
   ],
   "source": [
    "model.fc"
   ]
  },
  {
   "cell_type": "code",
   "execution_count": 52,
   "id": "opened-allocation",
   "metadata": {},
   "outputs": [
    {
     "data": {
      "text/plain": [
       "Linear(in_features=512, out_features=10, bias=True)"
      ]
     },
     "execution_count": 52,
     "metadata": {},
     "output_type": "execute_result"
    }
   ],
   "source": [
    "model.fc = torch.nn.Linear(512, 10)  # default: require_grad=True\n",
    "model.fc"
   ]
  },
  {
   "cell_type": "markdown",
   "id": "stuck-jacob",
   "metadata": {
    "collapsed": true
   },
   "source": [
    "```python\n",
    "for param in model.parameters():\n",
    "    print(param)\n",
    "\n",
    "optimizer = torch.optim.SGD(model.parameters(), lr=1e-2, momentum=0.9)\n",
    "optimizer.step()\n",
    "\n",
    "for param in model.parameters():\n",
    "    print(param)\n",
    "```"
   ]
  },
  {
   "cell_type": "markdown",
   "id": "accredited-measurement",
   "metadata": {},
   "source": [
    "only the `.fc` params are updated."
   ]
  },
  {
   "cell_type": "markdown",
   "id": "square-gospel",
   "metadata": {},
   "source": [
    "# Neural networks"
   ]
  },
  {
   "cell_type": "markdown",
   "id": "christian-exposure",
   "metadata": {},
   "source": [
    "constructed using `torch.nn` package. An `nn.Module` class contains layers, and a method forward(input) that returns the output.\n",
    "\n",
    "\n",
    "\n",
    "A typical training procedure for a neural network is as follows:\n",
    "\n",
    "1. Define the neural network that has some learnable parameters (or weights)\n",
    "1. Iterate over a dataset of inputs\n",
    "1. Process input through the network\n",
    "1. Compute the loss (how far is the output from being correct)\n",
    "1. Propagate gradients back into the network’s parameters\n",
    "1. Update the weights of the network, typically using a simple update rule: `weight = weight - learning_rate * gradient`"
   ]
  },
  {
   "cell_type": "markdown",
   "id": "retired-hollywood",
   "metadata": {},
   "source": [
    "## Define the network"
   ]
  },
  {
   "cell_type": "code",
   "execution_count": 1,
   "id": "changed-bleeding",
   "metadata": {},
   "outputs": [],
   "source": [
    "import torch\n",
    "import torch.nn as nn\n",
    "import torch.nn.functional as F"
   ]
  },
  {
   "cell_type": "code",
   "execution_count": 40,
   "id": "laughing-quilt",
   "metadata": {},
   "outputs": [
    {
     "name": "stdout",
     "output_type": "stream",
     "text": [
      "Net(\n",
      "  (conv1): Conv2d(1, 6, kernel_size=(3, 3), stride=(1, 1))\n",
      "  (conv2): Conv2d(6, 16, kernel_size=(3, 3), stride=(1, 1))\n",
      "  (flatten): Flatten(start_dim=1, end_dim=-1)\n",
      "  (fc1): Linear(in_features=576, out_features=120, bias=True)\n",
      "  (fc2): Linear(in_features=120, out_features=84, bias=True)\n",
      "  (fc3): Linear(in_features=84, out_features=10, bias=True)\n",
      ")\n"
     ]
    }
   ],
   "source": [
    "class Net(nn.Module):\n",
    "\n",
    "    def __init__(self):\n",
    "        \"\"\"\n",
    "        define layers\n",
    "        \"\"\"\n",
    "        super(Net, self).__init__()\n",
    "        # 1 input image channel, 6 output channels, 3x3 square convolution\n",
    "        # kernel\n",
    "        self.conv1 = nn.Conv2d(1, 6, 3)\n",
    "        self.conv2 = nn.Conv2d(6, 16, 3)\n",
    "        # an affine operation: y = Wx + b\n",
    "        self.flatten = nn.Flatten()\n",
    "        self.fc1 = nn.Linear(16 * 6 * 6, 120)  # 6*6 from image dimension (max-pooled)\n",
    "        self.fc2 = nn.Linear(120, 84)\n",
    "        self.fc3 = nn.Linear(84, 10)\n",
    "\n",
    "    def forward(self, x):\n",
    "        \"\"\"\n",
    "        define forward pass using layers from __init__().\n",
    "        \"\"\"\n",
    "        # Max pooling over a (2, 2) window\n",
    "        x = F.max_pool2d(F.relu(self.conv1(x)), (2, 2))\n",
    "        # If the size is a square you can only specify a single number\n",
    "        x = F.max_pool2d(F.relu(self.conv2(x)), 2)\n",
    "        \n",
    "        x = self.flatten(x)\n",
    "        x = F.relu(self.fc1(x))\n",
    "        x = F.relu(self.fc2(x))\n",
    "        x = self.fc3(x)\n",
    "        return x\n",
    "\n",
    "\n",
    "net = Net()\n",
    "print(net)"
   ]
  },
  {
   "cell_type": "code",
   "execution_count": 41,
   "id": "minus-scout",
   "metadata": {},
   "outputs": [
    {
     "data": {
      "text/plain": [
       "10"
      ]
     },
     "execution_count": 41,
     "metadata": {},
     "output_type": "execute_result"
    }
   ],
   "source": [
    "params = list(net.parameters())\n",
    "len(params)"
   ]
  },
  {
   "cell_type": "code",
   "execution_count": 42,
   "id": "beautiful-orleans",
   "metadata": {},
   "outputs": [
    {
     "data": {
      "text/plain": [
       "torch.Size([6, 1, 3, 3])"
      ]
     },
     "execution_count": 42,
     "metadata": {},
     "output_type": "execute_result"
    }
   ],
   "source": [
    "params[0].size()  # .weight of conv1"
   ]
  },
  {
   "cell_type": "markdown",
   "id": "normal-surface",
   "metadata": {},
   "source": [
    "* Test run"
   ]
  },
  {
   "cell_type": "code",
   "execution_count": 43,
   "id": "surrounded-contemporary",
   "metadata": {},
   "outputs": [
    {
     "data": {
      "text/plain": [
       "tensor([[ 0.0231, -0.0703, -0.1007, -0.0075,  0.0118, -0.0328,  0.0712, -0.1233,\n",
       "         -0.0393,  0.0712]], grad_fn=<AddmmBackward>)"
      ]
     },
     "execution_count": 43,
     "metadata": {},
     "output_type": "execute_result"
    }
   ],
   "source": [
    "in_ = torch.randn(1, 1, 32, 32)\n",
    "out = net(in_)\n",
    "out"
   ]
  },
  {
   "cell_type": "code",
   "execution_count": 44,
   "id": "three-virus",
   "metadata": {},
   "outputs": [
    {
     "data": {
      "image/svg+xml": [
       "<?xml version=\"1.0\" encoding=\"UTF-8\" standalone=\"no\"?>\n",
       "<!DOCTYPE svg PUBLIC \"-//W3C//DTD SVG 1.1//EN\"\n",
       " \"http://www.w3.org/Graphics/SVG/1.1/DTD/svg11.dtd\">\n",
       "<!-- Generated by graphviz version 2.44.1 (20200629.0846)\n",
       " -->\n",
       "<!-- Pages: 1 -->\n",
       "<svg width=\"422pt\" height=\"825pt\"\n",
       " viewBox=\"0.00 0.00 422.00 825.00\" xmlns=\"http://www.w3.org/2000/svg\" xmlns:xlink=\"http://www.w3.org/1999/xlink\">\n",
       "<g id=\"graph0\" class=\"graph\" transform=\"scale(1 1) rotate(0) translate(4 821)\">\n",
       "<polygon fill=\"white\" stroke=\"transparent\" points=\"-4,4 -4,-821 418,-821 418,4 -4,4\"/>\n",
       "<!-- 140335685389952 -->\n",
       "<g id=\"node1\" class=\"node\">\n",
       "<title>140335685389952</title>\n",
       "<polygon fill=\"#caff70\" stroke=\"black\" points=\"299.5,-21 195.5,-21 195.5,0 299.5,0 299.5,-21\"/>\n",
       "<text text-anchor=\"middle\" x=\"247.5\" y=\"-7.4\" font-family=\"Times,serif\" font-size=\"12.00\">AddmmBackward</text>\n",
       "</g>\n",
       "<!-- 140335685388752 -->\n",
       "<g id=\"node2\" class=\"node\">\n",
       "<title>140335685388752</title>\n",
       "<polygon fill=\"lightblue\" stroke=\"black\" points=\"182.5,-92 128.5,-92 128.5,-57 182.5,-57 182.5,-92\"/>\n",
       "<text text-anchor=\"middle\" x=\"155.5\" y=\"-64.4\" font-family=\"Times,serif\" font-size=\"12.00\"> (10)</text>\n",
       "</g>\n",
       "<!-- 140335685388752&#45;&gt;140335685389952 -->\n",
       "<g id=\"edge1\" class=\"edge\">\n",
       "<title>140335685388752&#45;&gt;140335685389952</title>\n",
       "<path fill=\"none\" stroke=\"black\" d=\"M180.15,-56.89C194.13,-47.47 211.47,-35.78 225.06,-26.62\"/>\n",
       "<polygon fill=\"black\" stroke=\"black\" points=\"227.04,-29.51 233.38,-21.02 223.13,-23.7 227.04,-29.51\"/>\n",
       "</g>\n",
       "<!-- 140335685388992 -->\n",
       "<g id=\"node3\" class=\"node\">\n",
       "<title>140335685388992</title>\n",
       "<polygon fill=\"lightgrey\" stroke=\"black\" points=\"294.5,-85 200.5,-85 200.5,-64 294.5,-64 294.5,-85\"/>\n",
       "<text text-anchor=\"middle\" x=\"247.5\" y=\"-71.4\" font-family=\"Times,serif\" font-size=\"12.00\">ReluBackward0</text>\n",
       "</g>\n",
       "<!-- 140335685388992&#45;&gt;140335685389952 -->\n",
       "<g id=\"edge2\" class=\"edge\">\n",
       "<title>140335685388992&#45;&gt;140335685389952</title>\n",
       "<path fill=\"none\" stroke=\"black\" d=\"M247.5,-63.81C247.5,-55.22 247.5,-42.39 247.5,-31.59\"/>\n",
       "<polygon fill=\"black\" stroke=\"black\" points=\"251,-31.32 247.5,-21.32 244,-31.32 251,-31.32\"/>\n",
       "</g>\n",
       "<!-- 140334567399136 -->\n",
       "<g id=\"node4\" class=\"node\">\n",
       "<title>140334567399136</title>\n",
       "<polygon fill=\"lightgrey\" stroke=\"black\" points=\"299.5,-156 195.5,-156 195.5,-135 299.5,-135 299.5,-156\"/>\n",
       "<text text-anchor=\"middle\" x=\"247.5\" y=\"-142.4\" font-family=\"Times,serif\" font-size=\"12.00\">AddmmBackward</text>\n",
       "</g>\n",
       "<!-- 140334567399136&#45;&gt;140335685388992 -->\n",
       "<g id=\"edge3\" class=\"edge\">\n",
       "<title>140334567399136&#45;&gt;140335685388992</title>\n",
       "<path fill=\"none\" stroke=\"black\" d=\"M247.5,-134.91C247.5,-124.71 247.5,-108.3 247.5,-95.31\"/>\n",
       "<polygon fill=\"black\" stroke=\"black\" points=\"251,-95.01 247.5,-85.01 244,-95.01 251,-95.01\"/>\n",
       "</g>\n",
       "<!-- 140335682785728 -->\n",
       "<g id=\"node5\" class=\"node\">\n",
       "<title>140335682785728</title>\n",
       "<polygon fill=\"lightblue\" stroke=\"black\" points=\"182.5,-234 128.5,-234 128.5,-199 182.5,-199 182.5,-234\"/>\n",
       "<text text-anchor=\"middle\" x=\"155.5\" y=\"-206.4\" font-family=\"Times,serif\" font-size=\"12.00\"> (84)</text>\n",
       "</g>\n",
       "<!-- 140335682785728&#45;&gt;140334567399136 -->\n",
       "<g id=\"edge4\" class=\"edge\">\n",
       "<title>140335682785728&#45;&gt;140334567399136</title>\n",
       "<path fill=\"none\" stroke=\"black\" d=\"M177.77,-198.8C192.57,-187.7 211.88,-173.22 226.42,-162.31\"/>\n",
       "<polygon fill=\"black\" stroke=\"black\" points=\"228.88,-164.84 234.78,-156.04 224.68,-159.24 228.88,-164.84\"/>\n",
       "</g>\n",
       "<!-- 140335925418112 -->\n",
       "<g id=\"node6\" class=\"node\">\n",
       "<title>140335925418112</title>\n",
       "<polygon fill=\"lightgrey\" stroke=\"black\" points=\"294.5,-227 200.5,-227 200.5,-206 294.5,-206 294.5,-227\"/>\n",
       "<text text-anchor=\"middle\" x=\"247.5\" y=\"-213.4\" font-family=\"Times,serif\" font-size=\"12.00\">ReluBackward0</text>\n",
       "</g>\n",
       "<!-- 140335925418112&#45;&gt;140334567399136 -->\n",
       "<g id=\"edge5\" class=\"edge\">\n",
       "<title>140335925418112&#45;&gt;140334567399136</title>\n",
       "<path fill=\"none\" stroke=\"black\" d=\"M247.5,-205.91C247.5,-195.71 247.5,-179.3 247.5,-166.31\"/>\n",
       "<polygon fill=\"black\" stroke=\"black\" points=\"251,-166.01 247.5,-156.01 244,-166.01 251,-166.01\"/>\n",
       "</g>\n",
       "<!-- 140335375526592 -->\n",
       "<g id=\"node7\" class=\"node\">\n",
       "<title>140335375526592</title>\n",
       "<polygon fill=\"lightgrey\" stroke=\"black\" points=\"299.5,-298 195.5,-298 195.5,-277 299.5,-277 299.5,-298\"/>\n",
       "<text text-anchor=\"middle\" x=\"247.5\" y=\"-284.4\" font-family=\"Times,serif\" font-size=\"12.00\">AddmmBackward</text>\n",
       "</g>\n",
       "<!-- 140335375526592&#45;&gt;140335925418112 -->\n",
       "<g id=\"edge6\" class=\"edge\">\n",
       "<title>140335375526592&#45;&gt;140335925418112</title>\n",
       "<path fill=\"none\" stroke=\"black\" d=\"M247.5,-276.91C247.5,-266.71 247.5,-250.3 247.5,-237.31\"/>\n",
       "<polygon fill=\"black\" stroke=\"black\" points=\"251,-237.01 247.5,-227.01 244,-237.01 251,-237.01\"/>\n",
       "</g>\n",
       "<!-- 140335372708496 -->\n",
       "<g id=\"node8\" class=\"node\">\n",
       "<title>140335372708496</title>\n",
       "<polygon fill=\"lightblue\" stroke=\"black\" points=\"183.5,-376 129.5,-376 129.5,-341 183.5,-341 183.5,-376\"/>\n",
       "<text text-anchor=\"middle\" x=\"156.5\" y=\"-348.4\" font-family=\"Times,serif\" font-size=\"12.00\"> (120)</text>\n",
       "</g>\n",
       "<!-- 140335372708496&#45;&gt;140335375526592 -->\n",
       "<g id=\"edge7\" class=\"edge\">\n",
       "<title>140335372708496&#45;&gt;140335375526592</title>\n",
       "<path fill=\"none\" stroke=\"black\" d=\"M178.53,-340.8C193.16,-329.7 212.26,-315.22 226.65,-304.31\"/>\n",
       "<polygon fill=\"black\" stroke=\"black\" points=\"229.06,-306.87 234.92,-298.04 224.84,-301.29 229.06,-306.87\"/>\n",
       "</g>\n",
       "<!-- 140335375730480 -->\n",
       "<g id=\"node9\" class=\"node\">\n",
       "<title>140335375730480</title>\n",
       "<polygon fill=\"lightgrey\" stroke=\"black\" points=\"293,-369 202,-369 202,-348 293,-348 293,-369\"/>\n",
       "<text text-anchor=\"middle\" x=\"247.5\" y=\"-355.4\" font-family=\"Times,serif\" font-size=\"12.00\">ViewBackward</text>\n",
       "</g>\n",
       "<!-- 140335375730480&#45;&gt;140335375526592 -->\n",
       "<g id=\"edge8\" class=\"edge\">\n",
       "<title>140335375730480&#45;&gt;140335375526592</title>\n",
       "<path fill=\"none\" stroke=\"black\" d=\"M247.5,-347.91C247.5,-337.71 247.5,-321.3 247.5,-308.31\"/>\n",
       "<polygon fill=\"black\" stroke=\"black\" points=\"251,-308.01 247.5,-298.01 244,-308.01 251,-308.01\"/>\n",
       "</g>\n",
       "<!-- 140335104679168 -->\n",
       "<g id=\"node10\" class=\"node\">\n",
       "<title>140335104679168</title>\n",
       "<polygon fill=\"lightgrey\" stroke=\"black\" points=\"327,-440 146,-440 146,-419 327,-419 327,-440\"/>\n",
       "<text text-anchor=\"middle\" x=\"236.5\" y=\"-426.4\" font-family=\"Times,serif\" font-size=\"12.00\">MaxPool2DWithIndicesBackward</text>\n",
       "</g>\n",
       "<!-- 140335104679168&#45;&gt;140335375730480 -->\n",
       "<g id=\"edge9\" class=\"edge\">\n",
       "<title>140335104679168&#45;&gt;140335375730480</title>\n",
       "<path fill=\"none\" stroke=\"black\" d=\"M238.03,-418.91C239.67,-408.61 242.32,-391.97 244.4,-378.92\"/>\n",
       "<polygon fill=\"black\" stroke=\"black\" points=\"247.87,-379.44 245.98,-369.01 240.95,-378.34 247.87,-379.44\"/>\n",
       "</g>\n",
       "<!-- 140335104679408 -->\n",
       "<g id=\"node11\" class=\"node\">\n",
       "<title>140335104679408</title>\n",
       "<polygon fill=\"lightgrey\" stroke=\"black\" points=\"283.5,-504 189.5,-504 189.5,-483 283.5,-483 283.5,-504\"/>\n",
       "<text text-anchor=\"middle\" x=\"236.5\" y=\"-490.4\" font-family=\"Times,serif\" font-size=\"12.00\">ReluBackward0</text>\n",
       "</g>\n",
       "<!-- 140335104679408&#45;&gt;140335104679168 -->\n",
       "<g id=\"edge10\" class=\"edge\">\n",
       "<title>140335104679408&#45;&gt;140335104679168</title>\n",
       "<path fill=\"none\" stroke=\"black\" d=\"M236.5,-482.81C236.5,-474.22 236.5,-461.39 236.5,-450.59\"/>\n",
       "<polygon fill=\"black\" stroke=\"black\" points=\"240,-450.32 236.5,-440.32 233,-450.32 240,-450.32\"/>\n",
       "</g>\n",
       "<!-- 140335104677968 -->\n",
       "<g id=\"node12\" class=\"node\">\n",
       "<title>140335104677968</title>\n",
       "<polygon fill=\"lightgrey\" stroke=\"black\" points=\"302.5,-561 170.5,-561 170.5,-540 302.5,-540 302.5,-561\"/>\n",
       "<text text-anchor=\"middle\" x=\"236.5\" y=\"-547.4\" font-family=\"Times,serif\" font-size=\"12.00\">ThnnConv2DBackward</text>\n",
       "</g>\n",
       "<!-- 140335104677968&#45;&gt;140335104679408 -->\n",
       "<g id=\"edge11\" class=\"edge\">\n",
       "<title>140335104677968&#45;&gt;140335104679408</title>\n",
       "<path fill=\"none\" stroke=\"black\" d=\"M236.5,-539.92C236.5,-532.91 236.5,-523.14 236.5,-514.47\"/>\n",
       "<polygon fill=\"black\" stroke=\"black\" points=\"240,-514.34 236.5,-504.34 233,-514.34 240,-514.34\"/>\n",
       "</g>\n",
       "<!-- 140335104677728 -->\n",
       "<g id=\"node13\" class=\"node\">\n",
       "<title>140335104677728</title>\n",
       "<polygon fill=\"lightgrey\" stroke=\"black\" points=\"181,-625 0,-625 0,-604 181,-604 181,-625\"/>\n",
       "<text text-anchor=\"middle\" x=\"90.5\" y=\"-611.4\" font-family=\"Times,serif\" font-size=\"12.00\">MaxPool2DWithIndicesBackward</text>\n",
       "</g>\n",
       "<!-- 140335104677728&#45;&gt;140335104677968 -->\n",
       "<g id=\"edge12\" class=\"edge\">\n",
       "<title>140335104677728&#45;&gt;140335104677968</title>\n",
       "<path fill=\"none\" stroke=\"black\" d=\"M112.99,-603.95C137.46,-593.56 176.79,-576.86 204.48,-565.1\"/>\n",
       "<polygon fill=\"black\" stroke=\"black\" points=\"205.9,-568.29 213.74,-561.16 203.17,-561.85 205.9,-568.29\"/>\n",
       "</g>\n",
       "<!-- 140335688852816 -->\n",
       "<g id=\"node14\" class=\"node\">\n",
       "<title>140335688852816</title>\n",
       "<polygon fill=\"lightgrey\" stroke=\"black\" points=\"137.5,-689 43.5,-689 43.5,-668 137.5,-668 137.5,-689\"/>\n",
       "<text text-anchor=\"middle\" x=\"90.5\" y=\"-675.4\" font-family=\"Times,serif\" font-size=\"12.00\">ReluBackward0</text>\n",
       "</g>\n",
       "<!-- 140335688852816&#45;&gt;140335104677728 -->\n",
       "<g id=\"edge13\" class=\"edge\">\n",
       "<title>140335688852816&#45;&gt;140335104677728</title>\n",
       "<path fill=\"none\" stroke=\"black\" d=\"M90.5,-667.81C90.5,-659.22 90.5,-646.39 90.5,-635.59\"/>\n",
       "<polygon fill=\"black\" stroke=\"black\" points=\"94,-635.32 90.5,-625.32 87,-635.32 94,-635.32\"/>\n",
       "</g>\n",
       "<!-- 140335688853008 -->\n",
       "<g id=\"node15\" class=\"node\">\n",
       "<title>140335688853008</title>\n",
       "<polygon fill=\"lightgrey\" stroke=\"black\" points=\"156.5,-746 24.5,-746 24.5,-725 156.5,-725 156.5,-746\"/>\n",
       "<text text-anchor=\"middle\" x=\"90.5\" y=\"-732.4\" font-family=\"Times,serif\" font-size=\"12.00\">ThnnConv2DBackward</text>\n",
       "</g>\n",
       "<!-- 140335688853008&#45;&gt;140335688852816 -->\n",
       "<g id=\"edge14\" class=\"edge\">\n",
       "<title>140335688853008&#45;&gt;140335688852816</title>\n",
       "<path fill=\"none\" stroke=\"black\" d=\"M90.5,-724.92C90.5,-717.91 90.5,-708.14 90.5,-699.47\"/>\n",
       "<polygon fill=\"black\" stroke=\"black\" points=\"94,-699.34 90.5,-689.34 87,-699.34 94,-699.34\"/>\n",
       "</g>\n",
       "<!-- 140335688852960 -->\n",
       "<g id=\"node16\" class=\"node\">\n",
       "<title>140335688852960</title>\n",
       "<polygon fill=\"lightblue\" stroke=\"black\" points=\"85,-817 16,-817 16,-782 85,-782 85,-817\"/>\n",
       "<text text-anchor=\"middle\" x=\"50.5\" y=\"-789.4\" font-family=\"Times,serif\" font-size=\"12.00\"> (6, 1, 3, 3)</text>\n",
       "</g>\n",
       "<!-- 140335688852960&#45;&gt;140335688853008 -->\n",
       "<g id=\"edge15\" class=\"edge\">\n",
       "<title>140335688852960&#45;&gt;140335688853008</title>\n",
       "<path fill=\"none\" stroke=\"black\" d=\"M61.22,-781.89C66.66,-773.46 73.27,-763.2 78.84,-754.58\"/>\n",
       "<polygon fill=\"black\" stroke=\"black\" points=\"81.88,-756.32 84.36,-746.02 76,-752.52 81.88,-756.32\"/>\n",
       "</g>\n",
       "<!-- 140335688852432 -->\n",
       "<g id=\"node17\" class=\"node\">\n",
       "<title>140335688852432</title>\n",
       "<polygon fill=\"lightblue\" stroke=\"black\" points=\"157.5,-817 103.5,-817 103.5,-782 157.5,-782 157.5,-817\"/>\n",
       "<text text-anchor=\"middle\" x=\"130.5\" y=\"-789.4\" font-family=\"Times,serif\" font-size=\"12.00\"> (6)</text>\n",
       "</g>\n",
       "<!-- 140335688852432&#45;&gt;140335688853008 -->\n",
       "<g id=\"edge16\" class=\"edge\">\n",
       "<title>140335688852432&#45;&gt;140335688853008</title>\n",
       "<path fill=\"none\" stroke=\"black\" d=\"M119.78,-781.89C114.34,-773.46 107.73,-763.2 102.16,-754.58\"/>\n",
       "<polygon fill=\"black\" stroke=\"black\" points=\"105,-752.52 96.64,-746.02 99.12,-756.32 105,-752.52\"/>\n",
       "</g>\n",
       "<!-- 140335104676480 -->\n",
       "<g id=\"node18\" class=\"node\">\n",
       "<title>140335104676480</title>\n",
       "<polygon fill=\"lightblue\" stroke=\"black\" points=\"274,-632 199,-632 199,-597 274,-597 274,-632\"/>\n",
       "<text text-anchor=\"middle\" x=\"236.5\" y=\"-604.4\" font-family=\"Times,serif\" font-size=\"12.00\"> (16, 6, 3, 3)</text>\n",
       "</g>\n",
       "<!-- 140335104676480&#45;&gt;140335104677968 -->\n",
       "<g id=\"edge17\" class=\"edge\">\n",
       "<title>140335104676480&#45;&gt;140335104677968</title>\n",
       "<path fill=\"none\" stroke=\"black\" d=\"M236.5,-596.89C236.5,-588.99 236.5,-579.5 236.5,-571.25\"/>\n",
       "<polygon fill=\"black\" stroke=\"black\" points=\"240,-571.02 236.5,-561.02 233,-571.02 240,-571.02\"/>\n",
       "</g>\n",
       "<!-- 140335104676384 -->\n",
       "<g id=\"node19\" class=\"node\">\n",
       "<title>140335104676384</title>\n",
       "<polygon fill=\"lightblue\" stroke=\"black\" points=\"346.5,-632 292.5,-632 292.5,-597 346.5,-597 346.5,-632\"/>\n",
       "<text text-anchor=\"middle\" x=\"319.5\" y=\"-604.4\" font-family=\"Times,serif\" font-size=\"12.00\"> (16)</text>\n",
       "</g>\n",
       "<!-- 140335104676384&#45;&gt;140335104677968 -->\n",
       "<g id=\"edge18\" class=\"edge\">\n",
       "<title>140335104676384&#45;&gt;140335104677968</title>\n",
       "<path fill=\"none\" stroke=\"black\" d=\"M297.26,-596.89C284.89,-587.65 269.6,-576.22 257.45,-567.15\"/>\n",
       "<polygon fill=\"black\" stroke=\"black\" points=\"259.35,-564.2 249.24,-561.02 255.16,-569.81 259.35,-564.2\"/>\n",
       "</g>\n",
       "<!-- 140335682668960 -->\n",
       "<g id=\"node20\" class=\"node\">\n",
       "<title>140335682668960</title>\n",
       "<polygon fill=\"lightgrey\" stroke=\"black\" points=\"405,-369 332,-369 332,-348 405,-348 405,-369\"/>\n",
       "<text text-anchor=\"middle\" x=\"368.5\" y=\"-355.4\" font-family=\"Times,serif\" font-size=\"12.00\">TBackward</text>\n",
       "</g>\n",
       "<!-- 140335682668960&#45;&gt;140335375526592 -->\n",
       "<g id=\"edge19\" class=\"edge\">\n",
       "<title>140335682668960&#45;&gt;140335375526592</title>\n",
       "<path fill=\"none\" stroke=\"black\" d=\"M351.68,-347.91C331.27,-336.27 296.66,-316.53 272.98,-303.03\"/>\n",
       "<polygon fill=\"black\" stroke=\"black\" points=\"274.6,-299.93 264.18,-298.01 271.13,-306.01 274.6,-299.93\"/>\n",
       "</g>\n",
       "<!-- 140335104679360 -->\n",
       "<g id=\"node21\" class=\"node\">\n",
       "<title>140335104679360</title>\n",
       "<polygon fill=\"lightblue\" stroke=\"black\" points=\"414,-447 345,-447 345,-412 414,-412 414,-447\"/>\n",
       "<text text-anchor=\"middle\" x=\"379.5\" y=\"-419.4\" font-family=\"Times,serif\" font-size=\"12.00\"> (120, 576)</text>\n",
       "</g>\n",
       "<!-- 140335104679360&#45;&gt;140335682668960 -->\n",
       "<g id=\"edge20\" class=\"edge\">\n",
       "<title>140335104679360&#45;&gt;140335682668960</title>\n",
       "<path fill=\"none\" stroke=\"black\" d=\"M376.84,-411.8C375.27,-401.96 373.28,-389.45 371.63,-379.14\"/>\n",
       "<polygon fill=\"black\" stroke=\"black\" points=\"375.05,-378.36 370.02,-369.04 368.14,-379.47 375.05,-378.36\"/>\n",
       "</g>\n",
       "<!-- 140335925418400 -->\n",
       "<g id=\"node22\" class=\"node\">\n",
       "<title>140335925418400</title>\n",
       "<polygon fill=\"lightgrey\" stroke=\"black\" points=\"386,-227 313,-227 313,-206 386,-206 386,-227\"/>\n",
       "<text text-anchor=\"middle\" x=\"349.5\" y=\"-213.4\" font-family=\"Times,serif\" font-size=\"12.00\">TBackward</text>\n",
       "</g>\n",
       "<!-- 140335925418400&#45;&gt;140334567399136 -->\n",
       "<g id=\"edge21\" class=\"edge\">\n",
       "<title>140335925418400&#45;&gt;140334567399136</title>\n",
       "<path fill=\"none\" stroke=\"black\" d=\"M335.32,-205.91C318.42,-194.47 289.97,-175.23 270.05,-161.75\"/>\n",
       "<polygon fill=\"black\" stroke=\"black\" points=\"271.81,-158.72 261.56,-156.01 267.88,-164.51 271.81,-158.72\"/>\n",
       "</g>\n",
       "<!-- 140335372709072 -->\n",
       "<g id=\"node23\" class=\"node\">\n",
       "<title>140335372709072</title>\n",
       "<polygon fill=\"lightblue\" stroke=\"black\" points=\"381,-305 318,-305 318,-270 381,-270 381,-305\"/>\n",
       "<text text-anchor=\"middle\" x=\"349.5\" y=\"-277.4\" font-family=\"Times,serif\" font-size=\"12.00\"> (84, 120)</text>\n",
       "</g>\n",
       "<!-- 140335372709072&#45;&gt;140335925418400 -->\n",
       "<g id=\"edge22\" class=\"edge\">\n",
       "<title>140335372709072&#45;&gt;140335925418400</title>\n",
       "<path fill=\"none\" stroke=\"black\" d=\"M349.5,-269.8C349.5,-259.96 349.5,-247.45 349.5,-237.14\"/>\n",
       "<polygon fill=\"black\" stroke=\"black\" points=\"353,-237.04 349.5,-227.04 346,-237.04 353,-237.04\"/>\n",
       "</g>\n",
       "<!-- 140334567399376 -->\n",
       "<g id=\"node24\" class=\"node\">\n",
       "<title>140334567399376</title>\n",
       "<polygon fill=\"lightgrey\" stroke=\"black\" points=\"386,-85 313,-85 313,-64 386,-64 386,-85\"/>\n",
       "<text text-anchor=\"middle\" x=\"349.5\" y=\"-71.4\" font-family=\"Times,serif\" font-size=\"12.00\">TBackward</text>\n",
       "</g>\n",
       "<!-- 140334567399376&#45;&gt;140335685389952 -->\n",
       "<g id=\"edge23\" class=\"edge\">\n",
       "<title>140334567399376&#45;&gt;140335685389952</title>\n",
       "<path fill=\"none\" stroke=\"black\" d=\"M333.56,-63.81C317.09,-53.8 291.17,-38.05 272.08,-26.44\"/>\n",
       "<polygon fill=\"black\" stroke=\"black\" points=\"273.69,-23.32 263.33,-21.12 270.05,-29.3 273.69,-23.32\"/>\n",
       "</g>\n",
       "<!-- 140335682786976 -->\n",
       "<g id=\"node25\" class=\"node\">\n",
       "<title>140335682786976</title>\n",
       "<polygon fill=\"lightblue\" stroke=\"black\" points=\"378,-163 321,-163 321,-128 378,-128 378,-163\"/>\n",
       "<text text-anchor=\"middle\" x=\"349.5\" y=\"-135.4\" font-family=\"Times,serif\" font-size=\"12.00\"> (10, 84)</text>\n",
       "</g>\n",
       "<!-- 140335682786976&#45;&gt;140334567399376 -->\n",
       "<g id=\"edge24\" class=\"edge\">\n",
       "<title>140335682786976&#45;&gt;140334567399376</title>\n",
       "<path fill=\"none\" stroke=\"black\" d=\"M349.5,-127.8C349.5,-117.96 349.5,-105.45 349.5,-95.14\"/>\n",
       "<polygon fill=\"black\" stroke=\"black\" points=\"353,-95.04 349.5,-85.04 346,-95.04 353,-95.04\"/>\n",
       "</g>\n",
       "</g>\n",
       "</svg>\n"
      ],
      "text/plain": [
       "<graphviz.dot.Digraph at 0x7fa27288fa00>"
      ]
     },
     "execution_count": 44,
     "metadata": {},
     "output_type": "execute_result"
    }
   ],
   "source": [
    "from torchviz import make_dot\n",
    "make_dot(out)"
   ]
  },
  {
   "cell_type": "markdown",
   "id": "billion-bacteria",
   "metadata": {},
   "source": [
    "Zero the gradient buffers of all parameters and backprops with random gradients:"
   ]
  },
  {
   "cell_type": "code",
   "execution_count": 45,
   "id": "brown-subject",
   "metadata": {},
   "outputs": [],
   "source": [
    "net.zero_grad()\n",
    "out.backward(torch.randn(1, 10))"
   ]
  },
  {
   "cell_type": "markdown",
   "id": "musical-glasgow",
   "metadata": {},
   "source": [
    "**Recap**:\n",
    "* `torch.Tensor` - A multi-dimensional array with support for autograd operations like `backward()`. Also holds the gradient w.r.t. the tensor.\n",
    "* `nn.Module` - Neural network module. Convenient way of encapsulating parameters, with helpers for moving them to GPU, exporting, loading, etc.\n",
    "* `nn.Parameter` - A kind of Tensor, that is automatically registered as a parameter when assigned as an attribute to a Module.\n",
    "* `autograd.Function` - Implements forward and backward definitions of an autograd operation. Every Tensor operation creates at least a single Function node that connects to functions that created a Tensor and encodes its history."
   ]
  },
  {
   "cell_type": "markdown",
   "id": "confirmed-belgium",
   "metadata": {},
   "source": [
    "## Loss function"
   ]
  },
  {
   "cell_type": "code",
   "execution_count": 46,
   "id": "chemical-personality",
   "metadata": {},
   "outputs": [],
   "source": [
    "output = net(in_)\n",
    "target = torch.randn(10)  # dummy target\n",
    "target = target.view(1, -1)  # make it the same shape as output"
   ]
  },
  {
   "cell_type": "code",
   "execution_count": 47,
   "id": "running-northwest",
   "metadata": {},
   "outputs": [
    {
     "name": "stdout",
     "output_type": "stream",
     "text": [
      "tensor(1.2122, grad_fn=<MseLossBackward>)\n"
     ]
    }
   ],
   "source": [
    "criterion = nn.MSELoss()\n",
    "loss = criterion(output, target)\n",
    "print(loss)"
   ]
  },
  {
   "cell_type": "code",
   "execution_count": 48,
   "id": "cultural-logging",
   "metadata": {},
   "outputs": [
    {
     "name": "stdout",
     "output_type": "stream",
     "text": [
      "<MseLossBackward object at 0x7fa272e22dc0>\n",
      "<AddmmBackward object at 0x7fa272e22fa0>\n",
      "<AccumulateGrad object at 0x7fa272ad49d0>\n"
     ]
    }
   ],
   "source": [
    "print(loss.grad_fn)  # MSELoss\n",
    "print(loss.grad_fn.next_functions[0][0])  # Linear\n",
    "print(loss.grad_fn.next_functions[0][0].next_functions[0][0])  # ReLU"
   ]
  },
  {
   "cell_type": "markdown",
   "id": "structured-accommodation",
   "metadata": {},
   "source": [
    "## Backprop"
   ]
  },
  {
   "cell_type": "markdown",
   "id": "noble-brave",
   "metadata": {},
   "source": [
    "You need to clear the existing gradients though, else gradients will be accumulated to existing gradients.\n",
    "\n"
   ]
  },
  {
   "cell_type": "code",
   "execution_count": 49,
   "id": "closing-administration",
   "metadata": {},
   "outputs": [
    {
     "name": "stdout",
     "output_type": "stream",
     "text": [
      "conv1.bias.grad before backward\n",
      "tensor([0., 0., 0., 0., 0., 0.])\n",
      "conv1.bias.grad after backward\n",
      "tensor([ 0.0106, -0.0047, -0.0068,  0.0025,  0.0042, -0.0048])\n"
     ]
    }
   ],
   "source": [
    "net.zero_grad()     # zeroes the gradient buffers of all parameters\n",
    "\n",
    "print('conv1.bias.grad before backward')\n",
    "print(net.conv1.bias.grad)\n",
    "\n",
    "loss.backward()\n",
    "\n",
    "print('conv1.bias.grad after backward')\n",
    "print(net.conv1.bias.grad)"
   ]
  },
  {
   "cell_type": "markdown",
   "id": "invisible-daughter",
   "metadata": {},
   "source": [
    "## Update the weights"
   ]
  },
  {
   "cell_type": "markdown",
   "id": "digital-conference",
   "metadata": {},
   "source": [
    "`weight = weight - learning_rate * gradient`"
   ]
  },
  {
   "cell_type": "markdown",
   "id": "curious-description",
   "metadata": {},
   "source": [
    "implement simple SGD"
   ]
  },
  {
   "cell_type": "code",
   "execution_count": 50,
   "id": "hired-hepatitis",
   "metadata": {},
   "outputs": [],
   "source": [
    "learning_rate = 0.01\n",
    "for f in net.parameters():\n",
    "    # `weight = weight - learning_rate * gradient` for each parameter\n",
    "    f.data.sub_(f.grad.data * learning_rate)"
   ]
  },
  {
   "cell_type": "markdown",
   "id": "impressive-fossil",
   "metadata": {},
   "source": [
    "or use `torch.optim`"
   ]
  },
  {
   "cell_type": "code",
   "execution_count": 51,
   "id": "judicial-analysis",
   "metadata": {},
   "outputs": [],
   "source": [
    "import torch.optim as optim\n",
    "\n",
    "# create optimizer\n",
    "optimizer = optim.SGD(net.parameters(), lr=0.01)"
   ]
  },
  {
   "cell_type": "code",
   "execution_count": 52,
   "id": "arbitrary-prescription",
   "metadata": {},
   "outputs": [],
   "source": [
    "# training loop\n",
    "loss_history = []\n",
    "for i in range(150):\n",
    "    optimizer.zero_grad()  # zero the gradient buffers\n",
    "    output = net(in_)\n",
    "    loss = criterion(output, target)\n",
    "    loss.backward()\n",
    "    optimizer.step()  # update\n",
    "    \n",
    "    loss_history.append(loss.item())  # log history"
   ]
  },
  {
   "cell_type": "code",
   "execution_count": 53,
   "id": "incorporate-spencer",
   "metadata": {},
   "outputs": [
    {
     "data": {
      "text/plain": [
       "[<matplotlib.lines.Line2D at 0x7fa272e59c70>]"
      ]
     },
     "execution_count": 53,
     "metadata": {},
     "output_type": "execute_result"
    },
    {
     "data": {
      "image/png": "[encoded data removed]",
      "text/plain": [
       "<Figure size 432x288 with 1 Axes>"
      ]
     },
     "metadata": {},
     "output_type": "display_data"
    }
   ],
   "source": [
    "import matplotlib.pyplot as plt\n",
    "plt.style.use(\"seaborn-whitegrid\")\n",
    "plt.plot(loss_history)"
   ]
  },
  {
   "cell_type": "markdown",
   "id": "mysterious-taxation",
   "metadata": {},
   "source": [
    "Observe how **gradient buffers had to be manually set to zero** using `optimizer.zero_grad()`. This is because gradients are accumulated as explained in the Backprop section.\n"
   ]
  },
  {
   "cell_type": "markdown",
   "id": "improved-drawing",
   "metadata": {},
   "source": [
    "# Training a classifier"
   ]
  },
  {
   "cell_type": "markdown",
   "id": "virgin-brass",
   "metadata": {},
   "source": [
    "## Load and normalize CIFAR10"
   ]
  },
  {
   "cell_type": "markdown",
   "id": "varied-longitude",
   "metadata": {},
   "source": [
    "* `torchvision.datasets`: dataset\n",
    "* `torchvision.transforms`: data transformer\n",
    "* `torch.utils.data.DataLoader`: data loader"
   ]
  },
  {
   "cell_type": "code",
   "execution_count": 1,
   "id": "lyric-plastic",
   "metadata": {},
   "outputs": [],
   "source": [
    "import torch\n",
    "import torchvision\n",
    "import torchvision.transforms as transforms"
   ]
  },
  {
   "cell_type": "markdown",
   "id": "latest-howard",
   "metadata": {},
   "source": [
    "The output of torchvision datasets are PILImage images of range [0, 1]. We transform them to Tensors of normalized range [-1, 1]."
   ]
  },
  {
   "cell_type": "code",
   "execution_count": 2,
   "id": "general-trainer",
   "metadata": {},
   "outputs": [],
   "source": [
    "# transformer\n",
    "transform = transforms.Compose(\n",
    "    [\n",
    "        transforms.ToTensor(),\n",
    "        transforms.Normalize((.5, .5, .5), (.5, .5, .5))\n",
    "        # output[channel] = (input[channel] - mean[channel]) / std[channel]\n",
    "    ]\n",
    ")"
   ]
  },
  {
   "cell_type": "code",
   "execution_count": 3,
   "id": "boring-constant",
   "metadata": {},
   "outputs": [],
   "source": [
    "trainset = torchvision.datasets.CIFAR10(root=\"./data\", train=True, transform=transform)\n",
    "testset = torchvision.datasets.CIFAR10(root=\"./data\", train=False, transform=transform)"
   ]
  },
  {
   "cell_type": "code",
   "execution_count": 4,
   "id": "written-thursday",
   "metadata": {},
   "outputs": [],
   "source": [
    "# data loader object\n",
    "trainloader = torch.utils.data.DataLoader(trainset, batch_size=4,\n",
    "                                          shuffle=True, num_workers=2)\n",
    "testloader = torch.utils.data.DataLoader(testset, batch_size=4,\n",
    "                                         shuffle=True, num_workers=2)\n",
    "\n",
    "classes = ('plane', 'car', 'bird', 'cat', 'deer', 'dog', 'frog', 'horse', 'ship', 'truck')"
   ]
  },
  {
   "cell_type": "code",
   "execution_count": 5,
   "id": "racial-riding",
   "metadata": {},
   "outputs": [
    {
     "data": {
      "image/png": "[encoded data removed]",
      "text/plain": [
       "<Figure size 432x288 with 1 Axes>"
      ]
     },
     "metadata": {
      "needs_background": "light"
     },
     "output_type": "display_data"
    }
   ],
   "source": [
    "import matplotlib.pyplot as plt\n",
    "\n",
    "plt.imshow(  # BHWC to BCHW and back to BHWC\n",
    "    torchvision.utils.make_grid(torch.tensor(trainset.data[4:8])\\\n",
    "                                .transpose(2,3).transpose(1,2))\\\n",
    "    .numpy().transpose(1,2,0)\n",
    ");"
   ]
  },
  {
   "cell_type": "markdown",
   "id": "miniature-guyana",
   "metadata": {},
   "source": [
    "## Define a ConvNet"
   ]
  },
  {
   "cell_type": "code",
   "execution_count": 6,
   "id": "satisfactory-budget",
   "metadata": {},
   "outputs": [],
   "source": [
    "import torch.nn as nn\n",
    "import torch.nn.functional as F"
   ]
  },
  {
   "cell_type": "code",
   "execution_count": 7,
   "id": "educated-point",
   "metadata": {},
   "outputs": [],
   "source": [
    "class Net(nn.Module):\n",
    "    def __init__(self):\n",
    "        super(Net, self).__init__()\n",
    "        self.conv1 = nn.Conv2d(3, 6, 5)\n",
    "        self.pool = nn.MaxPool2d(2, 2)\n",
    "        self.conv2 = nn.Conv2d(6, 16, 5)\n",
    "        self.flatten = nn.Flatten()\n",
    "        self.fc1 = nn.Linear(16 * 5 * 5, 120)\n",
    "        self.fc2 = nn.Linear(120, 84)\n",
    "        self.fc3 = nn.Linear(84, 10)\n",
    "\n",
    "    def forward(self, x):\n",
    "        x = self.pool(F.relu(self.conv1(x)))\n",
    "        x = self.pool(F.relu(self.conv2(x)))\n",
    "        x = self.flatten(x)\n",
    "        x = F.relu(self.fc1(x))\n",
    "        x = F.relu(self.fc2(x))\n",
    "        x = self.fc3(x)\n",
    "        return x\n",
    "\n",
    "\n",
    "net = Net()"
   ]
  },
  {
   "cell_type": "markdown",
   "id": "sharing-carbon",
   "metadata": {},
   "source": [
    "## Define loss and optimizer"
   ]
  },
  {
   "cell_type": "code",
   "execution_count": 8,
   "id": "advanced-problem",
   "metadata": {},
   "outputs": [],
   "source": [
    "criterion = nn.CrossEntropyLoss()\n",
    "optimizer = torch.optim.SGD(net.parameters(), lr=0.001, momentum=0.9)"
   ]
  },
  {
   "cell_type": "markdown",
   "id": "skilled-poison",
   "metadata": {},
   "source": [
    "## Train the network"
   ]
  },
  {
   "cell_type": "markdown",
   "id": "fantastic-wichita",
   "metadata": {},
   "source": [
    "```python\n",
    "from time import perf_counter\n",
    "\n",
    "for epoch in range(1, 11):\n",
    "    running_loss = 0.\n",
    "    for i, data in enumerate(trainloader, 1):  # enumeration starts with index 1\n",
    "        # time\n",
    "        perf_t1 = perf_counter()\n",
    "        \n",
    "        # first minibatch of inputs. data is a list of [inputs, labels]\n",
    "        inputs, labels = data\n",
    "        \n",
    "        # zero the grad buffer\n",
    "        optimizer.zero_grad()\n",
    "        \n",
    "        # forward & backward & optimize\n",
    "        outputs = net(inputs)\n",
    "        loss = criterion(outputs, labels)\n",
    "        loss.backward()\n",
    "        optimizer.step()\n",
    "        \n",
    "        # print status\n",
    "        running_loss += loss.item()\n",
    "        \n",
    "        if i % 2000 == 0:\n",
    "            perf_t2 = perf_counter()\n",
    "            print(f\"[{epoch: d} {i: 5d}] loss: {running_loss / 2000: .3f}\\ttime: {(perf_t2-perf_t1)*1000: .1f} ms\")\n",
    "            \n",
    "            perf_t1 = perf_t2\n",
    "            running_loss = 0.\n",
    "\n",
    "print(\"Finished training\")\n",
    "```"
   ]
  },
  {
   "cell_type": "markdown",
   "id": "retained-fisher",
   "metadata": {},
   "source": [
    "Save the network as a file"
   ]
  },
  {
   "cell_type": "markdown",
   "id": "boolean-action",
   "metadata": {},
   "source": [
    "```python\n",
    "SAVE_PATH = \"./cifar_net.pth\"\n",
    "torch.save(net.state_dict(), SAVE_PATH)\n",
    "```"
   ]
  },
  {
   "cell_type": "markdown",
   "id": "aging-listing",
   "metadata": {},
   "source": [
    "## Test the network"
   ]
  },
  {
   "cell_type": "code",
   "execution_count": 12,
   "id": "fundamental-refund",
   "metadata": {},
   "outputs": [
    {
     "name": "stdout",
     "output_type": "stream",
     "text": [
      "GroundTruth:  horse  frog   cat   dog\n"
     ]
    },
    {
     "data": {
      "image/png": "[encoded data removed]",
      "text/plain": [
       "<Figure size 432x288 with 1 Axes>"
      ]
     },
     "metadata": {
      "needs_background": "light"
     },
     "output_type": "display_data"
    }
   ],
   "source": [
    "dataiter = iter(testloader)\n",
    "images, labels = dataiter.next()\n",
    "\n",
    "# print images\n",
    "plt.imshow(\n",
    "    torchvision.utils.make_grid(images / 2 + .5)\n",
    "    .numpy().transpose(1,2,0)\n",
    ")\n",
    "\n",
    "print('GroundTruth: ', ' '.join('%5s' % classes[labels[j]] for j in range(4)))"
   ]
  },
  {
   "cell_type": "markdown",
   "id": "thorough-freight",
   "metadata": {},
   "source": [
    "load the model"
   ]
  },
  {
   "cell_type": "code",
   "execution_count": 14,
   "id": "careful-medication",
   "metadata": {},
   "outputs": [
    {
     "data": {
      "text/plain": [
       "<All keys matched successfully>"
      ]
     },
     "execution_count": 14,
     "metadata": {},
     "output_type": "execute_result"
    }
   ],
   "source": [
    "net = Net()\n",
    "net.load_state_dict(torch.load(\"./cifar_net.pth\"))"
   ]
  },
  {
   "cell_type": "markdown",
   "id": "innovative-monaco",
   "metadata": {},
   "source": [
    "validate inference on a minibatch"
   ]
  },
  {
   "cell_type": "code",
   "execution_count": 17,
   "id": "growing-walker",
   "metadata": {},
   "outputs": [
    {
     "name": "stdout",
     "output_type": "stream",
     "text": [
      "Predicted:  horse frog cat bird\n"
     ]
    }
   ],
   "source": [
    "outputs = net(images)\n",
    "\n",
    "_, predicted = torch.max(outputs, 1)\n",
    "print(\"Predicted: \", \" \".join(classes[predicted[j]] for j in range(4)))"
   ]
  },
  {
   "cell_type": "markdown",
   "id": "closing-improvement",
   "metadata": {},
   "source": [
    "**validation on whole validation set**"
   ]
  },
  {
   "cell_type": "code",
   "execution_count": 25,
   "id": "lonely-nigeria",
   "metadata": {},
   "outputs": [
    {
     "name": "stdout",
     "output_type": "stream",
     "text": [
      "validation accuracy:  0.628\n"
     ]
    }
   ],
   "source": [
    "correct = 0\n",
    "total = 0\n",
    "with torch.no_grad():\n",
    "    for data in testloader:\n",
    "        images, labels = data\n",
    "        _, predicted = torch.max(net(images), 1)\n",
    "        \n",
    "        total += labels.size(0)\n",
    "        correct += (predicted == labels).sum().item()\n",
    "\n",
    "print(f\"validation accuracy: {correct / total: .3f}\")"
   ]
  },
  {
   "cell_type": "code",
   "execution_count": 30,
   "id": "polished-specification",
   "metadata": {},
   "outputs": [
    {
     "data": {
      "text/plain": [
       "tensor([ True,  True,  True, False])"
      ]
     },
     "execution_count": 30,
     "metadata": {},
     "output_type": "execute_result"
    }
   ],
   "source": [
    "(predicted == labels).squeeze()"
   ]
  },
  {
   "cell_type": "code",
   "execution_count": 38,
   "id": "beneficial-november",
   "metadata": {},
   "outputs": [
    {
     "name": "stdout",
     "output_type": "stream",
     "text": [
      "Accuracy of plane :  64.6 %\n",
      "Accuracy of   car :  80.8 %\n",
      "Accuracy of  bird :  48.0 %\n",
      "Accuracy of   cat :  52.5 %\n",
      "Accuracy of  deer :  58.8 %\n",
      "Accuracy of   dog :  31.4 %\n",
      "Accuracy of  frog :  77.6 %\n",
      "Accuracy of horse :  67.7 %\n",
      "Accuracy of  ship :  80.5 %\n",
      "Accuracy of truck :  66.0 %\n"
     ]
    }
   ],
   "source": [
    "class_correct = [0.] * 10\n",
    "class_total = [0.] * 10\n",
    "\n",
    "with torch.no_grad():  # no gradient collection\n",
    "    for data in testloader:\n",
    "        images, labels = data\n",
    "        outputs = net(images)\n",
    "        \n",
    "        _, predicted = torch.max(outputs, 1)\n",
    "        c = predicted == labels\n",
    "        \n",
    "        for i in range(testloader.batch_size):\n",
    "            label = labels[i]\n",
    "            class_correct[label] += c[i].item()\n",
    "            class_total[label] += 1\n",
    "\n",
    "\n",
    "for i in range(10):\n",
    "    print(f'Accuracy of {classes[i]: >5} : {class_correct[i]/class_total[i]*100: .1f} %')"
   ]
  },
  {
   "cell_type": "markdown",
   "id": "solid-pathology",
   "metadata": {},
   "source": [
    "## Run on CUDA GPU"
   ]
  },
  {
   "cell_type": "markdown",
   "id": "annual-freeze",
   "metadata": {},
   "source": [
    "```python\n",
    "device = torch.device(\"cuda:0\" if torch.cuda.is_available() else \"cpu\")\n",
    "\n",
    "# Assuming that we are on a CUDA machine, this should print a CUDA device:\n",
    "print(device)\n",
    "\n",
    "# Then these methods will recursively go over all modules and convert their parameters and buffers to CUDA tensors:\n",
    "net.to(device)\n",
    "\n",
    "# Remember that you will have to send the inputs and targets at every step to the GPU too:\n",
    "inputs, labels = data[0].to(device), data[1].to(device)\n",
    "```"
   ]
  },
  {
   "cell_type": "markdown",
   "id": "ready-apple",
   "metadata": {},
   "source": [
    "$\\square$"
   ]
  },
  {
   "cell_type": "code",
   "execution_count": null,
   "id": "seventh-dairy",
   "metadata": {},
   "outputs": [],
   "source": []
  }
 ],
 "metadata": {
  "kernelspec": {
   "display_name": "pytorch_x86",
   "language": "python",
   "name": "pytorch_x86"
  },
  "language_info": {
   "codemirror_mode": {
    "name": "ipython",
    "version": 3
   },
   "file_extension": ".py",
   "mimetype": "text/x-python",
   "name": "python",
   "nbconvert_exporter": "python",
   "pygments_lexer": "ipython3",
   "version": "3.8.6"
  },
  "toc": {
   "base_numbering": 1,
   "nav_menu": {},
   "number_sections": true,
   "sideBar": true,
   "skip_h1_title": false,
   "title_cell": "Table of Contents",
   "title_sidebar": "Contents",
   "toc_cell": true,
   "toc_position": {
    "height": "calc(100% - 180px)",
    "left": "10px",
    "top": "150px",
    "width": "165px"
   },
   "toc_section_display": false,
   "toc_window_display": false
  }
 },
 "nbformat": 4,
 "nbformat_minor": 5
}
