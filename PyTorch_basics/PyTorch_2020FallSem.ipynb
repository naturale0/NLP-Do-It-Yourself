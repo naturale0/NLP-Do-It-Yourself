{
 "cells": [
  {
   "cell_type": "markdown",
   "metadata": {
    "toc": true
   },
   "source": [
    "<h1>Table of Contents<span class=\"tocSkip\"></span></h1>\n",
    "<div class=\"toc\"><ul class=\"toc-item\"><li><span><a href=\"#1.-Pytorch-Basics\" data-toc-modified-id=\"1.-Pytorch-Basics-1\">1. Pytorch Basics</a></span><ul class=\"toc-item\"><li><ul class=\"toc-item\"><li><span><a href=\"#Importing-Necessary-Packages\" data-toc-modified-id=\"Importing-Necessary-Packages-1.0.1\">Importing Necessary Packages</a></span></li><li><span><a href=\"#Creating-Tensors\" data-toc-modified-id=\"Creating-Tensors-1.0.2\">Creating Tensors</a></span></li><li><span><a href=\"#Operations-with-Tensors\" data-toc-modified-id=\"Operations-with-Tensors-1.0.3\">Operations with Tensors</a></span></li><li><span><a href=\"#Reshaping-Tensors\" data-toc-modified-id=\"Reshaping-Tensors-1.0.4\">Reshaping Tensors</a></span></li></ul></li></ul></li><li><span><a href=\"#2.-Autograd\" data-toc-modified-id=\"2.-Autograd-2\">2. Autograd</a></span><ul class=\"toc-item\"><li><span><a href=\"#2-1.-Example:-Linear-Regression\" data-toc-modified-id=\"2-1.-Example:-Linear-Regression-2.1\">2-1. Example: Linear Regression</a></span></li></ul></li><li><span><a href=\"#5.-Creating-Network-Components-in-Pytorch\" data-toc-modified-id=\"5.-Creating-Network-Components-in-Pytorch-3\">5. Creating Network Components in Pytorch</a></span><ul class=\"toc-item\"><li><ul class=\"toc-item\"><li><span><a href=\"#Example:-Logistic-Regression-Bag-of-Words-classifier\" data-toc-modified-id=\"Example:-Logistic-Regression-Bag-of-Words-classifier-3.0.1\">Example: Logistic Regression Bag-of-Words classifier</a></span></li></ul></li></ul></li></ul></div>"
   ]
  },
  {
   "cell_type": "markdown",
   "metadata": {},
   "source": [
    "# 1. Pytorch Basics"
   ]
  },
  {
   "cell_type": "markdown",
   "metadata": {},
   "source": [
    "### Importing Necessary Packages"
   ]
  },
  {
   "cell_type": "code",
   "execution_count": 1,
   "metadata": {},
   "outputs": [
    {
     "data": {
      "text/plain": [
       "<torch._C.Generator at 0x1072edb30>"
      ]
     },
     "execution_count": 1,
     "metadata": {},
     "output_type": "execute_result"
    }
   ],
   "source": [
    "# torch가 설치되어 있지 않다면\n",
    "# !pip install torch\n",
    "# !pip3 install torch\n",
    "\n",
    "import torch\n",
    "import torch.autograd as autograd\n",
    "import torch.nn as nn\n",
    "import torch.nn.functional as F\n",
    "import torch.optim as optim\n",
    "\n",
    "torch.manual_seed(1)"
   ]
  },
  {
   "cell_type": "markdown",
   "metadata": {},
   "source": [
    "### Creating Tensors\n",
    "Tensors can be created from Python lists with the torch.Tensor() function."
   ]
  },
  {
   "cell_type": "code",
   "execution_count": 2,
   "metadata": {},
   "outputs": [
    {
     "name": "stdout",
     "output_type": "stream",
     "text": [
      "tensor([1., 2., 3.])\n",
      "tensor([[1., 2., 3.],\n",
      "        [4., 5., 6.]])\n",
      "tensor([[[1., 2.],\n",
      "         [3., 4.]],\n",
      "\n",
      "        [[5., 6.],\n",
      "         [7., 8.]]])\n"
     ]
    }
   ],
   "source": [
    "# Create a torch.Tensor object with the given data.  It is a 1D vector\n",
    "V_data = [1., 2., 3.]\n",
    "V = torch.Tensor(V_data)\n",
    "print (V)\n",
    "\n",
    "# Creates a matrix\n",
    "M_data = [[1., 2., 3.], [4., 5., 6]]\n",
    "M = torch.Tensor(M_data)\n",
    "print (M)\n",
    "\n",
    "# Create a 3D tensor of size 2x2x2.\n",
    "T_data = [[[1.,2.], [3.,4.]],\n",
    "          [[5.,6.], [7.,8.]]]\n",
    "T = torch.Tensor(T_data)\n",
    "print (T)"
   ]
  },
  {
   "cell_type": "markdown",
   "metadata": {},
   "source": [
    "What is a 3D tensor anyway?\n",
    "Think about it like this.\n",
    "If you have a vector, indexing into the vector gives you a scalar.  If you have a matrix, indexing into the matrix gives you a vector.  If you have a 3D tensor, then indexing into the tensor gives you a matrix!\n",
    "\n",
    "A note on terminology: when I say \"tensor\" in this tutorial, it refers to any torch.Tensor object.  Vectors and matrices are special cases of torch.Tensors, where their dimension is 1 and 2 respectively.  When I am talking about 3D tensors, I will explicitly use the term \"3D tensor\"."
   ]
  },
  {
   "cell_type": "code",
   "execution_count": 3,
   "metadata": {},
   "outputs": [
    {
     "name": "stdout",
     "output_type": "stream",
     "text": [
      "tensor(1.)\n",
      "tensor([1., 2., 3.])\n",
      "tensor([[1., 2.],\n",
      "        [3., 4.]])\n"
     ]
    }
   ],
   "source": [
    "# Index into V and get a scalar\n",
    "print (V[0])\n",
    "\n",
    "# Index into M and get a vector\n",
    "print (M[0])\n",
    "\n",
    "# Index into T and get a matrix\n",
    "print (T[0])"
   ]
  },
  {
   "cell_type": "markdown",
   "metadata": {},
   "source": [
    "You can also create tensors of other datatypes.  The default, as you can see, is Float.\n",
    "To create a tensor of integer types, try torch.LongTensor().  Check the documentation for more data types, but Float and Long will be the most common."
   ]
  },
  {
   "cell_type": "markdown",
   "metadata": {},
   "source": [
    "You can create a tensor with random data and the supplied dimensionality with torch.randn()"
   ]
  },
  {
   "cell_type": "code",
   "execution_count": 4,
   "metadata": {},
   "outputs": [
    {
     "name": "stdout",
     "output_type": "stream",
     "text": [
      "tensor([[[-1.5256, -0.7502, -0.6540, -1.6095, -0.1002],\n",
      "         [-0.6092, -0.9798, -1.6091, -0.7121,  0.3037],\n",
      "         [-0.7773, -0.2515, -0.2223,  1.6871,  0.2284],\n",
      "         [ 0.4676, -0.6970, -1.1608,  0.6995,  0.1991]],\n",
      "\n",
      "        [[ 0.8657,  0.2444, -0.6629,  0.8073,  1.1017],\n",
      "         [-0.1759, -2.2456, -1.4465,  0.0612, -0.6177],\n",
      "         [-0.7981, -0.1316,  1.8793, -0.0721,  0.1578],\n",
      "         [-0.7735,  0.1991,  0.0457,  0.1530, -0.4757]],\n",
      "\n",
      "        [[-0.1110,  0.2927, -0.1578, -0.0288,  0.4533],\n",
      "         [ 1.1422,  0.2486, -1.7754, -0.0255, -1.0233],\n",
      "         [-0.5962, -1.0055,  0.4285,  1.4761, -1.7869],\n",
      "         [ 1.6103, -0.7040, -0.1853, -0.9962, -0.8313]]])\n",
      "tensor([[1., 1.]])\n",
      "tensor([[0., 0.],\n",
      "        [0., 0.]])\n"
     ]
    }
   ],
   "source": [
    "x = torch.randn((3, 4, 5))\n",
    "print (x)\n",
    "\n",
    "y = torch.ones((1, 2))\n",
    "print (y)\n",
    "\n",
    "z = torch.zeros((2, 2))\n",
    "print (z)"
   ]
  },
  {
   "cell_type": "markdown",
   "metadata": {},
   "source": [
    "### Operations with Tensors"
   ]
  },
  {
   "cell_type": "code",
   "execution_count": 5,
   "metadata": {},
   "outputs": [
    {
     "name": "stdout",
     "output_type": "stream",
     "text": [
      "tensor([5., 7., 9.])\n"
     ]
    }
   ],
   "source": [
    "x = torch.Tensor([ 1., 2., 3. ])\n",
    "y = torch.Tensor([ 4., 5., 6. ])\n",
    "z = x + y\n",
    "print (z)"
   ]
  },
  {
   "cell_type": "markdown",
   "metadata": {},
   "source": [
    "See [the documentation](http://pytorch.org/docs/torch.html) for a complete list of the massive number of operations available to you.  They expand beyond just mathematical operations.\n",
    "\n",
    "One helpful operation that we will make use of later is concatenation."
   ]
  },
  {
   "cell_type": "code",
   "execution_count": 6,
   "metadata": {},
   "outputs": [
    {
     "name": "stdout",
     "output_type": "stream",
     "text": [
      "tensor([[-0.8029,  0.2366,  0.2857,  0.6898, -0.6331],\n",
      "        [ 0.8795, -0.6842,  0.4533,  0.2912, -0.8317],\n",
      "        [-0.5525,  0.6355, -0.3968, -0.6571, -1.6428],\n",
      "        [ 0.9803, -0.0421, -0.8206,  0.3133, -1.1352],\n",
      "        [ 0.3773, -0.2824, -2.5667, -1.4303,  0.5009]])\n",
      "tensor([[ 0.5438, -0.4057,  1.1341, -0.1473,  0.6272,  1.0935,  0.0939,  1.2381],\n",
      "        [-1.1115,  0.3501, -0.7703, -1.3459,  0.5119, -0.6933, -0.1668, -0.9999]])\n"
     ]
    }
   ],
   "source": [
    "# By default, it concatenates along the first axis (concatenates rows)\n",
    "x_1 = torch.randn(2, 5)\n",
    "y_1 = torch.randn(3, 5)\n",
    "z_1 = torch.cat([x_1, y_1])\n",
    "print (z_1)\n",
    "\n",
    "# Concatenate columns:\n",
    "x_2 = torch.randn(2, 3)\n",
    "y_2 = torch.randn(2, 5)\n",
    "z_2 = torch.cat([x_2, y_2], 1) # second arg specifies which axis to concat along\n",
    "print (z_2)\n",
    "\n",
    "# If your tensors are not compatible, torch will complain.  Uncomment to see the error\n",
    "# torch.cat([x_1, x_2])"
   ]
  },
  {
   "cell_type": "markdown",
   "metadata": {},
   "source": [
    "### Reshaping Tensors\n",
    "Use the .view() method to reshape a tensor.\n",
    "This method receives heavy use, because many neural network components expect their inputs to have a certain shape.\n",
    "Often you will need to reshape before passing your data to the component."
   ]
  },
  {
   "cell_type": "code",
   "execution_count": 7,
   "metadata": {},
   "outputs": [
    {
     "name": "stdout",
     "output_type": "stream",
     "text": [
      "tensor([[[ 0.4175, -0.2127, -0.8400, -0.4200],\n",
      "         [-0.6240, -0.9773,  0.8748,  0.9873],\n",
      "         [-0.0594, -2.4919,  0.2423,  0.2883]],\n",
      "\n",
      "        [[-0.1095,  0.3126,  1.5038,  0.5038],\n",
      "         [ 0.6223, -0.4481, -0.2856,  0.3880],\n",
      "         [-1.1435, -0.6512, -0.1032,  0.6937]]])\n",
      "tensor([[ 0.4175, -0.2127, -0.8400, -0.4200, -0.6240, -0.9773,  0.8748,  0.9873,\n",
      "         -0.0594, -2.4919,  0.2423,  0.2883],\n",
      "        [-0.1095,  0.3126,  1.5038,  0.5038,  0.6223, -0.4481, -0.2856,  0.3880,\n",
      "         -1.1435, -0.6512, -0.1032,  0.6937]])\n",
      "tensor([[ 0.4175, -0.2127, -0.8400, -0.4200, -0.6240, -0.9773,  0.8748,  0.9873,\n",
      "         -0.0594, -2.4919,  0.2423,  0.2883],\n",
      "        [-0.1095,  0.3126,  1.5038,  0.5038,  0.6223, -0.4481, -0.2856,  0.3880,\n",
      "         -1.1435, -0.6512, -0.1032,  0.6937]])\n"
     ]
    }
   ],
   "source": [
    "x = torch.randn(2, 3, 4)\n",
    "print (x)\n",
    "print (x.view(2, 12)) # Reshape to 2 rows, 12 columns\n",
    "print (x.view(2, -1)) # Same as above.  If one of the dimensions is -1, its size can be inferred"
   ]
  },
  {
   "cell_type": "markdown",
   "metadata": {},
   "source": [
    "# 2. Autograd"
   ]
  },
  {
   "cell_type": "markdown",
   "metadata": {},
   "source": [
    "각 데이터에 대해\n",
    "- loss 계산 (predict value와 real value의 차이) - 이 때 forward()를 이용해 predict\n",
    "- loss.backward() 호출 (gradients 계산)\n",
    "- parameters update (learning rate 이용)\n",
    "- gradients 초기화 \n",
    "...가 반복된다."
   ]
  },
  {
   "cell_type": "code",
   "execution_count": 8,
   "metadata": {},
   "outputs": [
    {
     "name": "stdout",
     "output_type": "stream",
     "text": [
      "predict (before training) 4 tensor(4.)\n",
      "\tgrad:  1.0 2.0 tensor(-2.)\n",
      "\tgrad:  2.0 4.0 tensor(-7.8400)\n",
      "\tgrad:  3.0 6.0 tensor(-16.2288)\n",
      "progress: 0 tensor(7.3159)\n",
      "\tgrad:  1.0 2.0 tensor(-1.4786)\n",
      "\tgrad:  2.0 4.0 tensor(-5.7962)\n",
      "\tgrad:  3.0 6.0 tensor(-11.9981)\n",
      "progress: 1 tensor(3.9988)\n",
      "\tgrad:  1.0 2.0 tensor(-1.0932)\n",
      "\tgrad:  2.0 4.0 tensor(-4.2852)\n",
      "\tgrad:  3.0 6.0 tensor(-8.8704)\n",
      "progress: 2 tensor(2.1857)\n",
      "\tgrad:  1.0 2.0 tensor(-0.8082)\n",
      "\tgrad:  2.0 4.0 tensor(-3.1681)\n",
      "\tgrad:  3.0 6.0 tensor(-6.5580)\n",
      "progress: 3 tensor(1.1946)\n",
      "\tgrad:  1.0 2.0 tensor(-0.5975)\n",
      "\tgrad:  2.0 4.0 tensor(-2.3422)\n",
      "\tgrad:  3.0 6.0 tensor(-4.8484)\n",
      "progress: 4 tensor(0.6530)\n",
      "\tgrad:  1.0 2.0 tensor(-0.4417)\n",
      "\tgrad:  2.0 4.0 tensor(-1.7316)\n",
      "\tgrad:  3.0 6.0 tensor(-3.5845)\n",
      "progress: 5 tensor(0.3569)\n",
      "\tgrad:  1.0 2.0 tensor(-0.3266)\n",
      "\tgrad:  2.0 4.0 tensor(-1.2802)\n",
      "\tgrad:  3.0 6.0 tensor(-2.6500)\n",
      "progress: 6 tensor(0.1951)\n",
      "\tgrad:  1.0 2.0 tensor(-0.2414)\n",
      "\tgrad:  2.0 4.0 tensor(-0.9465)\n",
      "\tgrad:  3.0 6.0 tensor(-1.9592)\n",
      "progress: 7 tensor(0.1066)\n",
      "\tgrad:  1.0 2.0 tensor(-0.1785)\n",
      "\tgrad:  2.0 4.0 tensor(-0.6997)\n",
      "\tgrad:  3.0 6.0 tensor(-1.4485)\n",
      "progress: 8 tensor(0.0583)\n",
      "\tgrad:  1.0 2.0 tensor(-0.1320)\n",
      "\tgrad:  2.0 4.0 tensor(-0.5173)\n",
      "\tgrad:  3.0 6.0 tensor(-1.0709)\n",
      "progress: 9 tensor(0.0319)\n",
      "predict (after training) 4 tensor(7.8049)\n"
     ]
    }
   ],
   "source": [
    "import torch\n",
    "from torch.autograd import Variable\n",
    "\n",
    "x_data = [1.0, 2.0, 3.0]\n",
    "y_data = [2.0, 4.0, 6.0]\n",
    "\n",
    "w = Variable(torch.Tensor([1.0]),  requires_grad=True)  # Any random value\n",
    "\n",
    "# our model forward pass\n",
    "def forward(x):\n",
    "    return x * w\n",
    "\n",
    "# Loss function\n",
    "def loss(x, y):\n",
    "    y_pred = forward(x)\n",
    "    return (y_pred - y) * (y_pred - y)\n",
    "\n",
    "# Before training\n",
    "print(\"predict (before training)\",  4, forward(4).data[0])\n",
    "\n",
    "# Training loop\n",
    "for epoch in range(10):\n",
    "    for x_val, y_val in zip(x_data, y_data):\n",
    "        l = loss(x_val, y_val)\n",
    "        l.backward()\n",
    "        print(\"\\tgrad: \", x_val, y_val, w.grad.data[0])\n",
    "        w.data = w.data - 0.01 * w.grad.data\n",
    "        # Manually zero the gradients after updating weights\n",
    "        w.grad.data.zero_()\n",
    "\n",
    "    print(\"progress:\", epoch, l.data[0])\n",
    "\n",
    "# After training\n",
    "print(\"predict (after training)\",  4, forward(4).data[0])"
   ]
  },
  {
   "cell_type": "markdown",
   "metadata": {},
   "source": [
    "## 2-1. Example: Linear Regression"
   ]
  },
  {
   "cell_type": "code",
   "execution_count": 9,
   "metadata": {},
   "outputs": [],
   "source": [
    "from torch.autograd import Variable\n",
    "\n",
    "x_data = Variable(torch.Tensor([[1.0], [2.0], [3.0]]))\n",
    "y_data = Variable(torch.Tensor([[2.0], [4.0], [6.0]]))\n",
    "\n",
    "\n",
    "class Model(torch.nn.Module):\n",
    "\n",
    "    def __init__(self):\n",
    "        \"\"\"\n",
    "        In the constructor we instantiate two nn.Linear module\n",
    "        \"\"\"\n",
    "        super(Model, self).__init__()\n",
    "        self.linear = torch.nn.Linear(1, 1)  # One in and one out\n",
    "\n",
    "    def forward(self, x):\n",
    "        \"\"\"\n",
    "        In the forward function we accept a Variable of input data and we must return\n",
    "        a Variable of output data. We can use Modules defined in the constructor as\n",
    "        well as arbitrary operators on Variables.\n",
    "        \"\"\"\n",
    "        y_pred = self.linear(x)\n",
    "        return y_pred\n"
   ]
  },
  {
   "cell_type": "code",
   "execution_count": 10,
   "metadata": {},
   "outputs": [
    {
     "name": "stdout",
     "output_type": "stream",
     "text": [
      "0 tensor(60.4961)\n",
      "1 tensor(26.9313)\n",
      "2 tensor(11.9892)\n",
      "3 tensor(5.3375)\n",
      "4 tensor(2.3763)\n",
      "5 tensor(1.0580)\n",
      "6 tensor(0.4712)\n",
      "7 tensor(0.2099)\n",
      "8 tensor(0.0936)\n",
      "9 tensor(0.0418)\n",
      "10 tensor(0.0188)\n",
      "11 tensor(0.0085)\n",
      "12 tensor(0.0040)\n",
      "13 tensor(0.0019)\n",
      "14 tensor(0.0010)\n",
      "15 tensor(0.0006)\n",
      "16 tensor(0.0004)\n",
      "17 tensor(0.0003)\n",
      "18 tensor(0.0003)\n",
      "19 tensor(0.0003)\n",
      "20 tensor(0.0003)\n",
      "21 tensor(0.0003)\n",
      "22 tensor(0.0003)\n",
      "23 tensor(0.0002)\n",
      "24 tensor(0.0002)\n",
      "25 tensor(0.0002)\n",
      "26 tensor(0.0002)\n",
      "27 tensor(0.0002)\n",
      "28 tensor(0.0002)\n",
      "29 tensor(0.0002)\n",
      "30 tensor(0.0002)\n",
      "31 tensor(0.0002)\n",
      "32 tensor(0.0002)\n",
      "33 tensor(0.0002)\n",
      "34 tensor(0.0002)\n",
      "35 tensor(0.0002)\n",
      "36 tensor(0.0002)\n",
      "37 tensor(0.0002)\n",
      "38 tensor(0.0002)\n",
      "39 tensor(0.0002)\n",
      "40 tensor(0.0002)\n",
      "41 tensor(0.0002)\n",
      "42 tensor(0.0002)\n",
      "43 tensor(0.0002)\n",
      "44 tensor(0.0002)\n",
      "45 tensor(0.0002)\n",
      "46 tensor(0.0002)\n",
      "47 tensor(0.0002)\n",
      "48 tensor(0.0002)\n",
      "49 tensor(0.0002)\n",
      "50 tensor(0.0002)\n",
      "51 tensor(0.0002)\n",
      "52 tensor(0.0002)\n",
      "53 tensor(0.0002)\n",
      "54 tensor(0.0002)\n",
      "55 tensor(0.0002)\n",
      "56 tensor(0.0002)\n",
      "57 tensor(0.0002)\n",
      "58 tensor(0.0001)\n",
      "59 tensor(0.0001)\n",
      "60 tensor(0.0001)\n",
      "61 tensor(0.0001)\n",
      "62 tensor(0.0001)\n",
      "63 tensor(0.0001)\n",
      "64 tensor(0.0001)\n",
      "65 tensor(0.0001)\n",
      "66 tensor(0.0001)\n",
      "67 tensor(0.0001)\n",
      "68 tensor(0.0001)\n",
      "69 tensor(0.0001)\n",
      "70 tensor(0.0001)\n",
      "71 tensor(0.0001)\n",
      "72 tensor(0.0001)\n",
      "73 tensor(0.0001)\n",
      "74 tensor(0.0001)\n",
      "75 tensor(0.0001)\n",
      "76 tensor(0.0001)\n",
      "77 tensor(0.0001)\n",
      "78 tensor(0.0001)\n",
      "79 tensor(0.0001)\n",
      "80 tensor(0.0001)\n",
      "81 tensor(0.0001)\n",
      "82 tensor(0.0001)\n",
      "83 tensor(0.0001)\n",
      "84 tensor(0.0001)\n",
      "85 tensor(0.0001)\n",
      "86 tensor(9.9609e-05)\n",
      "87 tensor(9.8174e-05)\n",
      "88 tensor(9.6767e-05)\n",
      "89 tensor(9.5371e-05)\n",
      "90 tensor(9.4006e-05)\n",
      "91 tensor(9.2652e-05)\n",
      "92 tensor(9.1324e-05)\n",
      "93 tensor(9.0008e-05)\n",
      "94 tensor(8.8714e-05)\n",
      "95 tensor(8.7442e-05)\n",
      "96 tensor(8.6187e-05)\n",
      "97 tensor(8.4949e-05)\n",
      "98 tensor(8.3724e-05)\n",
      "99 tensor(8.2519e-05)\n",
      "100 tensor(8.1340e-05)\n",
      "101 tensor(8.0166e-05)\n",
      "102 tensor(7.9018e-05)\n",
      "103 tensor(7.7878e-05)\n",
      "104 tensor(7.6760e-05)\n",
      "105 tensor(7.5655e-05)\n",
      "106 tensor(7.4567e-05)\n",
      "107 tensor(7.3498e-05)\n",
      "108 tensor(7.2443e-05)\n",
      "109 tensor(7.1401e-05)\n",
      "110 tensor(7.0376e-05)\n",
      "111 tensor(6.9363e-05)\n",
      "112 tensor(6.8364e-05)\n",
      "113 tensor(6.7384e-05)\n",
      "114 tensor(6.6417e-05)\n",
      "115 tensor(6.5461e-05)\n",
      "116 tensor(6.4518e-05)\n",
      "117 tensor(6.3593e-05)\n",
      "118 tensor(6.2675e-05)\n",
      "119 tensor(6.1781e-05)\n",
      "120 tensor(6.0889e-05)\n",
      "121 tensor(6.0018e-05)\n",
      "122 tensor(5.9152e-05)\n",
      "123 tensor(5.8303e-05)\n",
      "124 tensor(5.7467e-05)\n",
      "125 tensor(5.6640e-05)\n",
      "126 tensor(5.5825e-05)\n",
      "127 tensor(5.5023e-05)\n",
      "128 tensor(5.4230e-05)\n",
      "129 tensor(5.3452e-05)\n",
      "130 tensor(5.2686e-05)\n",
      "131 tensor(5.1925e-05)\n",
      "132 tensor(5.1183e-05)\n",
      "133 tensor(5.0446e-05)\n",
      "134 tensor(4.9720e-05)\n",
      "135 tensor(4.9006e-05)\n",
      "136 tensor(4.8299e-05)\n",
      "137 tensor(4.7607e-05)\n",
      "138 tensor(4.6923e-05)\n",
      "139 tensor(4.6247e-05)\n",
      "140 tensor(4.5585e-05)\n",
      "141 tensor(4.4928e-05)\n",
      "142 tensor(4.4283e-05)\n",
      "143 tensor(4.3647e-05)\n",
      "144 tensor(4.3020e-05)\n",
      "145 tensor(4.2401e-05)\n",
      "146 tensor(4.1792e-05)\n",
      "147 tensor(4.1190e-05)\n",
      "148 tensor(4.0601e-05)\n",
      "149 tensor(4.0017e-05)\n",
      "150 tensor(3.9441e-05)\n",
      "151 tensor(3.8873e-05)\n",
      "152 tensor(3.8315e-05)\n",
      "153 tensor(3.7762e-05)\n",
      "154 tensor(3.7222e-05)\n",
      "155 tensor(3.6686e-05)\n",
      "156 tensor(3.6159e-05)\n",
      "157 tensor(3.5641e-05)\n",
      "158 tensor(3.5126e-05)\n",
      "159 tensor(3.4624e-05)\n",
      "160 tensor(3.4126e-05)\n",
      "161 tensor(3.3633e-05)\n",
      "162 tensor(3.3151e-05)\n",
      "163 tensor(3.2678e-05)\n",
      "164 tensor(3.2206e-05)\n",
      "165 tensor(3.1744e-05)\n",
      "166 tensor(3.1287e-05)\n",
      "167 tensor(3.0836e-05)\n",
      "168 tensor(3.0392e-05)\n",
      "169 tensor(2.9955e-05)\n",
      "170 tensor(2.9526e-05)\n",
      "171 tensor(2.9103e-05)\n",
      "172 tensor(2.8683e-05)\n",
      "173 tensor(2.8272e-05)\n",
      "174 tensor(2.7865e-05)\n",
      "175 tensor(2.7465e-05)\n",
      "176 tensor(2.7072e-05)\n",
      "177 tensor(2.6681e-05)\n",
      "178 tensor(2.6298e-05)\n",
      "179 tensor(2.5918e-05)\n",
      "180 tensor(2.5546e-05)\n",
      "181 tensor(2.5183e-05)\n",
      "182 tensor(2.4816e-05)\n",
      "183 tensor(2.4460e-05)\n",
      "184 tensor(2.4109e-05)\n",
      "185 tensor(2.3764e-05)\n",
      "186 tensor(2.3423e-05)\n",
      "187 tensor(2.3085e-05)\n",
      "188 tensor(2.2752e-05)\n",
      "189 tensor(2.2425e-05)\n",
      "190 tensor(2.2104e-05)\n",
      "191 tensor(2.1786e-05)\n",
      "192 tensor(2.1474e-05)\n",
      "193 tensor(2.1164e-05)\n",
      "194 tensor(2.0860e-05)\n",
      "195 tensor(2.0561e-05)\n",
      "196 tensor(2.0264e-05)\n",
      "197 tensor(1.9974e-05)\n",
      "198 tensor(1.9688e-05)\n",
      "199 tensor(1.9403e-05)\n",
      "200 tensor(1.9127e-05)\n",
      "201 tensor(1.8850e-05)\n",
      "202 tensor(1.8580e-05)\n",
      "203 tensor(1.8313e-05)\n",
      "204 tensor(1.8052e-05)\n",
      "205 tensor(1.7791e-05)\n",
      "206 tensor(1.7535e-05)\n",
      "207 tensor(1.7281e-05)\n",
      "208 tensor(1.7035e-05)\n",
      "209 tensor(1.6790e-05)\n",
      "210 tensor(1.6549e-05)\n",
      "211 tensor(1.6310e-05)\n",
      "212 tensor(1.6078e-05)\n",
      "213 tensor(1.5844e-05)\n",
      "214 tensor(1.5618e-05)\n",
      "215 tensor(1.5394e-05)\n",
      "216 tensor(1.5170e-05)\n",
      "217 tensor(1.4952e-05)\n",
      "218 tensor(1.4738e-05)\n",
      "219 tensor(1.4527e-05)\n",
      "220 tensor(1.4319e-05)\n",
      "221 tensor(1.4111e-05)\n",
      "222 tensor(1.3909e-05)\n",
      "223 tensor(1.3710e-05)\n",
      "224 tensor(1.3514e-05)\n",
      "225 tensor(1.3319e-05)\n",
      "226 tensor(1.3127e-05)\n",
      "227 tensor(1.2938e-05)\n",
      "228 tensor(1.2751e-05)\n",
      "229 tensor(1.2569e-05)\n",
      "230 tensor(1.2387e-05)\n",
      "231 tensor(1.2211e-05)\n",
      "232 tensor(1.2036e-05)\n",
      "233 tensor(1.1861e-05)\n",
      "234 tensor(1.1691e-05)\n",
      "235 tensor(1.1522e-05)\n",
      "236 tensor(1.1358e-05)\n",
      "237 tensor(1.1193e-05)\n",
      "238 tensor(1.1033e-05)\n",
      "239 tensor(1.0874e-05)\n",
      "240 tensor(1.0719e-05)\n",
      "241 tensor(1.0564e-05)\n",
      "242 tensor(1.0412e-05)\n",
      "243 tensor(1.0263e-05)\n",
      "244 tensor(1.0117e-05)\n",
      "245 tensor(9.9696e-06)\n",
      "246 tensor(9.8279e-06)\n",
      "247 tensor(9.6866e-06)\n",
      "248 tensor(9.5463e-06)\n",
      "249 tensor(9.4083e-06)\n",
      "250 tensor(9.2744e-06)\n",
      "251 tensor(9.1400e-06)\n",
      "252 tensor(9.0102e-06)\n",
      "253 tensor(8.8805e-06)\n",
      "254 tensor(8.7529e-06)\n",
      "255 tensor(8.6274e-06)\n",
      "256 tensor(8.5037e-06)\n",
      "257 tensor(8.3804e-06)\n",
      "258 tensor(8.2588e-06)\n",
      "259 tensor(8.1415e-06)\n",
      "260 tensor(8.0240e-06)\n",
      "261 tensor(7.9091e-06)\n",
      "262 tensor(7.7959e-06)\n",
      "263 tensor(7.6833e-06)\n",
      "264 tensor(7.5728e-06)\n",
      "265 tensor(7.4634e-06)\n",
      "266 tensor(7.3568e-06)\n",
      "267 tensor(7.2513e-06)\n",
      "268 tensor(7.1462e-06)\n",
      "269 tensor(7.0453e-06)\n",
      "270 tensor(6.9431e-06)\n",
      "271 tensor(6.8428e-06)\n",
      "272 tensor(6.7456e-06)\n",
      "273 tensor(6.6478e-06)\n",
      "274 tensor(6.5518e-06)\n",
      "275 tensor(6.4573e-06)\n",
      "276 tensor(6.3660e-06)\n",
      "277 tensor(6.2746e-06)\n",
      "278 tensor(6.1835e-06)\n",
      "279 tensor(6.0940e-06)\n",
      "280 tensor(6.0075e-06)\n",
      "281 tensor(5.9203e-06)\n",
      "282 tensor(5.8362e-06)\n",
      "283 tensor(5.7512e-06)\n",
      "284 tensor(5.6702e-06)\n",
      "285 tensor(5.5878e-06)\n",
      "286 tensor(5.5083e-06)\n",
      "287 tensor(5.4289e-06)\n",
      "288 tensor(5.3503e-06)\n",
      "289 tensor(5.2743e-06)\n",
      "290 tensor(5.1975e-06)\n",
      "291 tensor(5.1226e-06)\n",
      "292 tensor(5.0499e-06)\n",
      "293 tensor(4.9770e-06)\n",
      "294 tensor(4.9056e-06)\n",
      "295 tensor(4.8346e-06)\n",
      "296 tensor(4.7652e-06)\n",
      "297 tensor(4.6962e-06)\n",
      "298 tensor(4.6286e-06)\n",
      "299 tensor(4.5626e-06)\n",
      "300 tensor(4.4968e-06)\n",
      "301 tensor(4.4326e-06)\n",
      "302 tensor(4.3687e-06)\n",
      "303 tensor(4.3056e-06)\n",
      "304 tensor(4.2435e-06)\n",
      "305 tensor(4.1837e-06)\n",
      "306 tensor(4.1225e-06)\n",
      "307 tensor(4.0635e-06)\n",
      "308 tensor(4.0061e-06)\n",
      "309 tensor(3.9479e-06)\n",
      "310 tensor(3.8912e-06)\n",
      "311 tensor(3.8356e-06)\n",
      "312 tensor(3.7798e-06)\n",
      "313 tensor(3.7260e-06)\n",
      "314 tensor(3.6715e-06)\n",
      "315 tensor(3.6193e-06)\n",
      "316 tensor(3.5675e-06)\n",
      "317 tensor(3.5166e-06)\n",
      "318 tensor(3.4655e-06)\n",
      "319 tensor(3.4156e-06)\n",
      "320 tensor(3.3668e-06)\n",
      "321 tensor(3.3184e-06)\n",
      "322 tensor(3.2711e-06)\n",
      "323 tensor(3.2232e-06)\n",
      "324 tensor(3.1775e-06)\n",
      "325 tensor(3.1319e-06)\n",
      "326 tensor(3.0874e-06)\n",
      "327 tensor(3.0417e-06)\n",
      "328 tensor(2.9982e-06)\n",
      "329 tensor(2.9546e-06)\n",
      "330 tensor(2.9127e-06)\n",
      "331 tensor(2.8707e-06)\n",
      "332 tensor(2.8290e-06)\n",
      "333 tensor(2.7897e-06)\n",
      "334 tensor(2.7490e-06)\n",
      "335 tensor(2.7097e-06)\n",
      "336 tensor(2.6704e-06)\n",
      "337 tensor(2.6321e-06)\n",
      "338 tensor(2.5943e-06)\n",
      "339 tensor(2.5565e-06)\n",
      "340 tensor(2.5207e-06)\n",
      "341 tensor(2.4843e-06)\n",
      "342 tensor(2.4489e-06)\n",
      "343 tensor(2.4135e-06)\n",
      "344 tensor(2.3786e-06)\n",
      "345 tensor(2.3444e-06)\n",
      "346 tensor(2.3107e-06)\n",
      "347 tensor(2.2778e-06)\n",
      "348 tensor(2.2450e-06)\n",
      "349 tensor(2.2119e-06)\n",
      "350 tensor(2.1804e-06)\n",
      "351 tensor(2.1490e-06)\n",
      "352 tensor(2.1186e-06)\n",
      "353 tensor(2.0884e-06)\n",
      "354 tensor(2.0577e-06)\n",
      "355 tensor(2.0285e-06)\n",
      "356 tensor(1.9996e-06)\n",
      "357 tensor(1.9703e-06)\n",
      "358 tensor(1.9424e-06)\n",
      "359 tensor(1.9146e-06)\n",
      "360 tensor(1.8870e-06)\n",
      "361 tensor(1.8596e-06)\n",
      "362 tensor(1.8330e-06)\n",
      "363 tensor(1.8066e-06)\n",
      "364 tensor(1.7811e-06)\n",
      "365 tensor(1.7550e-06)\n",
      "366 tensor(1.7293e-06)\n",
      "367 tensor(1.7054e-06)\n",
      "368 tensor(1.6804e-06)\n",
      "369 tensor(1.6564e-06)\n",
      "370 tensor(1.6324e-06)\n",
      "371 tensor(1.6092e-06)\n",
      "372 tensor(1.5861e-06)\n",
      "373 tensor(1.5631e-06)\n",
      "374 tensor(1.5404e-06)\n",
      "375 tensor(1.5188e-06)\n",
      "376 tensor(1.4971e-06)\n",
      "377 tensor(1.4749e-06)\n",
      "378 tensor(1.4537e-06)\n",
      "379 tensor(1.4329e-06)\n",
      "380 tensor(1.4126e-06)\n",
      "381 tensor(1.3921e-06)\n",
      "382 tensor(1.3717e-06)\n",
      "383 tensor(1.3519e-06)\n",
      "384 tensor(1.3327e-06)\n",
      "385 tensor(1.3142e-06)\n",
      "386 tensor(1.2949e-06)\n",
      "387 tensor(1.2762e-06)\n",
      "388 tensor(1.2581e-06)\n",
      "389 tensor(1.2397e-06)\n",
      "390 tensor(1.2223e-06)\n",
      "391 tensor(1.2042e-06)\n",
      "392 tensor(1.1874e-06)\n",
      "393 tensor(1.1706e-06)\n",
      "394 tensor(1.1537e-06)\n",
      "395 tensor(1.1370e-06)\n",
      "396 tensor(1.1208e-06)\n",
      "397 tensor(1.1043e-06)\n",
      "398 tensor(1.0888e-06)\n",
      "399 tensor(1.0730e-06)\n",
      "400 tensor(1.0577e-06)\n",
      "401 tensor(1.0418e-06)\n",
      "402 tensor(1.0276e-06)\n",
      "403 tensor(1.0123e-06)\n",
      "404 tensor(9.9786e-07)\n",
      "405 tensor(9.8397e-07)\n",
      "406 tensor(9.6949e-07)\n",
      "407 tensor(9.5579e-07)\n",
      "408 tensor(9.4220e-07)\n",
      "409 tensor(9.2786e-07)\n",
      "410 tensor(9.1464e-07)\n",
      "411 tensor(9.0172e-07)\n",
      "412 tensor(8.8852e-07)\n",
      "413 tensor(8.7585e-07)\n",
      "414 tensor(8.6338e-07)\n",
      "415 tensor(8.5084e-07)\n",
      "416 tensor(8.3849e-07)\n",
      "417 tensor(8.2671e-07)\n",
      "418 tensor(8.1481e-07)\n",
      "419 tensor(8.0304e-07)\n",
      "420 tensor(7.9188e-07)\n",
      "421 tensor(7.8023e-07)\n",
      "422 tensor(7.6922e-07)\n",
      "423 tensor(7.5825e-07)\n",
      "424 tensor(7.4685e-07)\n",
      "425 tensor(7.3643e-07)\n",
      "426 tensor(7.2594e-07)\n",
      "427 tensor(7.1528e-07)\n",
      "428 tensor(7.0509e-07)\n",
      "429 tensor(6.9482e-07)\n",
      "430 tensor(6.8473e-07)\n",
      "431 tensor(6.7500e-07)\n",
      "432 tensor(6.6519e-07)\n",
      "433 tensor(6.5555e-07)\n",
      "434 tensor(6.4650e-07)\n",
      "435 tensor(6.3709e-07)\n",
      "436 tensor(6.2816e-07)\n",
      "437 tensor(6.1880e-07)\n",
      "438 tensor(6.0995e-07)\n",
      "439 tensor(6.0118e-07)\n",
      "440 tensor(5.9282e-07)\n",
      "441 tensor(5.8417e-07)\n",
      "442 tensor(5.7580e-07)\n",
      "443 tensor(5.6727e-07)\n",
      "444 tensor(5.5889e-07)\n",
      "445 tensor(5.5135e-07)\n",
      "446 tensor(5.4335e-07)\n",
      "447 tensor(5.3537e-07)\n",
      "448 tensor(5.2774e-07)\n",
      "449 tensor(5.2020e-07)\n",
      "450 tensor(5.1272e-07)\n",
      "451 tensor(5.0530e-07)\n",
      "452 tensor(4.9821e-07)\n",
      "453 tensor(4.9085e-07)\n",
      "454 tensor(4.8387e-07)\n",
      "455 tensor(4.7694e-07)\n",
      "456 tensor(4.7006e-07)\n",
      "457 tensor(4.6322e-07)\n",
      "458 tensor(4.5683e-07)\n",
      "459 tensor(4.4979e-07)\n",
      "460 tensor(4.4369e-07)\n",
      "461 tensor(4.3732e-07)\n",
      "462 tensor(4.3100e-07)\n",
      "463 tensor(4.2484e-07)\n",
      "464 tensor(4.1879e-07)\n",
      "465 tensor(4.1268e-07)\n",
      "466 tensor(4.0654e-07)\n",
      "467 tensor(4.0111e-07)\n",
      "468 tensor(3.9506e-07)\n",
      "469 tensor(3.8930e-07)\n",
      "470 tensor(3.8392e-07)\n",
      "471 tensor(3.7824e-07)\n",
      "472 tensor(3.7297e-07)\n",
      "473 tensor(3.6766e-07)\n",
      "474 tensor(3.6246e-07)\n",
      "475 tensor(3.5723e-07)\n",
      "476 tensor(3.5204e-07)\n",
      "477 tensor(3.4685e-07)\n",
      "478 tensor(3.4207e-07)\n",
      "479 tensor(3.3695e-07)\n",
      "480 tensor(3.3218e-07)\n",
      "481 tensor(3.2747e-07)\n",
      "482 tensor(3.2246e-07)\n"
     ]
    },
    {
     "name": "stdout",
     "output_type": "stream",
     "text": [
      "483 tensor(3.1786e-07)\n",
      "484 tensor(3.1342e-07)\n",
      "485 tensor(3.0884e-07)\n",
      "486 tensor(3.0450e-07)\n",
      "487 tensor(3.0018e-07)\n",
      "488 tensor(2.9567e-07)\n",
      "489 tensor(2.9173e-07)\n",
      "490 tensor(2.8723e-07)\n",
      "491 tensor(2.8335e-07)\n",
      "492 tensor(2.7891e-07)\n",
      "493 tensor(2.7484e-07)\n",
      "494 tensor(2.7116e-07)\n",
      "495 tensor(2.6715e-07)\n",
      "496 tensor(2.6329e-07)\n",
      "497 tensor(2.5978e-07)\n",
      "498 tensor(2.5606e-07)\n",
      "499 tensor(2.5230e-07)\n",
      "predict (after training) 4 tensor(7.9994)\n"
     ]
    },
    {
     "name": "stderr",
     "output_type": "stream",
     "text": [
      "/Users/PSH/miniforge3/envs/pytorch/lib/python3.9/site-packages/torch/nn/_reduction.py:44: UserWarning: size_average and reduce args will be deprecated, please use reduction='sum' instead.\n",
      "  warnings.warn(warning.format(ret))\n"
     ]
    }
   ],
   "source": [
    "# our model\n",
    "model = Model()\n",
    "\n",
    "\n",
    "# Construct our loss function and an Optimizer. The call to model.parameters()\n",
    "# in the SGD constructor will contain the learnable parameters of the two\n",
    "# nn.Linear modules which are members of the model.\n",
    "criterion = torch.nn.MSELoss(size_average=False)\n",
    "optimizer = torch.optim.SGD(model.parameters(), lr=0.01)\n",
    "\n",
    "# Training loop\n",
    "for epoch in range(500):\n",
    "    # Forward pass: Compute predicted y by passing x to the model\n",
    "    y_pred = model(x_data)\n",
    "\n",
    "    # Compute and print loss\n",
    "    loss = criterion(y_pred, y_data)\n",
    "    print(epoch, loss.data)\n",
    "\n",
    "    # Zero gradients, perform a backward pass, and update the weights.\n",
    "    optimizer.zero_grad()\n",
    "    loss.backward()\n",
    "    optimizer.step()\n",
    "\n",
    "\n",
    "# After training\n",
    "hour_var = Variable(torch.Tensor([[4.0]]))\n",
    "y_pred = model(hour_var)\n",
    "print(\"predict (after training)\",  4, model(hour_var).data[0][0])"
   ]
  },
  {
   "cell_type": "markdown",
   "metadata": {},
   "source": [
    "# 5. Creating Network Components in Pytorch\n",
    "Before we move on to our focus on NLP, lets do an annotated example of building a network in Pytorch using only affine maps and non-linearities.  We will also see how to compute a loss function, using Pytorch's built in negative log likelihood, and update parameters by backpropagation.\n",
    "\n",
    "All network components should inherit from nn.Module and override the forward() method.  That is about it, as far as the boilerplate is concerned.  Inheriting from nn.Module provides functionality to your component.  For example, it makes it keep track of its trainable parameters, you can swap it between CPU and GPU with the .cuda() or .cpu() functions, etc.\n",
    "\n",
    "Let's write an annotated example of a network that takes in a sparse bag-of-words representation and outputs a probability distribution over two labels: \"English\" and \"Spanish\".  This model is just logistic regression."
   ]
  },
  {
   "cell_type": "markdown",
   "metadata": {},
   "source": [
    "### Example: Logistic Regression Bag-of-Words classifier\n",
    "Our model will map a sparse BOW representation to log probabilities over labels.  We assign each word in the vocab an index.  For example, say our entire vocab is two words \"hello\" and \"world\", with indices 0 and 1 respectively.\n",
    "The BoW vector for the sentence \"hello hello hello hello\" is\n",
    "$$ \\left[ 4, 0 \\right] $$\n",
    "For \"hello world world hello\", it is \n",
    "$$ \\left[ 2, 2 \\right] $$\n",
    "etc.\n",
    "In general, it is\n",
    "$$ \\left[ \\text{Count}(\\text{hello}), \\text{Count}(\\text{world}) \\right] $$\n",
    "\n",
    "Denote this BOW vector as $x$.\n",
    "The output of our network is:\n",
    "$$ \\log \\text{Softmax}(Ax + b) $$\n",
    "That is, we pass the input through an affine map and then do log softmax."
   ]
  },
  {
   "cell_type": "code",
   "execution_count": 12,
   "metadata": {},
   "outputs": [
    {
     "name": "stdout",
     "output_type": "stream",
     "text": [
      "{'me': 0, 'gusta': 1, 'comer': 2, 'en': 3, 'la': 4, 'cafeteria': 5, 'Give': 6, 'it': 7, 'to': 8, 'No': 9, 'creo': 10, 'que': 11, 'sea': 12, 'una': 13, 'buena': 14, 'idea': 15, 'is': 16, 'not': 17, 'a': 18, 'good': 19, 'get': 20, 'lost': 21, 'at': 22, 'Yo': 23, 'si': 24, 'on': 25}\n"
     ]
    }
   ],
   "source": [
    "data = [ (\"me gusta comer en la cafeteria\".split(), \"SPANISH\"),\n",
    "         (\"Give it to me\".split(), \"ENGLISH\"),\n",
    "         (\"No creo que sea una buena idea\".split(), \"SPANISH\"),\n",
    "         (\"No it is not a good idea to get lost at sea\".split(), \"ENGLISH\") ]\n",
    "\n",
    "test_data = [ (\"Yo creo que si\".split(), \"SPANISH\"),\n",
    "              (\"it is lost on me\".split(), \"ENGLISH\")]\n",
    "\n",
    "# word_to_ix maps each word in the vocab to a unique integer, which will be its\n",
    "# index into the Bag of words vector\n",
    "word_to_ix = {}\n",
    "for sent, _ in data + test_data:\n",
    "    for word in sent:\n",
    "        if word not in word_to_ix:\n",
    "            word_to_ix[word] = len(word_to_ix)\n",
    "print(word_to_ix)\n",
    "\n",
    "VOCAB_SIZE = len(word_to_ix)\n",
    "NUM_LABELS = 2"
   ]
  },
  {
   "cell_type": "code",
   "execution_count": 13,
   "metadata": {},
   "outputs": [],
   "source": [
    "class BoWClassifier(nn.Module): # inheriting from nn.Module!\n",
    "    \n",
    "    def __init__(self, num_labels, vocab_size):\n",
    "        # calls the init function of nn.Module.  Dont get confused by syntax,\n",
    "        # just always do it in an nn.Module\n",
    "        super(BoWClassifier, self).__init__()\n",
    "        \n",
    "        # Define the parameters that you will need.  In this case, we need A and b,\n",
    "        # the parameters of the affine mapping.\n",
    "        # Torch defines nn.Linear(), which provides the affine map.\n",
    "        # Make sure you understand why the input dimension is vocab_size\n",
    "        # and the output is num_labels!\n",
    "        self.linear = nn.Linear(vocab_size, num_labels)\n",
    "        \n",
    "        # NOTE! The non-linearity log softmax does not have parameters! So we don't need\n",
    "        # to worry about that here\n",
    "        \n",
    "    def forward(self, bow_vec):\n",
    "        # Pass the input through the linear layer,\n",
    "        # then pass that through log_softmax.\n",
    "        # Many non-linearities and other functions are in torch.nn.functional\n",
    "        return F.log_softmax(self.linear(bow_vec))"
   ]
  },
  {
   "cell_type": "code",
   "execution_count": 14,
   "metadata": {},
   "outputs": [],
   "source": [
    "def make_bow_vector(sentence, word_to_ix):\n",
    "    vec = torch.zeros(len(word_to_ix))\n",
    "    for word in sentence:\n",
    "        vec[word_to_ix[word]] += 1\n",
    "    return vec.view(1, -1)\n",
    "\n",
    "def make_target(label, label_to_ix):\n",
    "    return torch.LongTensor([label_to_ix[label]])"
   ]
  },
  {
   "cell_type": "code",
   "execution_count": 16,
   "metadata": {},
   "outputs": [
    {
     "name": "stdout",
     "output_type": "stream",
     "text": [
      "Parameter containing:\n",
      "tensor([[ 0.1674, -0.0761,  0.1181,  0.0058, -0.0153, -0.0063,  0.0333,  0.0924,\n",
      "          0.0315,  0.0598, -0.1764,  0.1429,  0.1710,  0.1621,  0.1450, -0.1415,\n",
      "         -0.0727,  0.1729, -0.1494,  0.1779, -0.1542, -0.1381,  0.0959, -0.1409,\n",
      "         -0.0449,  0.1427],\n",
      "        [ 0.1553,  0.1855, -0.0398, -0.1524,  0.1931, -0.0418, -0.0807,  0.0478,\n",
      "         -0.1371,  0.1289,  0.1229, -0.1556, -0.1611, -0.0172,  0.0824, -0.0057,\n",
      "         -0.0994,  0.0045, -0.1843, -0.1386, -0.1306,  0.1615,  0.1729, -0.0666,\n",
      "          0.0088,  0.0875]], requires_grad=True)\n",
      "Parameter containing:\n",
      "tensor([ 0.0235, -0.0982], requires_grad=True)\n"
     ]
    }
   ],
   "source": [
    "model = BoWClassifier(NUM_LABELS, VOCAB_SIZE)\n",
    "\n",
    "# the model knows its parameters.  The first output below is A, the second is b.\n",
    "# Whenever you assign a component to a class variable in the __init__ function of a module,\n",
    "# which was done with the line\n",
    "# self.linear = nn.Linear(...)\n",
    "# Then through some Python magic from the Pytorch devs, your module (in this case, BoWClassifier)\n",
    "# will store knowledge of the nn.Linear's parameters\n",
    "for param in model.parameters():\n",
    "    print(param)"
   ]
  },
  {
   "cell_type": "code",
   "execution_count": 17,
   "metadata": {},
   "outputs": [
    {
     "name": "stdout",
     "output_type": "stream",
     "text": [
      "tensor([[-0.6854, -0.7010]], grad_fn=<LogSoftmaxBackward>)\n"
     ]
    },
    {
     "name": "stderr",
     "output_type": "stream",
     "text": [
      "<ipython-input-13-e818e59483ec>:22: UserWarning: Implicit dimension choice for log_softmax has been deprecated. Change the call to include dim=X as an argument.\n",
      "  return F.log_softmax(self.linear(bow_vec))\n"
     ]
    }
   ],
   "source": [
    "# To run the model, pass in a BoW vector, but wrapped in an autograd.Variable\n",
    "sample = data[0]\n",
    "bow_vector = make_bow_vector(sample[0], word_to_ix)\n",
    "log_probs = model(autograd.Variable(bow_vector))\n",
    "print(log_probs)"
   ]
  },
  {
   "cell_type": "markdown",
   "metadata": {},
   "source": [
    "Which of the above values corresponds to the log probability of ENGLISH, and which to SPANISH?  We never defined it, but we need to if we want to train the thing."
   ]
  },
  {
   "cell_type": "code",
   "execution_count": 18,
   "metadata": {},
   "outputs": [],
   "source": [
    "label_to_ix = { \"SPANISH\": 0, \"ENGLISH\": 1 }"
   ]
  },
  {
   "cell_type": "markdown",
   "metadata": {},
   "source": [
    "So lets train!  To do this, we pass instances through to get log probabilities, compute a loss function, compute the gradient of the loss function, and then update the parameters with a gradient step.  Loss functions are provided by Torch in the nn package.  nn.NLLLoss() is the negative log likelihood loss we want.  It also defines optimization functions in torch.optim.  Here, we will just use SGD.\n",
    "\n",
    "Note that the *input* to NLLLoss is a vector of log probabilities, and a target label.  It doesn't compute the log probabilities for us.  This is why the last layer of our network is log softmax.\n",
    "The loss function nn.CrossEntropyLoss() is the same as NLLLoss(), except it does the log softmax for you."
   ]
  },
  {
   "cell_type": "code",
   "execution_count": 20,
   "metadata": {},
   "outputs": [
    {
     "name": "stdout",
     "output_type": "stream",
     "text": [
      "tensor([[-0.6967, -0.6896]], grad_fn=<LogSoftmaxBackward>)\n",
      "tensor([[-0.7130, -0.6737]], grad_fn=<LogSoftmaxBackward>)\n",
      "tensor([-0.1764,  0.1229], grad_fn=<SelectBackward>)\n"
     ]
    },
    {
     "name": "stderr",
     "output_type": "stream",
     "text": [
      "<ipython-input-13-e818e59483ec>:22: UserWarning: Implicit dimension choice for log_softmax has been deprecated. Change the call to include dim=X as an argument.\n",
      "  return F.log_softmax(self.linear(bow_vec))\n"
     ]
    }
   ],
   "source": [
    "# Run on test data before we train, just to see a before-and-after\n",
    "for instance, label in test_data:\n",
    "    bow_vec = autograd.Variable(make_bow_vector(instance, word_to_ix))\n",
    "    log_probs = model(bow_vec)\n",
    "    print(log_probs)\n",
    "print(next(model.parameters())[:,word_to_ix[\"creo\"]]) # Print the matrix column corresponding to \"creo\""
   ]
  },
  {
   "cell_type": "code",
   "execution_count": 22,
   "metadata": {},
   "outputs": [
    {
     "name": "stderr",
     "output_type": "stream",
     "text": [
      "<ipython-input-13-e818e59483ec>:22: UserWarning: Implicit dimension choice for log_softmax has been deprecated. Change the call to include dim=X as an argument.\n",
      "  return F.log_softmax(self.linear(bow_vec))\n"
     ]
    }
   ],
   "source": [
    "loss_function = nn.NLLLoss()\n",
    "optimizer = optim.SGD(model.parameters(), lr=0.1)\n",
    "\n",
    "# Usually you want to pass over the training data several times.\n",
    "# 100 is much bigger than on a real data set, but real datasets have more than\n",
    "# two instances.  Usually, somewhere between 5 and 30 epochs is reasonable.\n",
    "for epoch in range(100):\n",
    "    for instance, label in data:\n",
    "        # Step 1. Remember that Pytorch accumulates gradients.  We need to clear them out\n",
    "        # before each instance\n",
    "        model.zero_grad()\n",
    "    \n",
    "        # Step 2. Make our BOW vector and also we must wrap the target in a Variable\n",
    "        # as an integer.  For example, if the target is SPANISH, then we wrap the integer\n",
    "        # 0.  The loss function then knows that the 0th element of the log probabilities is\n",
    "        # the log probability corresponding to SPANISH\n",
    "        bow_vec = autograd.Variable(make_bow_vector(instance, word_to_ix))\n",
    "        target = autograd.Variable(make_target(label, label_to_ix))\n",
    "    \n",
    "        # Step 3. Run our forward pass.\n",
    "        log_probs = model(bow_vec)\n",
    "    \n",
    "        # Step 4. Compute the loss, gradients, and update the parameters by calling\n",
    "        # optimizer.step()\n",
    "        loss = loss_function(log_probs, target)\n",
    "        loss.backward()\n",
    "        optimizer.step()"
   ]
  },
  {
   "cell_type": "code",
   "execution_count": 23,
   "metadata": {},
   "outputs": [
    {
     "name": "stdout",
     "output_type": "stream",
     "text": [
      "tensor([[-0.1691, -1.8609]], grad_fn=<LogSoftmaxBackward>)\n",
      "tensor([[-3.0068, -0.0507]], grad_fn=<LogSoftmaxBackward>)\n",
      "tensor([ 0.2330, -0.2865], grad_fn=<SelectBackward>)\n"
     ]
    },
    {
     "name": "stderr",
     "output_type": "stream",
     "text": [
      "<ipython-input-13-e818e59483ec>:22: UserWarning: Implicit dimension choice for log_softmax has been deprecated. Change the call to include dim=X as an argument.\n",
      "  return F.log_softmax(self.linear(bow_vec))\n"
     ]
    }
   ],
   "source": [
    "for instance, label in test_data:\n",
    "    bow_vec = autograd.Variable(make_bow_vector(instance, word_to_ix))\n",
    "    log_probs = model(bow_vec)\n",
    "    print(log_probs)\n",
    "print(next(model.parameters())[:,word_to_ix[\"creo\"]]) # Index corresponding to Spanish goes up, English goes down!"
   ]
  },
  {
   "cell_type": "markdown",
   "metadata": {},
   "source": [
    "We got the right answer!  You can see that the log probability for Spanish is much higher in the first example, and the log probability for English is much higher in the second for the test data, as it should be.\n",
    "\n",
    "Now you see how to make a Pytorch component, pass some data through it and do gradient updates.\n",
    "We are ready to dig deeper into what deep NLP has to offer."
   ]
  },
  {
   "cell_type": "code",
   "execution_count": null,
   "metadata": {},
   "outputs": [],
   "source": []
  }
 ],
 "metadata": {
  "kernelspec": {
   "display_name": "pytorch",
   "language": "python",
   "name": "pytorch"
  },
  "language_info": {
   "codemirror_mode": {
    "name": "ipython",
    "version": 3
   },
   "file_extension": ".py",
   "mimetype": "text/x-python",
   "name": "python",
   "nbconvert_exporter": "python",
   "pygments_lexer": "ipython3",
   "version": "3.9.1"
  },
  "toc": {
   "base_numbering": 1,
   "nav_menu": {},
   "number_sections": false,
   "sideBar": true,
   "skip_h1_title": false,
   "title_cell": "Table of Contents",
   "title_sidebar": "Contents",
   "toc_cell": true,
   "toc_position": {},
   "toc_section_display": true,
   "toc_window_display": false
  }
 },
 "nbformat": 4,
 "nbformat_minor": 2
}
